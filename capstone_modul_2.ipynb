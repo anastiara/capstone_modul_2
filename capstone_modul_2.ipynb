{
  "cells": [
    {
      "cell_type": "markdown",
      "metadata": {
        "id": "pww1CJYAG-gB"
      },
      "source": [
        "# Customer Personality Analysis\n",
        "\n",
        "by: Anastiara Adina Restu\n",
        "\n",
        "JCDS 1702 002"
      ]
    },
    {
      "cell_type": "markdown",
      "metadata": {
        "id": "BeXw_hFBG-gC"
      },
      "source": [
        "## Background\n",
        "\n",
        "Sales and Marketing team wants to know about their sales summary for the last two years based on their marketing campaign data. They believe that their data can help them to identify their customers' purchases behavior and they want to get insights from there to plan their next marketing strategy."
      ]
    },
    {
      "cell_type": "markdown",
      "metadata": {
        "id": "K5SoP_DfG-gC"
      },
      "source": [
        "## Problem Statements\n",
        "\n",
        "To answer the sales and marketing team's problem, here are the points needed to be answered by the analysis:\n",
        "\n",
        "- **Characteristics of customers who purchase products**\n",
        "- **Characteristics of customers who do transaction through channels**\n",
        "- **Relationship between Expenses and transaction channels**"
      ]
    },
    {
      "cell_type": "markdown",
      "metadata": {
        "id": "fP74_CLuG-gC"
      },
      "source": [
        "## Data\n",
        "\n",
        "This dataset contains informations about customers' education, marital status, income, amount of children or teens, amount of each products bought, transaction channels, and campaign offers for the last 2 years (2012-2014). There are 29 columns in marketing_campaign dataset :\n",
        "\n",
        "**People**\n",
        "* ID : Customer's unique identifier\n",
        "* Year_Birth : Customer's birth year\n",
        "* Education : Customer's education level\n",
        "* Marital_Status : Customer's marital status\n",
        "* Income : Customer's yearly household income\n",
        "* Kidhome : Number of children in customer's household\n",
        "* Teenhome : Number of teenagers in customer's household\n",
        "* Dt_Customer: Date of customer's enrollment with the company\n",
        "* Recency : Number of days since customer's last purchase\n",
        "* Complain : 1 if customer complained in the last 2 years, 0 otherwise.\n",
        "\n",
        "**Products**\n",
        "* MntWines: Amount spent on wine in last 2 years\n",
        "* MntFruits: Amount spent on fruits in last 2 years\n",
        "* MntMeatProducts: Amount spent on meat in last 2 years\n",
        "* MntFishProducts : Amount spent on fish in last 2 years\n",
        "* MntSweetProducts: Amount spent on sweets in last 2 years\n",
        "* MntGoldProds: Amount spent on gold in last 2 years\n",
        "\n",
        "**Promotion**\n",
        "* NumDealsPurchases : Number of purchases made with a discount\n",
        "* AcceptedCmp1: 1 if customer accepted the offer in the 1st campaign, 0 otherwise.\n",
        "* AcceptedCmp2: 1 if customer accepted the offer in the 2nd campaign, 0 otherwise.\n",
        "* AcceptedCmp3: 1 if customer accepted the offer in the 3rd campaign, 0 otherwise.\n",
        "* AcceptedCmp4: 1 if customer accepted the offer in the 4th campaign, 0 otherwise.\n",
        "* AcceptedCmp5: 1 if customer accepted the offer in the 5th campaign, 0 otherwise.\n",
        "* Response: 1 if customer accepted the offer in the last campaign, 0 otherwise.\n",
        "\n",
        "**Channels**\n",
        "* NumWebPurchases: Number of purchases made through the company’s web site.\n",
        "* NumCatalogPurchases: Number of purchases made using a catalogue.\n",
        "* NumStorePurchases: Number of purchases made directly in stores.\n",
        "* NumWebVisitsMonth: Number of visits to company’s web site in the last month."
      ]
    },
    {
      "cell_type": "code",
      "execution_count": 1,
      "metadata": {
        "id": "_hFFFrQpG-gK"
      },
      "outputs": [],
      "source": [
        "# Analytics libraries\n",
        "import pandas as pd\n",
        "import numpy as np\n",
        "\n",
        "# Visualization libraries\n",
        "import seaborn as sns\n",
        "import matplotlib.pyplot as plt\n",
        "import plotly.express as px\n",
        "import plotly.graph_objects as go \n",
        "\n",
        "# other\n",
        "import warnings\n",
        "warnings.filterwarnings(\"ignore\")"
      ]
    },
    {
      "cell_type": "markdown",
      "metadata": {
        "id": "XPv-YD0HG-gL"
      },
      "source": [
        "## Data Understanding and Data Cleaning\n",
        "\n",
        "### Data Understanding\n",
        "Before doing the analysis, we need to have understanding on the data itself. In this part, we will identify more informations about the data and the anomalies that later on we will handle in data cleaning part."
      ]
    },
    {
      "cell_type": "markdown",
      "metadata": {
        "id": "8Ont9lmbG-gL"
      },
      "source": [
        "### Loading dataset\n",
        "\n",
        "The very first thing to do is load the dataset to notebook using pandas library that I have imported earlier. Here are top 5 rows and bottom 5 rows of the dataset"
      ]
    },
    {
      "cell_type": "code",
      "execution_count": 2,
      "metadata": {
        "colab": {
          "base_uri": "https://localhost:8080/",
          "height": 459
        },
        "id": "hZzU_V0BG-gL",
        "outputId": "eec46539-656f-4277-fa17-09ca39444214"
      },
      "outputs": [
        {
          "data": {
            "text/html": [
              "<div>\n",
              "<style scoped>\n",
              "    .dataframe tbody tr th:only-of-type {\n",
              "        vertical-align: middle;\n",
              "    }\n",
              "\n",
              "    .dataframe tbody tr th {\n",
              "        vertical-align: top;\n",
              "    }\n",
              "\n",
              "    .dataframe thead th {\n",
              "        text-align: right;\n",
              "    }\n",
              "</style>\n",
              "<table border=\"1\" class=\"dataframe\">\n",
              "  <thead>\n",
              "    <tr style=\"text-align: right;\">\n",
              "      <th></th>\n",
              "      <th>ID</th>\n",
              "      <th>Year_Birth</th>\n",
              "      <th>Education</th>\n",
              "      <th>Marital_Status</th>\n",
              "      <th>Income</th>\n",
              "      <th>Kidhome</th>\n",
              "      <th>Teenhome</th>\n",
              "      <th>Dt_Customer</th>\n",
              "      <th>Recency</th>\n",
              "      <th>MntWines</th>\n",
              "      <th>MntFruits</th>\n",
              "      <th>MntMeatProducts</th>\n",
              "      <th>MntFishProducts</th>\n",
              "      <th>MntSweetProducts</th>\n",
              "      <th>MntGoldProds</th>\n",
              "      <th>NumDealsPurchases</th>\n",
              "      <th>NumWebPurchases</th>\n",
              "      <th>NumCatalogPurchases</th>\n",
              "      <th>NumStorePurchases</th>\n",
              "      <th>NumWebVisitsMonth</th>\n",
              "      <th>AcceptedCmp3</th>\n",
              "      <th>AcceptedCmp4</th>\n",
              "      <th>AcceptedCmp5</th>\n",
              "      <th>AcceptedCmp1</th>\n",
              "      <th>AcceptedCmp2</th>\n",
              "      <th>Complain</th>\n",
              "      <th>Z_CostContact</th>\n",
              "      <th>Z_Revenue</th>\n",
              "      <th>Response</th>\n",
              "    </tr>\n",
              "  </thead>\n",
              "  <tbody>\n",
              "    <tr>\n",
              "      <th>0</th>\n",
              "      <td>\\n5524</td>\n",
              "      <td>1957.0</td>\n",
              "      <td>Graduation</td>\n",
              "      <td>Single</td>\n",
              "      <td>58138.0</td>\n",
              "      <td>0.0</td>\n",
              "      <td>0.0</td>\n",
              "      <td>04-09-2012</td>\n",
              "      <td>58.0</td>\n",
              "      <td>635.0</td>\n",
              "      <td>88.0</td>\n",
              "      <td>546.0</td>\n",
              "      <td>172.0</td>\n",
              "      <td>88.0</td>\n",
              "      <td>88.0</td>\n",
              "      <td>3.0</td>\n",
              "      <td>8.0</td>\n",
              "      <td>10.0</td>\n",
              "      <td>4.0</td>\n",
              "      <td>7.0</td>\n",
              "      <td>0.0</td>\n",
              "      <td>0.0</td>\n",
              "      <td>0.0</td>\n",
              "      <td>0.0</td>\n",
              "      <td>0.0</td>\n",
              "      <td>0.0</td>\n",
              "      <td>3.0</td>\n",
              "      <td>11.0</td>\n",
              "      <td>1.0</td>\n",
              "    </tr>\n",
              "    <tr>\n",
              "      <th>1</th>\n",
              "      <td>\\n2174</td>\n",
              "      <td>1954.0</td>\n",
              "      <td>Graduation</td>\n",
              "      <td>Single</td>\n",
              "      <td>46344.0</td>\n",
              "      <td>1.0</td>\n",
              "      <td>1.0</td>\n",
              "      <td>08-03-2014</td>\n",
              "      <td>38.0</td>\n",
              "      <td>11.0</td>\n",
              "      <td>1.0</td>\n",
              "      <td>6.0</td>\n",
              "      <td>2.0</td>\n",
              "      <td>1.0</td>\n",
              "      <td>6.0</td>\n",
              "      <td>2.0</td>\n",
              "      <td>1.0</td>\n",
              "      <td>1.0</td>\n",
              "      <td>2.0</td>\n",
              "      <td>5.0</td>\n",
              "      <td>0.0</td>\n",
              "      <td>0.0</td>\n",
              "      <td>0.0</td>\n",
              "      <td>0.0</td>\n",
              "      <td>0.0</td>\n",
              "      <td>0.0</td>\n",
              "      <td>3.0</td>\n",
              "      <td>11.0</td>\n",
              "      <td>0.0</td>\n",
              "    </tr>\n",
              "    <tr>\n",
              "      <th>2</th>\n",
              "      <td>\\n4141</td>\n",
              "      <td>1965.0</td>\n",
              "      <td>Graduation</td>\n",
              "      <td>Together</td>\n",
              "      <td>71613.0</td>\n",
              "      <td>0.0</td>\n",
              "      <td>0.0</td>\n",
              "      <td>21-08-2013</td>\n",
              "      <td>26.0</td>\n",
              "      <td>426.0</td>\n",
              "      <td>49.0</td>\n",
              "      <td>127.0</td>\n",
              "      <td>111.0</td>\n",
              "      <td>21.0</td>\n",
              "      <td>42.0</td>\n",
              "      <td>1.0</td>\n",
              "      <td>8.0</td>\n",
              "      <td>2.0</td>\n",
              "      <td>10.0</td>\n",
              "      <td>4.0</td>\n",
              "      <td>0.0</td>\n",
              "      <td>0.0</td>\n",
              "      <td>0.0</td>\n",
              "      <td>0.0</td>\n",
              "      <td>0.0</td>\n",
              "      <td>0.0</td>\n",
              "      <td>3.0</td>\n",
              "      <td>11.0</td>\n",
              "      <td>0.0</td>\n",
              "    </tr>\n",
              "    <tr>\n",
              "      <th>3</th>\n",
              "      <td>\\n6182</td>\n",
              "      <td>1984.0</td>\n",
              "      <td>Graduation</td>\n",
              "      <td>Together</td>\n",
              "      <td>26646.0</td>\n",
              "      <td>1.0</td>\n",
              "      <td>0.0</td>\n",
              "      <td>10-02-2014</td>\n",
              "      <td>26.0</td>\n",
              "      <td>11.0</td>\n",
              "      <td>4.0</td>\n",
              "      <td>20.0</td>\n",
              "      <td>10.0</td>\n",
              "      <td>3.0</td>\n",
              "      <td>5.0</td>\n",
              "      <td>2.0</td>\n",
              "      <td>2.0</td>\n",
              "      <td>0.0</td>\n",
              "      <td>4.0</td>\n",
              "      <td>6.0</td>\n",
              "      <td>0.0</td>\n",
              "      <td>0.0</td>\n",
              "      <td>0.0</td>\n",
              "      <td>0.0</td>\n",
              "      <td>0.0</td>\n",
              "      <td>0.0</td>\n",
              "      <td>3.0</td>\n",
              "      <td>11.0</td>\n",
              "      <td>0.0</td>\n",
              "    </tr>\n",
              "    <tr>\n",
              "      <th>4</th>\n",
              "      <td>\\n5324</td>\n",
              "      <td>1981.0</td>\n",
              "      <td>PhD</td>\n",
              "      <td>Married</td>\n",
              "      <td>58293.0</td>\n",
              "      <td>1.0</td>\n",
              "      <td>0.0</td>\n",
              "      <td>19-01-2014</td>\n",
              "      <td>94.0</td>\n",
              "      <td>173.0</td>\n",
              "      <td>43.0</td>\n",
              "      <td>118.0</td>\n",
              "      <td>46.0</td>\n",
              "      <td>27.0</td>\n",
              "      <td>15.0</td>\n",
              "      <td>5.0</td>\n",
              "      <td>5.0</td>\n",
              "      <td>3.0</td>\n",
              "      <td>6.0</td>\n",
              "      <td>5.0</td>\n",
              "      <td>0.0</td>\n",
              "      <td>0.0</td>\n",
              "      <td>0.0</td>\n",
              "      <td>0.0</td>\n",
              "      <td>0.0</td>\n",
              "      <td>0.0</td>\n",
              "      <td>3.0</td>\n",
              "      <td>11.0</td>\n",
              "      <td>0.0</td>\n",
              "    </tr>\n",
              "  </tbody>\n",
              "</table>\n",
              "</div>"
            ],
            "text/plain": [
              "       ID  Year_Birth   Education Marital_Status   Income  Kidhome  Teenhome  \\\n",
              "0  \\n5524      1957.0  Graduation         Single  58138.0      0.0       0.0   \n",
              "1  \\n2174      1954.0  Graduation         Single  46344.0      1.0       1.0   \n",
              "2  \\n4141      1965.0  Graduation       Together  71613.0      0.0       0.0   \n",
              "3  \\n6182      1984.0  Graduation       Together  26646.0      1.0       0.0   \n",
              "4  \\n5324      1981.0         PhD        Married  58293.0      1.0       0.0   \n",
              "\n",
              "  Dt_Customer  Recency  MntWines  MntFruits  MntMeatProducts  MntFishProducts  \\\n",
              "0  04-09-2012     58.0     635.0       88.0            546.0            172.0   \n",
              "1  08-03-2014     38.0      11.0        1.0              6.0              2.0   \n",
              "2  21-08-2013     26.0     426.0       49.0            127.0            111.0   \n",
              "3  10-02-2014     26.0      11.0        4.0             20.0             10.0   \n",
              "4  19-01-2014     94.0     173.0       43.0            118.0             46.0   \n",
              "\n",
              "   MntSweetProducts  MntGoldProds  NumDealsPurchases  NumWebPurchases  \\\n",
              "0              88.0          88.0                3.0              8.0   \n",
              "1               1.0           6.0                2.0              1.0   \n",
              "2              21.0          42.0                1.0              8.0   \n",
              "3               3.0           5.0                2.0              2.0   \n",
              "4              27.0          15.0                5.0              5.0   \n",
              "\n",
              "   NumCatalogPurchases  NumStorePurchases  NumWebVisitsMonth  AcceptedCmp3  \\\n",
              "0                 10.0                4.0                7.0           0.0   \n",
              "1                  1.0                2.0                5.0           0.0   \n",
              "2                  2.0               10.0                4.0           0.0   \n",
              "3                  0.0                4.0                6.0           0.0   \n",
              "4                  3.0                6.0                5.0           0.0   \n",
              "\n",
              "   AcceptedCmp4  AcceptedCmp5  AcceptedCmp1  AcceptedCmp2  Complain  \\\n",
              "0           0.0           0.0           0.0           0.0       0.0   \n",
              "1           0.0           0.0           0.0           0.0       0.0   \n",
              "2           0.0           0.0           0.0           0.0       0.0   \n",
              "3           0.0           0.0           0.0           0.0       0.0   \n",
              "4           0.0           0.0           0.0           0.0       0.0   \n",
              "\n",
              "   Z_CostContact  Z_Revenue  Response  \n",
              "0            3.0       11.0       1.0  \n",
              "1            3.0       11.0       0.0  \n",
              "2            3.0       11.0       0.0  \n",
              "3            3.0       11.0       0.0  \n",
              "4            3.0       11.0       0.0  "
            ]
          },
          "metadata": {},
          "output_type": "display_data"
        },
        {
          "data": {
            "text/html": [
              "<div>\n",
              "<style scoped>\n",
              "    .dataframe tbody tr th:only-of-type {\n",
              "        vertical-align: middle;\n",
              "    }\n",
              "\n",
              "    .dataframe tbody tr th {\n",
              "        vertical-align: top;\n",
              "    }\n",
              "\n",
              "    .dataframe thead th {\n",
              "        text-align: right;\n",
              "    }\n",
              "</style>\n",
              "<table border=\"1\" class=\"dataframe\">\n",
              "  <thead>\n",
              "    <tr style=\"text-align: right;\">\n",
              "      <th></th>\n",
              "      <th>ID</th>\n",
              "      <th>Year_Birth</th>\n",
              "      <th>Education</th>\n",
              "      <th>Marital_Status</th>\n",
              "      <th>Income</th>\n",
              "      <th>Kidhome</th>\n",
              "      <th>Teenhome</th>\n",
              "      <th>Dt_Customer</th>\n",
              "      <th>Recency</th>\n",
              "      <th>MntWines</th>\n",
              "      <th>MntFruits</th>\n",
              "      <th>MntMeatProducts</th>\n",
              "      <th>MntFishProducts</th>\n",
              "      <th>MntSweetProducts</th>\n",
              "      <th>MntGoldProds</th>\n",
              "      <th>NumDealsPurchases</th>\n",
              "      <th>NumWebPurchases</th>\n",
              "      <th>NumCatalogPurchases</th>\n",
              "      <th>NumStorePurchases</th>\n",
              "      <th>NumWebVisitsMonth</th>\n",
              "      <th>AcceptedCmp3</th>\n",
              "      <th>AcceptedCmp4</th>\n",
              "      <th>AcceptedCmp5</th>\n",
              "      <th>AcceptedCmp1</th>\n",
              "      <th>AcceptedCmp2</th>\n",
              "      <th>Complain</th>\n",
              "      <th>Z_CostContact</th>\n",
              "      <th>Z_Revenue</th>\n",
              "      <th>Response</th>\n",
              "    </tr>\n",
              "  </thead>\n",
              "  <tbody>\n",
              "    <tr>\n",
              "      <th>2236</th>\n",
              "      <td>\\n4001</td>\n",
              "      <td>1946.0</td>\n",
              "      <td>PhD</td>\n",
              "      <td>Together</td>\n",
              "      <td>64014.0</td>\n",
              "      <td>2.0</td>\n",
              "      <td>1.0</td>\n",
              "      <td>10-06-2014</td>\n",
              "      <td>56.0</td>\n",
              "      <td>406.0</td>\n",
              "      <td>0.0</td>\n",
              "      <td>30.0</td>\n",
              "      <td>0.0</td>\n",
              "      <td>0.0</td>\n",
              "      <td>8.0</td>\n",
              "      <td>7.0</td>\n",
              "      <td>8.0</td>\n",
              "      <td>2.0</td>\n",
              "      <td>5.0</td>\n",
              "      <td>7.0</td>\n",
              "      <td>0.0</td>\n",
              "      <td>0.0</td>\n",
              "      <td>0.0</td>\n",
              "      <td>1.0</td>\n",
              "      <td>0.0</td>\n",
              "      <td>0.0</td>\n",
              "      <td>3.0</td>\n",
              "      <td>11.0</td>\n",
              "      <td>0.0</td>\n",
              "    </tr>\n",
              "    <tr>\n",
              "      <th>2237</th>\n",
              "      <td>\\n7270</td>\n",
              "      <td>1981.0</td>\n",
              "      <td>Graduation</td>\n",
              "      <td>Divorced</td>\n",
              "      <td>56981.0</td>\n",
              "      <td>0.0</td>\n",
              "      <td>0.0</td>\n",
              "      <td>25-01-2014</td>\n",
              "      <td>91.0</td>\n",
              "      <td>908.0</td>\n",
              "      <td>48.0</td>\n",
              "      <td>217.0</td>\n",
              "      <td>32.0</td>\n",
              "      <td>12.0</td>\n",
              "      <td>24.0</td>\n",
              "      <td>1.0</td>\n",
              "      <td>2.0</td>\n",
              "      <td>3.0</td>\n",
              "      <td>13.0</td>\n",
              "      <td>6.0</td>\n",
              "      <td>0.0</td>\n",
              "      <td>1.0</td>\n",
              "      <td>0.0</td>\n",
              "      <td>0.0</td>\n",
              "      <td>0.0</td>\n",
              "      <td>0.0</td>\n",
              "      <td>3.0</td>\n",
              "      <td>11.0</td>\n",
              "      <td>0.0</td>\n",
              "    </tr>\n",
              "    <tr>\n",
              "      <th>2238</th>\n",
              "      <td>\\n8235</td>\n",
              "      <td>1956.0</td>\n",
              "      <td>Master</td>\n",
              "      <td>Together</td>\n",
              "      <td>69245.0</td>\n",
              "      <td>0.0</td>\n",
              "      <td>1.0</td>\n",
              "      <td>24-01-2014</td>\n",
              "      <td>8.0</td>\n",
              "      <td>428.0</td>\n",
              "      <td>30.0</td>\n",
              "      <td>214.0</td>\n",
              "      <td>80.0</td>\n",
              "      <td>30.0</td>\n",
              "      <td>61.0</td>\n",
              "      <td>2.0</td>\n",
              "      <td>6.0</td>\n",
              "      <td>5.0</td>\n",
              "      <td>10.0</td>\n",
              "      <td>3.0</td>\n",
              "      <td>0.0</td>\n",
              "      <td>0.0</td>\n",
              "      <td>0.0</td>\n",
              "      <td>0.0</td>\n",
              "      <td>0.0</td>\n",
              "      <td>0.0</td>\n",
              "      <td>3.0</td>\n",
              "      <td>11.0</td>\n",
              "      <td>0.0</td>\n",
              "    </tr>\n",
              "    <tr>\n",
              "      <th>2239</th>\n",
              "      <td>\\n9405</td>\n",
              "      <td>1954.0</td>\n",
              "      <td>PhD</td>\n",
              "      <td>Married</td>\n",
              "      <td>52869.0</td>\n",
              "      <td>1.0</td>\n",
              "      <td>1.0</td>\n",
              "      <td>15-10-2012</td>\n",
              "      <td>40.0</td>\n",
              "      <td>84.0</td>\n",
              "      <td>3.0</td>\n",
              "      <td>61.0</td>\n",
              "      <td>2.0</td>\n",
              "      <td>1.0</td>\n",
              "      <td>21.0</td>\n",
              "      <td>3.0</td>\n",
              "      <td>3.0</td>\n",
              "      <td>1.0</td>\n",
              "      <td>4.0</td>\n",
              "      <td>7.0</td>\n",
              "      <td>0.0</td>\n",
              "      <td>0.0</td>\n",
              "      <td>0.0</td>\n",
              "      <td>0.0</td>\n",
              "      <td>0.0</td>\n",
              "      <td>0.0</td>\n",
              "      <td>3.0</td>\n",
              "      <td>11.0</td>\n",
              "      <td>1.0</td>\n",
              "    </tr>\n",
              "    <tr>\n",
              "      <th>2240</th>\n",
              "      <td>\\n</td>\n",
              "      <td>NaN</td>\n",
              "      <td>NaN</td>\n",
              "      <td>NaN</td>\n",
              "      <td>NaN</td>\n",
              "      <td>NaN</td>\n",
              "      <td>NaN</td>\n",
              "      <td>NaN</td>\n",
              "      <td>NaN</td>\n",
              "      <td>NaN</td>\n",
              "      <td>NaN</td>\n",
              "      <td>NaN</td>\n",
              "      <td>NaN</td>\n",
              "      <td>NaN</td>\n",
              "      <td>NaN</td>\n",
              "      <td>NaN</td>\n",
              "      <td>NaN</td>\n",
              "      <td>NaN</td>\n",
              "      <td>NaN</td>\n",
              "      <td>NaN</td>\n",
              "      <td>NaN</td>\n",
              "      <td>NaN</td>\n",
              "      <td>NaN</td>\n",
              "      <td>NaN</td>\n",
              "      <td>NaN</td>\n",
              "      <td>NaN</td>\n",
              "      <td>NaN</td>\n",
              "      <td>NaN</td>\n",
              "      <td>NaN</td>\n",
              "    </tr>\n",
              "  </tbody>\n",
              "</table>\n",
              "</div>"
            ],
            "text/plain": [
              "          ID  Year_Birth   Education Marital_Status   Income  Kidhome  \\\n",
              "2236  \\n4001      1946.0         PhD       Together  64014.0      2.0   \n",
              "2237  \\n7270      1981.0  Graduation       Divorced  56981.0      0.0   \n",
              "2238  \\n8235      1956.0      Master       Together  69245.0      0.0   \n",
              "2239  \\n9405      1954.0         PhD        Married  52869.0      1.0   \n",
              "2240      \\n         NaN         NaN            NaN      NaN      NaN   \n",
              "\n",
              "      Teenhome Dt_Customer  Recency  MntWines  MntFruits  MntMeatProducts  \\\n",
              "2236       1.0  10-06-2014     56.0     406.0        0.0             30.0   \n",
              "2237       0.0  25-01-2014     91.0     908.0       48.0            217.0   \n",
              "2238       1.0  24-01-2014      8.0     428.0       30.0            214.0   \n",
              "2239       1.0  15-10-2012     40.0      84.0        3.0             61.0   \n",
              "2240       NaN         NaN      NaN       NaN        NaN              NaN   \n",
              "\n",
              "      MntFishProducts  MntSweetProducts  MntGoldProds  NumDealsPurchases  \\\n",
              "2236              0.0               0.0           8.0                7.0   \n",
              "2237             32.0              12.0          24.0                1.0   \n",
              "2238             80.0              30.0          61.0                2.0   \n",
              "2239              2.0               1.0          21.0                3.0   \n",
              "2240              NaN               NaN           NaN                NaN   \n",
              "\n",
              "      NumWebPurchases  NumCatalogPurchases  NumStorePurchases  \\\n",
              "2236              8.0                  2.0                5.0   \n",
              "2237              2.0                  3.0               13.0   \n",
              "2238              6.0                  5.0               10.0   \n",
              "2239              3.0                  1.0                4.0   \n",
              "2240              NaN                  NaN                NaN   \n",
              "\n",
              "      NumWebVisitsMonth  AcceptedCmp3  AcceptedCmp4  AcceptedCmp5  \\\n",
              "2236                7.0           0.0           0.0           0.0   \n",
              "2237                6.0           0.0           1.0           0.0   \n",
              "2238                3.0           0.0           0.0           0.0   \n",
              "2239                7.0           0.0           0.0           0.0   \n",
              "2240                NaN           NaN           NaN           NaN   \n",
              "\n",
              "      AcceptedCmp1  AcceptedCmp2  Complain  Z_CostContact  Z_Revenue  Response  \n",
              "2236           1.0           0.0       0.0            3.0       11.0       0.0  \n",
              "2237           0.0           0.0       0.0            3.0       11.0       0.0  \n",
              "2238           0.0           0.0       0.0            3.0       11.0       0.0  \n",
              "2239           0.0           0.0       0.0            3.0       11.0       1.0  \n",
              "2240           NaN           NaN       NaN            NaN        NaN       NaN  "
            ]
          },
          "metadata": {},
          "output_type": "display_data"
        }
      ],
      "source": [
        "df = pd.read_csv('marketing_campaign.csv',sep='\\t', lineterminator='\\r')\n",
        "pd.set_option(\"display.max_columns\",None)\n",
        "display(df.head(),df.tail())"
      ]
    },
    {
      "cell_type": "markdown",
      "metadata": {
        "id": "zGQrlM47G-gM"
      },
      "source": [
        "Get the information about amount of rows and columns, also data types and null values of columns"
      ]
    },
    {
      "cell_type": "code",
      "execution_count": 3,
      "metadata": {
        "colab": {
          "base_uri": "https://localhost:8080/"
        },
        "id": "h5NgchuNG-gM",
        "outputId": "47db1947-cd52-4486-f2fd-b4309ff89e40"
      },
      "outputs": [
        {
          "name": "stdout",
          "output_type": "stream",
          "text": [
            "The amount of rows and columns in the df dataset are (2241, 29)\n",
            "<class 'pandas.core.frame.DataFrame'>\n",
            "RangeIndex: 2241 entries, 0 to 2240\n",
            "Data columns (total 29 columns):\n",
            " #   Column               Non-Null Count  Dtype  \n",
            "---  ------               --------------  -----  \n",
            " 0   ID                   2241 non-null   object \n",
            " 1   Year_Birth           2240 non-null   float64\n",
            " 2   Education            2240 non-null   object \n",
            " 3   Marital_Status       2240 non-null   object \n",
            " 4   Income               2216 non-null   float64\n",
            " 5   Kidhome              2240 non-null   float64\n",
            " 6   Teenhome             2240 non-null   float64\n",
            " 7   Dt_Customer          2240 non-null   object \n",
            " 8   Recency              2240 non-null   float64\n",
            " 9   MntWines             2240 non-null   float64\n",
            " 10  MntFruits            2240 non-null   float64\n",
            " 11  MntMeatProducts      2240 non-null   float64\n",
            " 12  MntFishProducts      2240 non-null   float64\n",
            " 13  MntSweetProducts     2240 non-null   float64\n",
            " 14  MntGoldProds         2240 non-null   float64\n",
            " 15  NumDealsPurchases    2240 non-null   float64\n",
            " 16  NumWebPurchases      2240 non-null   float64\n",
            " 17  NumCatalogPurchases  2240 non-null   float64\n",
            " 18  NumStorePurchases    2240 non-null   float64\n",
            " 19  NumWebVisitsMonth    2240 non-null   float64\n",
            " 20  AcceptedCmp3         2240 non-null   float64\n",
            " 21  AcceptedCmp4         2240 non-null   float64\n",
            " 22  AcceptedCmp5         2240 non-null   float64\n",
            " 23  AcceptedCmp1         2240 non-null   float64\n",
            " 24  AcceptedCmp2         2240 non-null   float64\n",
            " 25  Complain             2240 non-null   float64\n",
            " 26  Z_CostContact        2240 non-null   float64\n",
            " 27  Z_Revenue            2240 non-null   float64\n",
            " 28  Response             2240 non-null   float64\n",
            "dtypes: float64(25), object(4)\n",
            "memory usage: 507.9+ KB\n"
          ]
        }
      ],
      "source": [
        "print(f'The amount of rows and columns in the df dataset are {df.shape}')\n",
        "df.info()"
      ]
    },
    {
      "cell_type": "markdown",
      "metadata": {
        "id": "x_qAqlnYG-gM"
      },
      "source": [
        "Get the summary of descriptive statistics of df dataset"
      ]
    },
    {
      "cell_type": "code",
      "execution_count": 4,
      "metadata": {
        "colab": {
          "base_uri": "https://localhost:8080/",
          "height": 522
        },
        "id": "R4ey44R7G-gN",
        "outputId": "ffe56a6d-18f8-4a6e-f2f3-7bcb0d73d745"
      },
      "outputs": [
        {
          "data": {
            "text/html": [
              "<div>\n",
              "<style scoped>\n",
              "    .dataframe tbody tr th:only-of-type {\n",
              "        vertical-align: middle;\n",
              "    }\n",
              "\n",
              "    .dataframe tbody tr th {\n",
              "        vertical-align: top;\n",
              "    }\n",
              "\n",
              "    .dataframe thead th {\n",
              "        text-align: right;\n",
              "    }\n",
              "</style>\n",
              "<table border=\"1\" class=\"dataframe\">\n",
              "  <thead>\n",
              "    <tr style=\"text-align: right;\">\n",
              "      <th></th>\n",
              "      <th>Year_Birth</th>\n",
              "      <th>Income</th>\n",
              "      <th>Kidhome</th>\n",
              "      <th>Teenhome</th>\n",
              "      <th>Recency</th>\n",
              "      <th>MntWines</th>\n",
              "      <th>MntFruits</th>\n",
              "      <th>MntMeatProducts</th>\n",
              "      <th>MntFishProducts</th>\n",
              "      <th>MntSweetProducts</th>\n",
              "      <th>MntGoldProds</th>\n",
              "      <th>NumDealsPurchases</th>\n",
              "      <th>NumWebPurchases</th>\n",
              "      <th>NumCatalogPurchases</th>\n",
              "      <th>NumStorePurchases</th>\n",
              "      <th>NumWebVisitsMonth</th>\n",
              "      <th>AcceptedCmp3</th>\n",
              "      <th>AcceptedCmp4</th>\n",
              "      <th>AcceptedCmp5</th>\n",
              "      <th>AcceptedCmp1</th>\n",
              "      <th>AcceptedCmp2</th>\n",
              "      <th>Complain</th>\n",
              "      <th>Z_CostContact</th>\n",
              "      <th>Z_Revenue</th>\n",
              "      <th>Response</th>\n",
              "    </tr>\n",
              "  </thead>\n",
              "  <tbody>\n",
              "    <tr>\n",
              "      <th>count</th>\n",
              "      <td>2240.000000</td>\n",
              "      <td>2216.000000</td>\n",
              "      <td>2240.000000</td>\n",
              "      <td>2240.000000</td>\n",
              "      <td>2240.000000</td>\n",
              "      <td>2240.000000</td>\n",
              "      <td>2240.000000</td>\n",
              "      <td>2240.000000</td>\n",
              "      <td>2240.000000</td>\n",
              "      <td>2240.000000</td>\n",
              "      <td>2240.000000</td>\n",
              "      <td>2240.000000</td>\n",
              "      <td>2240.000000</td>\n",
              "      <td>2240.000000</td>\n",
              "      <td>2240.000000</td>\n",
              "      <td>2240.000000</td>\n",
              "      <td>2240.000000</td>\n",
              "      <td>2240.000000</td>\n",
              "      <td>2240.000000</td>\n",
              "      <td>2240.000000</td>\n",
              "      <td>2240.000000</td>\n",
              "      <td>2240.000000</td>\n",
              "      <td>2240.0</td>\n",
              "      <td>2240.0</td>\n",
              "      <td>2240.000000</td>\n",
              "    </tr>\n",
              "    <tr>\n",
              "      <th>mean</th>\n",
              "      <td>1968.805804</td>\n",
              "      <td>52247.251354</td>\n",
              "      <td>0.444196</td>\n",
              "      <td>0.506250</td>\n",
              "      <td>49.109375</td>\n",
              "      <td>303.935714</td>\n",
              "      <td>26.302232</td>\n",
              "      <td>166.950000</td>\n",
              "      <td>37.525446</td>\n",
              "      <td>27.062946</td>\n",
              "      <td>44.021875</td>\n",
              "      <td>2.325000</td>\n",
              "      <td>4.084821</td>\n",
              "      <td>2.662054</td>\n",
              "      <td>5.790179</td>\n",
              "      <td>5.316518</td>\n",
              "      <td>0.072768</td>\n",
              "      <td>0.074554</td>\n",
              "      <td>0.072768</td>\n",
              "      <td>0.064286</td>\n",
              "      <td>0.013393</td>\n",
              "      <td>0.009375</td>\n",
              "      <td>3.0</td>\n",
              "      <td>11.0</td>\n",
              "      <td>0.149107</td>\n",
              "    </tr>\n",
              "    <tr>\n",
              "      <th>std</th>\n",
              "      <td>11.984069</td>\n",
              "      <td>25173.076661</td>\n",
              "      <td>0.538398</td>\n",
              "      <td>0.544538</td>\n",
              "      <td>28.962453</td>\n",
              "      <td>336.597393</td>\n",
              "      <td>39.773434</td>\n",
              "      <td>225.715373</td>\n",
              "      <td>54.628979</td>\n",
              "      <td>41.280498</td>\n",
              "      <td>52.167439</td>\n",
              "      <td>1.932238</td>\n",
              "      <td>2.778714</td>\n",
              "      <td>2.923101</td>\n",
              "      <td>3.250958</td>\n",
              "      <td>2.426645</td>\n",
              "      <td>0.259813</td>\n",
              "      <td>0.262728</td>\n",
              "      <td>0.259813</td>\n",
              "      <td>0.245316</td>\n",
              "      <td>0.114976</td>\n",
              "      <td>0.096391</td>\n",
              "      <td>0.0</td>\n",
              "      <td>0.0</td>\n",
              "      <td>0.356274</td>\n",
              "    </tr>\n",
              "    <tr>\n",
              "      <th>min</th>\n",
              "      <td>1893.000000</td>\n",
              "      <td>1730.000000</td>\n",
              "      <td>0.000000</td>\n",
              "      <td>0.000000</td>\n",
              "      <td>0.000000</td>\n",
              "      <td>0.000000</td>\n",
              "      <td>0.000000</td>\n",
              "      <td>0.000000</td>\n",
              "      <td>0.000000</td>\n",
              "      <td>0.000000</td>\n",
              "      <td>0.000000</td>\n",
              "      <td>0.000000</td>\n",
              "      <td>0.000000</td>\n",
              "      <td>0.000000</td>\n",
              "      <td>0.000000</td>\n",
              "      <td>0.000000</td>\n",
              "      <td>0.000000</td>\n",
              "      <td>0.000000</td>\n",
              "      <td>0.000000</td>\n",
              "      <td>0.000000</td>\n",
              "      <td>0.000000</td>\n",
              "      <td>0.000000</td>\n",
              "      <td>3.0</td>\n",
              "      <td>11.0</td>\n",
              "      <td>0.000000</td>\n",
              "    </tr>\n",
              "    <tr>\n",
              "      <th>25%</th>\n",
              "      <td>1959.000000</td>\n",
              "      <td>35303.000000</td>\n",
              "      <td>0.000000</td>\n",
              "      <td>0.000000</td>\n",
              "      <td>24.000000</td>\n",
              "      <td>23.750000</td>\n",
              "      <td>1.000000</td>\n",
              "      <td>16.000000</td>\n",
              "      <td>3.000000</td>\n",
              "      <td>1.000000</td>\n",
              "      <td>9.000000</td>\n",
              "      <td>1.000000</td>\n",
              "      <td>2.000000</td>\n",
              "      <td>0.000000</td>\n",
              "      <td>3.000000</td>\n",
              "      <td>3.000000</td>\n",
              "      <td>0.000000</td>\n",
              "      <td>0.000000</td>\n",
              "      <td>0.000000</td>\n",
              "      <td>0.000000</td>\n",
              "      <td>0.000000</td>\n",
              "      <td>0.000000</td>\n",
              "      <td>3.0</td>\n",
              "      <td>11.0</td>\n",
              "      <td>0.000000</td>\n",
              "    </tr>\n",
              "    <tr>\n",
              "      <th>50%</th>\n",
              "      <td>1970.000000</td>\n",
              "      <td>51381.500000</td>\n",
              "      <td>0.000000</td>\n",
              "      <td>0.000000</td>\n",
              "      <td>49.000000</td>\n",
              "      <td>173.500000</td>\n",
              "      <td>8.000000</td>\n",
              "      <td>67.000000</td>\n",
              "      <td>12.000000</td>\n",
              "      <td>8.000000</td>\n",
              "      <td>24.000000</td>\n",
              "      <td>2.000000</td>\n",
              "      <td>4.000000</td>\n",
              "      <td>2.000000</td>\n",
              "      <td>5.000000</td>\n",
              "      <td>6.000000</td>\n",
              "      <td>0.000000</td>\n",
              "      <td>0.000000</td>\n",
              "      <td>0.000000</td>\n",
              "      <td>0.000000</td>\n",
              "      <td>0.000000</td>\n",
              "      <td>0.000000</td>\n",
              "      <td>3.0</td>\n",
              "      <td>11.0</td>\n",
              "      <td>0.000000</td>\n",
              "    </tr>\n",
              "    <tr>\n",
              "      <th>75%</th>\n",
              "      <td>1977.000000</td>\n",
              "      <td>68522.000000</td>\n",
              "      <td>1.000000</td>\n",
              "      <td>1.000000</td>\n",
              "      <td>74.000000</td>\n",
              "      <td>504.250000</td>\n",
              "      <td>33.000000</td>\n",
              "      <td>232.000000</td>\n",
              "      <td>50.000000</td>\n",
              "      <td>33.000000</td>\n",
              "      <td>56.000000</td>\n",
              "      <td>3.000000</td>\n",
              "      <td>6.000000</td>\n",
              "      <td>4.000000</td>\n",
              "      <td>8.000000</td>\n",
              "      <td>7.000000</td>\n",
              "      <td>0.000000</td>\n",
              "      <td>0.000000</td>\n",
              "      <td>0.000000</td>\n",
              "      <td>0.000000</td>\n",
              "      <td>0.000000</td>\n",
              "      <td>0.000000</td>\n",
              "      <td>3.0</td>\n",
              "      <td>11.0</td>\n",
              "      <td>0.000000</td>\n",
              "    </tr>\n",
              "    <tr>\n",
              "      <th>max</th>\n",
              "      <td>1996.000000</td>\n",
              "      <td>666666.000000</td>\n",
              "      <td>2.000000</td>\n",
              "      <td>2.000000</td>\n",
              "      <td>99.000000</td>\n",
              "      <td>1493.000000</td>\n",
              "      <td>199.000000</td>\n",
              "      <td>1725.000000</td>\n",
              "      <td>259.000000</td>\n",
              "      <td>263.000000</td>\n",
              "      <td>362.000000</td>\n",
              "      <td>15.000000</td>\n",
              "      <td>27.000000</td>\n",
              "      <td>28.000000</td>\n",
              "      <td>13.000000</td>\n",
              "      <td>20.000000</td>\n",
              "      <td>1.000000</td>\n",
              "      <td>1.000000</td>\n",
              "      <td>1.000000</td>\n",
              "      <td>1.000000</td>\n",
              "      <td>1.000000</td>\n",
              "      <td>1.000000</td>\n",
              "      <td>3.0</td>\n",
              "      <td>11.0</td>\n",
              "      <td>1.000000</td>\n",
              "    </tr>\n",
              "  </tbody>\n",
              "</table>\n",
              "</div>"
            ],
            "text/plain": [
              "        Year_Birth         Income      Kidhome     Teenhome      Recency  \\\n",
              "count  2240.000000    2216.000000  2240.000000  2240.000000  2240.000000   \n",
              "mean   1968.805804   52247.251354     0.444196     0.506250    49.109375   \n",
              "std      11.984069   25173.076661     0.538398     0.544538    28.962453   \n",
              "min    1893.000000    1730.000000     0.000000     0.000000     0.000000   \n",
              "25%    1959.000000   35303.000000     0.000000     0.000000    24.000000   \n",
              "50%    1970.000000   51381.500000     0.000000     0.000000    49.000000   \n",
              "75%    1977.000000   68522.000000     1.000000     1.000000    74.000000   \n",
              "max    1996.000000  666666.000000     2.000000     2.000000    99.000000   \n",
              "\n",
              "          MntWines    MntFruits  MntMeatProducts  MntFishProducts  \\\n",
              "count  2240.000000  2240.000000      2240.000000      2240.000000   \n",
              "mean    303.935714    26.302232       166.950000        37.525446   \n",
              "std     336.597393    39.773434       225.715373        54.628979   \n",
              "min       0.000000     0.000000         0.000000         0.000000   \n",
              "25%      23.750000     1.000000        16.000000         3.000000   \n",
              "50%     173.500000     8.000000        67.000000        12.000000   \n",
              "75%     504.250000    33.000000       232.000000        50.000000   \n",
              "max    1493.000000   199.000000      1725.000000       259.000000   \n",
              "\n",
              "       MntSweetProducts  MntGoldProds  NumDealsPurchases  NumWebPurchases  \\\n",
              "count       2240.000000   2240.000000        2240.000000      2240.000000   \n",
              "mean          27.062946     44.021875           2.325000         4.084821   \n",
              "std           41.280498     52.167439           1.932238         2.778714   \n",
              "min            0.000000      0.000000           0.000000         0.000000   \n",
              "25%            1.000000      9.000000           1.000000         2.000000   \n",
              "50%            8.000000     24.000000           2.000000         4.000000   \n",
              "75%           33.000000     56.000000           3.000000         6.000000   \n",
              "max          263.000000    362.000000          15.000000        27.000000   \n",
              "\n",
              "       NumCatalogPurchases  NumStorePurchases  NumWebVisitsMonth  \\\n",
              "count          2240.000000        2240.000000        2240.000000   \n",
              "mean              2.662054           5.790179           5.316518   \n",
              "std               2.923101           3.250958           2.426645   \n",
              "min               0.000000           0.000000           0.000000   \n",
              "25%               0.000000           3.000000           3.000000   \n",
              "50%               2.000000           5.000000           6.000000   \n",
              "75%               4.000000           8.000000           7.000000   \n",
              "max              28.000000          13.000000          20.000000   \n",
              "\n",
              "       AcceptedCmp3  AcceptedCmp4  AcceptedCmp5  AcceptedCmp1  AcceptedCmp2  \\\n",
              "count   2240.000000   2240.000000   2240.000000   2240.000000   2240.000000   \n",
              "mean       0.072768      0.074554      0.072768      0.064286      0.013393   \n",
              "std        0.259813      0.262728      0.259813      0.245316      0.114976   \n",
              "min        0.000000      0.000000      0.000000      0.000000      0.000000   \n",
              "25%        0.000000      0.000000      0.000000      0.000000      0.000000   \n",
              "50%        0.000000      0.000000      0.000000      0.000000      0.000000   \n",
              "75%        0.000000      0.000000      0.000000      0.000000      0.000000   \n",
              "max        1.000000      1.000000      1.000000      1.000000      1.000000   \n",
              "\n",
              "          Complain  Z_CostContact  Z_Revenue     Response  \n",
              "count  2240.000000         2240.0     2240.0  2240.000000  \n",
              "mean      0.009375            3.0       11.0     0.149107  \n",
              "std       0.096391            0.0        0.0     0.356274  \n",
              "min       0.000000            3.0       11.0     0.000000  \n",
              "25%       0.000000            3.0       11.0     0.000000  \n",
              "50%       0.000000            3.0       11.0     0.000000  \n",
              "75%       0.000000            3.0       11.0     0.000000  \n",
              "max       1.000000            3.0       11.0     1.000000  "
            ]
          },
          "metadata": {},
          "output_type": "display_data"
        },
        {
          "data": {
            "text/html": [
              "<div>\n",
              "<style scoped>\n",
              "    .dataframe tbody tr th:only-of-type {\n",
              "        vertical-align: middle;\n",
              "    }\n",
              "\n",
              "    .dataframe tbody tr th {\n",
              "        vertical-align: top;\n",
              "    }\n",
              "\n",
              "    .dataframe thead th {\n",
              "        text-align: right;\n",
              "    }\n",
              "</style>\n",
              "<table border=\"1\" class=\"dataframe\">\n",
              "  <thead>\n",
              "    <tr style=\"text-align: right;\">\n",
              "      <th></th>\n",
              "      <th>ID</th>\n",
              "      <th>Education</th>\n",
              "      <th>Marital_Status</th>\n",
              "      <th>Dt_Customer</th>\n",
              "    </tr>\n",
              "  </thead>\n",
              "  <tbody>\n",
              "    <tr>\n",
              "      <th>count</th>\n",
              "      <td>2241</td>\n",
              "      <td>2240</td>\n",
              "      <td>2240</td>\n",
              "      <td>2240</td>\n",
              "    </tr>\n",
              "    <tr>\n",
              "      <th>unique</th>\n",
              "      <td>2241</td>\n",
              "      <td>5</td>\n",
              "      <td>8</td>\n",
              "      <td>663</td>\n",
              "    </tr>\n",
              "    <tr>\n",
              "      <th>top</th>\n",
              "      <td>\\n5524</td>\n",
              "      <td>Graduation</td>\n",
              "      <td>Married</td>\n",
              "      <td>31-08-2012</td>\n",
              "    </tr>\n",
              "    <tr>\n",
              "      <th>freq</th>\n",
              "      <td>1</td>\n",
              "      <td>1127</td>\n",
              "      <td>864</td>\n",
              "      <td>12</td>\n",
              "    </tr>\n",
              "  </tbody>\n",
              "</table>\n",
              "</div>"
            ],
            "text/plain": [
              "            ID   Education Marital_Status Dt_Customer\n",
              "count     2241        2240           2240        2240\n",
              "unique    2241           5              8         663\n",
              "top     \\n5524  Graduation        Married  31-08-2012\n",
              "freq         1        1127            864          12"
            ]
          },
          "metadata": {},
          "output_type": "display_data"
        }
      ],
      "source": [
        "display(df.describe(),df.describe(include='object'))"
      ]
    },
    {
      "cell_type": "code",
      "execution_count": 5,
      "metadata": {
        "colab": {
          "base_uri": "https://localhost:8080/"
        },
        "id": "aY0IcYXcG-gN",
        "outputId": "80d75fbe-4b3c-4e64-a2ed-4ebe38d53b6d"
      },
      "outputs": [
        {
          "data": {
            "text/plain": [
              "0"
            ]
          },
          "execution_count": 5,
          "metadata": {},
          "output_type": "execute_result"
        }
      ],
      "source": [
        "# check if there are some duplicated values\n",
        "df.duplicated().sum()"
      ]
    },
    {
      "cell_type": "markdown",
      "metadata": {
        "id": "fVZ5vGmzG-gN"
      },
      "source": [
        "Overall, we can see that:\n",
        "* There are 2241 rows and 29 columns\n",
        "* Dt_Customer data type has not been in datetime data type\n",
        "* There are missing values in Income column and one customer's info (the last row). We will handle this later.\n",
        "* There are no duplicated values in dataset\n",
        "* The ID values are not written well. We will also handle this later.\n",
        "* There are some categories that need to be more reduced (e.g Education, Marital_Status,number of kids)\n",
        "* Z_CostContact and Z_Revenue have the same values respectively, so we can drop them.\n",
        "* Income and Year_Birth have outliers based on the descriptive statistics. We will handle them later.\n",
        "* Lastly, there are some data types are needed to be changed."
      ]
    },
    {
      "cell_type": "markdown",
      "metadata": {
        "id": "ltUA9k1pG-gN"
      },
      "source": [
        "## Data Cleansing\n",
        "\n",
        "In this section, we will doing data cleansing in order to get better data for our analysis."
      ]
    },
    {
      "cell_type": "markdown",
      "metadata": {
        "id": "daDKgIdpG-gN"
      },
      "source": [
        "1. Fix ID values"
      ]
    },
    {
      "cell_type": "code",
      "execution_count": 6,
      "metadata": {
        "colab": {
          "base_uri": "https://localhost:8080/",
          "height": 459
        },
        "id": "HUuxBh7nG-gN",
        "outputId": "b9a4a675-0c56-4770-f1c0-2d1bf27e4cf2"
      },
      "outputs": [
        {
          "data": {
            "text/html": [
              "<div>\n",
              "<style scoped>\n",
              "    .dataframe tbody tr th:only-of-type {\n",
              "        vertical-align: middle;\n",
              "    }\n",
              "\n",
              "    .dataframe tbody tr th {\n",
              "        vertical-align: top;\n",
              "    }\n",
              "\n",
              "    .dataframe thead th {\n",
              "        text-align: right;\n",
              "    }\n",
              "</style>\n",
              "<table border=\"1\" class=\"dataframe\">\n",
              "  <thead>\n",
              "    <tr style=\"text-align: right;\">\n",
              "      <th></th>\n",
              "      <th>ID</th>\n",
              "      <th>Year_Birth</th>\n",
              "      <th>Education</th>\n",
              "      <th>Marital_Status</th>\n",
              "      <th>Income</th>\n",
              "      <th>Kidhome</th>\n",
              "      <th>Teenhome</th>\n",
              "      <th>Dt_Customer</th>\n",
              "      <th>Recency</th>\n",
              "      <th>MntWines</th>\n",
              "      <th>MntFruits</th>\n",
              "      <th>MntMeatProducts</th>\n",
              "      <th>MntFishProducts</th>\n",
              "      <th>MntSweetProducts</th>\n",
              "      <th>MntGoldProds</th>\n",
              "      <th>NumDealsPurchases</th>\n",
              "      <th>NumWebPurchases</th>\n",
              "      <th>NumCatalogPurchases</th>\n",
              "      <th>NumStorePurchases</th>\n",
              "      <th>NumWebVisitsMonth</th>\n",
              "      <th>AcceptedCmp3</th>\n",
              "      <th>AcceptedCmp4</th>\n",
              "      <th>AcceptedCmp5</th>\n",
              "      <th>AcceptedCmp1</th>\n",
              "      <th>AcceptedCmp2</th>\n",
              "      <th>Complain</th>\n",
              "      <th>Z_CostContact</th>\n",
              "      <th>Z_Revenue</th>\n",
              "      <th>Response</th>\n",
              "    </tr>\n",
              "  </thead>\n",
              "  <tbody>\n",
              "    <tr>\n",
              "      <th>0</th>\n",
              "      <td>5524</td>\n",
              "      <td>1957.0</td>\n",
              "      <td>Graduation</td>\n",
              "      <td>Single</td>\n",
              "      <td>58138.0</td>\n",
              "      <td>0.0</td>\n",
              "      <td>0.0</td>\n",
              "      <td>04-09-2012</td>\n",
              "      <td>58.0</td>\n",
              "      <td>635.0</td>\n",
              "      <td>88.0</td>\n",
              "      <td>546.0</td>\n",
              "      <td>172.0</td>\n",
              "      <td>88.0</td>\n",
              "      <td>88.0</td>\n",
              "      <td>3.0</td>\n",
              "      <td>8.0</td>\n",
              "      <td>10.0</td>\n",
              "      <td>4.0</td>\n",
              "      <td>7.0</td>\n",
              "      <td>0.0</td>\n",
              "      <td>0.0</td>\n",
              "      <td>0.0</td>\n",
              "      <td>0.0</td>\n",
              "      <td>0.0</td>\n",
              "      <td>0.0</td>\n",
              "      <td>3.0</td>\n",
              "      <td>11.0</td>\n",
              "      <td>1.0</td>\n",
              "    </tr>\n",
              "    <tr>\n",
              "      <th>1</th>\n",
              "      <td>2174</td>\n",
              "      <td>1954.0</td>\n",
              "      <td>Graduation</td>\n",
              "      <td>Single</td>\n",
              "      <td>46344.0</td>\n",
              "      <td>1.0</td>\n",
              "      <td>1.0</td>\n",
              "      <td>08-03-2014</td>\n",
              "      <td>38.0</td>\n",
              "      <td>11.0</td>\n",
              "      <td>1.0</td>\n",
              "      <td>6.0</td>\n",
              "      <td>2.0</td>\n",
              "      <td>1.0</td>\n",
              "      <td>6.0</td>\n",
              "      <td>2.0</td>\n",
              "      <td>1.0</td>\n",
              "      <td>1.0</td>\n",
              "      <td>2.0</td>\n",
              "      <td>5.0</td>\n",
              "      <td>0.0</td>\n",
              "      <td>0.0</td>\n",
              "      <td>0.0</td>\n",
              "      <td>0.0</td>\n",
              "      <td>0.0</td>\n",
              "      <td>0.0</td>\n",
              "      <td>3.0</td>\n",
              "      <td>11.0</td>\n",
              "      <td>0.0</td>\n",
              "    </tr>\n",
              "    <tr>\n",
              "      <th>2</th>\n",
              "      <td>4141</td>\n",
              "      <td>1965.0</td>\n",
              "      <td>Graduation</td>\n",
              "      <td>Together</td>\n",
              "      <td>71613.0</td>\n",
              "      <td>0.0</td>\n",
              "      <td>0.0</td>\n",
              "      <td>21-08-2013</td>\n",
              "      <td>26.0</td>\n",
              "      <td>426.0</td>\n",
              "      <td>49.0</td>\n",
              "      <td>127.0</td>\n",
              "      <td>111.0</td>\n",
              "      <td>21.0</td>\n",
              "      <td>42.0</td>\n",
              "      <td>1.0</td>\n",
              "      <td>8.0</td>\n",
              "      <td>2.0</td>\n",
              "      <td>10.0</td>\n",
              "      <td>4.0</td>\n",
              "      <td>0.0</td>\n",
              "      <td>0.0</td>\n",
              "      <td>0.0</td>\n",
              "      <td>0.0</td>\n",
              "      <td>0.0</td>\n",
              "      <td>0.0</td>\n",
              "      <td>3.0</td>\n",
              "      <td>11.0</td>\n",
              "      <td>0.0</td>\n",
              "    </tr>\n",
              "    <tr>\n",
              "      <th>3</th>\n",
              "      <td>6182</td>\n",
              "      <td>1984.0</td>\n",
              "      <td>Graduation</td>\n",
              "      <td>Together</td>\n",
              "      <td>26646.0</td>\n",
              "      <td>1.0</td>\n",
              "      <td>0.0</td>\n",
              "      <td>10-02-2014</td>\n",
              "      <td>26.0</td>\n",
              "      <td>11.0</td>\n",
              "      <td>4.0</td>\n",
              "      <td>20.0</td>\n",
              "      <td>10.0</td>\n",
              "      <td>3.0</td>\n",
              "      <td>5.0</td>\n",
              "      <td>2.0</td>\n",
              "      <td>2.0</td>\n",
              "      <td>0.0</td>\n",
              "      <td>4.0</td>\n",
              "      <td>6.0</td>\n",
              "      <td>0.0</td>\n",
              "      <td>0.0</td>\n",
              "      <td>0.0</td>\n",
              "      <td>0.0</td>\n",
              "      <td>0.0</td>\n",
              "      <td>0.0</td>\n",
              "      <td>3.0</td>\n",
              "      <td>11.0</td>\n",
              "      <td>0.0</td>\n",
              "    </tr>\n",
              "    <tr>\n",
              "      <th>4</th>\n",
              "      <td>5324</td>\n",
              "      <td>1981.0</td>\n",
              "      <td>PhD</td>\n",
              "      <td>Married</td>\n",
              "      <td>58293.0</td>\n",
              "      <td>1.0</td>\n",
              "      <td>0.0</td>\n",
              "      <td>19-01-2014</td>\n",
              "      <td>94.0</td>\n",
              "      <td>173.0</td>\n",
              "      <td>43.0</td>\n",
              "      <td>118.0</td>\n",
              "      <td>46.0</td>\n",
              "      <td>27.0</td>\n",
              "      <td>15.0</td>\n",
              "      <td>5.0</td>\n",
              "      <td>5.0</td>\n",
              "      <td>3.0</td>\n",
              "      <td>6.0</td>\n",
              "      <td>5.0</td>\n",
              "      <td>0.0</td>\n",
              "      <td>0.0</td>\n",
              "      <td>0.0</td>\n",
              "      <td>0.0</td>\n",
              "      <td>0.0</td>\n",
              "      <td>0.0</td>\n",
              "      <td>3.0</td>\n",
              "      <td>11.0</td>\n",
              "      <td>0.0</td>\n",
              "    </tr>\n",
              "  </tbody>\n",
              "</table>\n",
              "</div>"
            ],
            "text/plain": [
              "     ID  Year_Birth   Education Marital_Status   Income  Kidhome  Teenhome  \\\n",
              "0  5524      1957.0  Graduation         Single  58138.0      0.0       0.0   \n",
              "1  2174      1954.0  Graduation         Single  46344.0      1.0       1.0   \n",
              "2  4141      1965.0  Graduation       Together  71613.0      0.0       0.0   \n",
              "3  6182      1984.0  Graduation       Together  26646.0      1.0       0.0   \n",
              "4  5324      1981.0         PhD        Married  58293.0      1.0       0.0   \n",
              "\n",
              "  Dt_Customer  Recency  MntWines  MntFruits  MntMeatProducts  MntFishProducts  \\\n",
              "0  04-09-2012     58.0     635.0       88.0            546.0            172.0   \n",
              "1  08-03-2014     38.0      11.0        1.0              6.0              2.0   \n",
              "2  21-08-2013     26.0     426.0       49.0            127.0            111.0   \n",
              "3  10-02-2014     26.0      11.0        4.0             20.0             10.0   \n",
              "4  19-01-2014     94.0     173.0       43.0            118.0             46.0   \n",
              "\n",
              "   MntSweetProducts  MntGoldProds  NumDealsPurchases  NumWebPurchases  \\\n",
              "0              88.0          88.0                3.0              8.0   \n",
              "1               1.0           6.0                2.0              1.0   \n",
              "2              21.0          42.0                1.0              8.0   \n",
              "3               3.0           5.0                2.0              2.0   \n",
              "4              27.0          15.0                5.0              5.0   \n",
              "\n",
              "   NumCatalogPurchases  NumStorePurchases  NumWebVisitsMonth  AcceptedCmp3  \\\n",
              "0                 10.0                4.0                7.0           0.0   \n",
              "1                  1.0                2.0                5.0           0.0   \n",
              "2                  2.0               10.0                4.0           0.0   \n",
              "3                  0.0                4.0                6.0           0.0   \n",
              "4                  3.0                6.0                5.0           0.0   \n",
              "\n",
              "   AcceptedCmp4  AcceptedCmp5  AcceptedCmp1  AcceptedCmp2  Complain  \\\n",
              "0           0.0           0.0           0.0           0.0       0.0   \n",
              "1           0.0           0.0           0.0           0.0       0.0   \n",
              "2           0.0           0.0           0.0           0.0       0.0   \n",
              "3           0.0           0.0           0.0           0.0       0.0   \n",
              "4           0.0           0.0           0.0           0.0       0.0   \n",
              "\n",
              "   Z_CostContact  Z_Revenue  Response  \n",
              "0            3.0       11.0       1.0  \n",
              "1            3.0       11.0       0.0  \n",
              "2            3.0       11.0       0.0  \n",
              "3            3.0       11.0       0.0  \n",
              "4            3.0       11.0       0.0  "
            ]
          },
          "metadata": {},
          "output_type": "display_data"
        },
        {
          "data": {
            "text/html": [
              "<div>\n",
              "<style scoped>\n",
              "    .dataframe tbody tr th:only-of-type {\n",
              "        vertical-align: middle;\n",
              "    }\n",
              "\n",
              "    .dataframe tbody tr th {\n",
              "        vertical-align: top;\n",
              "    }\n",
              "\n",
              "    .dataframe thead th {\n",
              "        text-align: right;\n",
              "    }\n",
              "</style>\n",
              "<table border=\"1\" class=\"dataframe\">\n",
              "  <thead>\n",
              "    <tr style=\"text-align: right;\">\n",
              "      <th></th>\n",
              "      <th>ID</th>\n",
              "      <th>Year_Birth</th>\n",
              "      <th>Education</th>\n",
              "      <th>Marital_Status</th>\n",
              "      <th>Income</th>\n",
              "      <th>Kidhome</th>\n",
              "      <th>Teenhome</th>\n",
              "      <th>Dt_Customer</th>\n",
              "      <th>Recency</th>\n",
              "      <th>MntWines</th>\n",
              "      <th>MntFruits</th>\n",
              "      <th>MntMeatProducts</th>\n",
              "      <th>MntFishProducts</th>\n",
              "      <th>MntSweetProducts</th>\n",
              "      <th>MntGoldProds</th>\n",
              "      <th>NumDealsPurchases</th>\n",
              "      <th>NumWebPurchases</th>\n",
              "      <th>NumCatalogPurchases</th>\n",
              "      <th>NumStorePurchases</th>\n",
              "      <th>NumWebVisitsMonth</th>\n",
              "      <th>AcceptedCmp3</th>\n",
              "      <th>AcceptedCmp4</th>\n",
              "      <th>AcceptedCmp5</th>\n",
              "      <th>AcceptedCmp1</th>\n",
              "      <th>AcceptedCmp2</th>\n",
              "      <th>Complain</th>\n",
              "      <th>Z_CostContact</th>\n",
              "      <th>Z_Revenue</th>\n",
              "      <th>Response</th>\n",
              "    </tr>\n",
              "  </thead>\n",
              "  <tbody>\n",
              "    <tr>\n",
              "      <th>2236</th>\n",
              "      <td>4001</td>\n",
              "      <td>1946.0</td>\n",
              "      <td>PhD</td>\n",
              "      <td>Together</td>\n",
              "      <td>64014.0</td>\n",
              "      <td>2.0</td>\n",
              "      <td>1.0</td>\n",
              "      <td>10-06-2014</td>\n",
              "      <td>56.0</td>\n",
              "      <td>406.0</td>\n",
              "      <td>0.0</td>\n",
              "      <td>30.0</td>\n",
              "      <td>0.0</td>\n",
              "      <td>0.0</td>\n",
              "      <td>8.0</td>\n",
              "      <td>7.0</td>\n",
              "      <td>8.0</td>\n",
              "      <td>2.0</td>\n",
              "      <td>5.0</td>\n",
              "      <td>7.0</td>\n",
              "      <td>0.0</td>\n",
              "      <td>0.0</td>\n",
              "      <td>0.0</td>\n",
              "      <td>1.0</td>\n",
              "      <td>0.0</td>\n",
              "      <td>0.0</td>\n",
              "      <td>3.0</td>\n",
              "      <td>11.0</td>\n",
              "      <td>0.0</td>\n",
              "    </tr>\n",
              "    <tr>\n",
              "      <th>2237</th>\n",
              "      <td>7270</td>\n",
              "      <td>1981.0</td>\n",
              "      <td>Graduation</td>\n",
              "      <td>Divorced</td>\n",
              "      <td>56981.0</td>\n",
              "      <td>0.0</td>\n",
              "      <td>0.0</td>\n",
              "      <td>25-01-2014</td>\n",
              "      <td>91.0</td>\n",
              "      <td>908.0</td>\n",
              "      <td>48.0</td>\n",
              "      <td>217.0</td>\n",
              "      <td>32.0</td>\n",
              "      <td>12.0</td>\n",
              "      <td>24.0</td>\n",
              "      <td>1.0</td>\n",
              "      <td>2.0</td>\n",
              "      <td>3.0</td>\n",
              "      <td>13.0</td>\n",
              "      <td>6.0</td>\n",
              "      <td>0.0</td>\n",
              "      <td>1.0</td>\n",
              "      <td>0.0</td>\n",
              "      <td>0.0</td>\n",
              "      <td>0.0</td>\n",
              "      <td>0.0</td>\n",
              "      <td>3.0</td>\n",
              "      <td>11.0</td>\n",
              "      <td>0.0</td>\n",
              "    </tr>\n",
              "    <tr>\n",
              "      <th>2238</th>\n",
              "      <td>8235</td>\n",
              "      <td>1956.0</td>\n",
              "      <td>Master</td>\n",
              "      <td>Together</td>\n",
              "      <td>69245.0</td>\n",
              "      <td>0.0</td>\n",
              "      <td>1.0</td>\n",
              "      <td>24-01-2014</td>\n",
              "      <td>8.0</td>\n",
              "      <td>428.0</td>\n",
              "      <td>30.0</td>\n",
              "      <td>214.0</td>\n",
              "      <td>80.0</td>\n",
              "      <td>30.0</td>\n",
              "      <td>61.0</td>\n",
              "      <td>2.0</td>\n",
              "      <td>6.0</td>\n",
              "      <td>5.0</td>\n",
              "      <td>10.0</td>\n",
              "      <td>3.0</td>\n",
              "      <td>0.0</td>\n",
              "      <td>0.0</td>\n",
              "      <td>0.0</td>\n",
              "      <td>0.0</td>\n",
              "      <td>0.0</td>\n",
              "      <td>0.0</td>\n",
              "      <td>3.0</td>\n",
              "      <td>11.0</td>\n",
              "      <td>0.0</td>\n",
              "    </tr>\n",
              "    <tr>\n",
              "      <th>2239</th>\n",
              "      <td>9405</td>\n",
              "      <td>1954.0</td>\n",
              "      <td>PhD</td>\n",
              "      <td>Married</td>\n",
              "      <td>52869.0</td>\n",
              "      <td>1.0</td>\n",
              "      <td>1.0</td>\n",
              "      <td>15-10-2012</td>\n",
              "      <td>40.0</td>\n",
              "      <td>84.0</td>\n",
              "      <td>3.0</td>\n",
              "      <td>61.0</td>\n",
              "      <td>2.0</td>\n",
              "      <td>1.0</td>\n",
              "      <td>21.0</td>\n",
              "      <td>3.0</td>\n",
              "      <td>3.0</td>\n",
              "      <td>1.0</td>\n",
              "      <td>4.0</td>\n",
              "      <td>7.0</td>\n",
              "      <td>0.0</td>\n",
              "      <td>0.0</td>\n",
              "      <td>0.0</td>\n",
              "      <td>0.0</td>\n",
              "      <td>0.0</td>\n",
              "      <td>0.0</td>\n",
              "      <td>3.0</td>\n",
              "      <td>11.0</td>\n",
              "      <td>1.0</td>\n",
              "    </tr>\n",
              "    <tr>\n",
              "      <th>2240</th>\n",
              "      <td></td>\n",
              "      <td>NaN</td>\n",
              "      <td>NaN</td>\n",
              "      <td>NaN</td>\n",
              "      <td>NaN</td>\n",
              "      <td>NaN</td>\n",
              "      <td>NaN</td>\n",
              "      <td>NaN</td>\n",
              "      <td>NaN</td>\n",
              "      <td>NaN</td>\n",
              "      <td>NaN</td>\n",
              "      <td>NaN</td>\n",
              "      <td>NaN</td>\n",
              "      <td>NaN</td>\n",
              "      <td>NaN</td>\n",
              "      <td>NaN</td>\n",
              "      <td>NaN</td>\n",
              "      <td>NaN</td>\n",
              "      <td>NaN</td>\n",
              "      <td>NaN</td>\n",
              "      <td>NaN</td>\n",
              "      <td>NaN</td>\n",
              "      <td>NaN</td>\n",
              "      <td>NaN</td>\n",
              "      <td>NaN</td>\n",
              "      <td>NaN</td>\n",
              "      <td>NaN</td>\n",
              "      <td>NaN</td>\n",
              "      <td>NaN</td>\n",
              "    </tr>\n",
              "  </tbody>\n",
              "</table>\n",
              "</div>"
            ],
            "text/plain": [
              "        ID  Year_Birth   Education Marital_Status   Income  Kidhome  Teenhome  \\\n",
              "2236  4001      1946.0         PhD       Together  64014.0      2.0       1.0   \n",
              "2237  7270      1981.0  Graduation       Divorced  56981.0      0.0       0.0   \n",
              "2238  8235      1956.0      Master       Together  69245.0      0.0       1.0   \n",
              "2239  9405      1954.0         PhD        Married  52869.0      1.0       1.0   \n",
              "2240               NaN         NaN            NaN      NaN      NaN       NaN   \n",
              "\n",
              "     Dt_Customer  Recency  MntWines  MntFruits  MntMeatProducts  \\\n",
              "2236  10-06-2014     56.0     406.0        0.0             30.0   \n",
              "2237  25-01-2014     91.0     908.0       48.0            217.0   \n",
              "2238  24-01-2014      8.0     428.0       30.0            214.0   \n",
              "2239  15-10-2012     40.0      84.0        3.0             61.0   \n",
              "2240         NaN      NaN       NaN        NaN              NaN   \n",
              "\n",
              "      MntFishProducts  MntSweetProducts  MntGoldProds  NumDealsPurchases  \\\n",
              "2236              0.0               0.0           8.0                7.0   \n",
              "2237             32.0              12.0          24.0                1.0   \n",
              "2238             80.0              30.0          61.0                2.0   \n",
              "2239              2.0               1.0          21.0                3.0   \n",
              "2240              NaN               NaN           NaN                NaN   \n",
              "\n",
              "      NumWebPurchases  NumCatalogPurchases  NumStorePurchases  \\\n",
              "2236              8.0                  2.0                5.0   \n",
              "2237              2.0                  3.0               13.0   \n",
              "2238              6.0                  5.0               10.0   \n",
              "2239              3.0                  1.0                4.0   \n",
              "2240              NaN                  NaN                NaN   \n",
              "\n",
              "      NumWebVisitsMonth  AcceptedCmp3  AcceptedCmp4  AcceptedCmp5  \\\n",
              "2236                7.0           0.0           0.0           0.0   \n",
              "2237                6.0           0.0           1.0           0.0   \n",
              "2238                3.0           0.0           0.0           0.0   \n",
              "2239                7.0           0.0           0.0           0.0   \n",
              "2240                NaN           NaN           NaN           NaN   \n",
              "\n",
              "      AcceptedCmp1  AcceptedCmp2  Complain  Z_CostContact  Z_Revenue  Response  \n",
              "2236           1.0           0.0       0.0            3.0       11.0       0.0  \n",
              "2237           0.0           0.0       0.0            3.0       11.0       0.0  \n",
              "2238           0.0           0.0       0.0            3.0       11.0       0.0  \n",
              "2239           0.0           0.0       0.0            3.0       11.0       1.0  \n",
              "2240           NaN           NaN       NaN            NaN        NaN       NaN  "
            ]
          },
          "metadata": {},
          "output_type": "display_data"
        }
      ],
      "source": [
        "df['ID'] = df['ID'].replace('\\n','').str.strip()\n",
        "display(df.head(),df.tail())"
      ]
    },
    {
      "cell_type": "markdown",
      "metadata": {
        "id": "-CnlIC-KG-gP"
      },
      "source": [
        "2. Specified categorization for Education and Marital_Status column"
      ]
    },
    {
      "cell_type": "code",
      "execution_count": 7,
      "metadata": {
        "colab": {
          "base_uri": "https://localhost:8080/"
        },
        "id": "In02UU-yG-gP",
        "outputId": "fd213aeb-7c93-4ffa-869a-1b195d81dafb"
      },
      "outputs": [
        {
          "name": "stdout",
          "output_type": "stream",
          "text": [
            "Unique values from Education are ['Graduation' 'PhD' 'Master' 'Basic' '2n Cycle' nan]\n",
            "Unique values from Marital_Status are ['Single' 'Together' 'Married' 'Divorced' 'Widow' 'Alone' 'Absurd' 'YOLO'\n",
            " nan]\n"
          ]
        }
      ],
      "source": [
        "# getting to know about unique values in Education and Marital_Status column\n",
        "print(f\"Unique values from Education are {df['Education'].unique()}\")\n",
        "print(f\"Unique values from Marital_Status are {df['Marital_Status'].unique()}\")"
      ]
    },
    {
      "cell_type": "markdown",
      "metadata": {
        "id": "uirCT9jUG-gQ"
      },
      "source": [
        "For Education column, we will reduce the categories into 2 categories.\n",
        "* Postgraduate : PhD, Master, 2n Cycle\n",
        "* Undergraduate : Graduation, Basic\n",
        "\n",
        "For Marital_Status column, we will also reduce the categories into 3 categories\n",
        "* Single : Single, Alone, Absurd, YOLO\n",
        "* Married : Married, Together\n",
        "* Divorced : Divorced, Widow"
      ]
    },
    {
      "cell_type": "code",
      "execution_count": 8,
      "metadata": {
        "id": "OUs-2-rgG-gQ"
      },
      "outputs": [],
      "source": [
        "df['Education'] = df['Education'].replace({'PhD':'Postgraduate','Master':'Postgraduate','2n Cycle':'Postgraduate','Graduation':'Undergraduate','Basic':'Undergraduate'})\n",
        "df['Marital_Status'] = df['Marital_Status'].replace({'Alone':'Single','Absurd':'Single','YOLO':'Single','Together':'Married','Widow':'Divorced'})"
      ]
    },
    {
      "cell_type": "markdown",
      "metadata": {
        "id": "QoVrpqbHG-gQ"
      },
      "source": [
        "3. Detecting missing values"
      ]
    },
    {
      "cell_type": "code",
      "execution_count": 9,
      "metadata": {
        "colab": {
          "base_uri": "https://localhost:8080/",
          "height": 959
        },
        "id": "xmhoyxzyG-gQ",
        "outputId": "1a0bb834-c617-47ee-946f-874051cef101"
      },
      "outputs": [
        {
          "data": {
            "text/html": [
              "<style type=\"text/css\">\n",
              "#T_97f1f_row0_col0, #T_97f1f_row0_col1 {\n",
              "  background-color: #4d004b;\n",
              "  color: #f1f1f1;\n",
              "}\n",
              "#T_97f1f_row1_col0, #T_97f1f_row1_col1, #T_97f1f_row2_col0, #T_97f1f_row2_col1, #T_97f1f_row3_col0, #T_97f1f_row3_col1, #T_97f1f_row4_col0, #T_97f1f_row4_col1, #T_97f1f_row5_col0, #T_97f1f_row5_col1, #T_97f1f_row6_col0, #T_97f1f_row6_col1, #T_97f1f_row7_col0, #T_97f1f_row7_col1, #T_97f1f_row8_col0, #T_97f1f_row8_col1, #T_97f1f_row9_col0, #T_97f1f_row9_col1, #T_97f1f_row10_col0, #T_97f1f_row10_col1, #T_97f1f_row11_col0, #T_97f1f_row11_col1, #T_97f1f_row12_col0, #T_97f1f_row12_col1, #T_97f1f_row13_col0, #T_97f1f_row13_col1, #T_97f1f_row14_col0, #T_97f1f_row14_col1, #T_97f1f_row15_col0, #T_97f1f_row15_col1, #T_97f1f_row16_col0, #T_97f1f_row16_col1, #T_97f1f_row17_col0, #T_97f1f_row17_col1, #T_97f1f_row18_col0, #T_97f1f_row18_col1, #T_97f1f_row19_col0, #T_97f1f_row19_col1, #T_97f1f_row20_col0, #T_97f1f_row20_col1, #T_97f1f_row21_col0, #T_97f1f_row21_col1, #T_97f1f_row22_col0, #T_97f1f_row22_col1, #T_97f1f_row23_col0, #T_97f1f_row23_col1, #T_97f1f_row24_col0, #T_97f1f_row24_col1, #T_97f1f_row25_col0, #T_97f1f_row25_col1, #T_97f1f_row26_col0, #T_97f1f_row26_col1, #T_97f1f_row27_col0, #T_97f1f_row27_col1 {\n",
              "  background-color: #f0f7fa;\n",
              "  color: #000000;\n",
              "}\n",
              "#T_97f1f_row28_col0, #T_97f1f_row28_col1 {\n",
              "  background-color: #f7fcfd;\n",
              "  color: #000000;\n",
              "}\n",
              "</style>\n",
              "<table id=\"T_97f1f_\">\n",
              "  <thead>\n",
              "    <tr>\n",
              "      <th class=\"blank level0\" >&nbsp;</th>\n",
              "      <th class=\"col_heading level0 col0\" >Total</th>\n",
              "      <th class=\"col_heading level0 col1\" >Percentage</th>\n",
              "    </tr>\n",
              "  </thead>\n",
              "  <tbody>\n",
              "    <tr>\n",
              "      <th id=\"T_97f1f_level0_row0\" class=\"row_heading level0 row0\" >Income</th>\n",
              "      <td id=\"T_97f1f_row0_col0\" class=\"data row0 col0\" >25</td>\n",
              "      <td id=\"T_97f1f_row0_col1\" class=\"data row0 col1\" >1.115573</td>\n",
              "    </tr>\n",
              "    <tr>\n",
              "      <th id=\"T_97f1f_level0_row1\" class=\"row_heading level0 row1\" >MntGoldProds</th>\n",
              "      <td id=\"T_97f1f_row1_col0\" class=\"data row1 col0\" >1</td>\n",
              "      <td id=\"T_97f1f_row1_col1\" class=\"data row1 col1\" >0.044623</td>\n",
              "    </tr>\n",
              "    <tr>\n",
              "      <th id=\"T_97f1f_level0_row2\" class=\"row_heading level0 row2\" >NumDealsPurchases</th>\n",
              "      <td id=\"T_97f1f_row2_col0\" class=\"data row2 col0\" >1</td>\n",
              "      <td id=\"T_97f1f_row2_col1\" class=\"data row2 col1\" >0.044623</td>\n",
              "    </tr>\n",
              "    <tr>\n",
              "      <th id=\"T_97f1f_level0_row3\" class=\"row_heading level0 row3\" >Z_Revenue</th>\n",
              "      <td id=\"T_97f1f_row3_col0\" class=\"data row3 col0\" >1</td>\n",
              "      <td id=\"T_97f1f_row3_col1\" class=\"data row3 col1\" >0.044623</td>\n",
              "    </tr>\n",
              "    <tr>\n",
              "      <th id=\"T_97f1f_level0_row4\" class=\"row_heading level0 row4\" >Z_CostContact</th>\n",
              "      <td id=\"T_97f1f_row4_col0\" class=\"data row4 col0\" >1</td>\n",
              "      <td id=\"T_97f1f_row4_col1\" class=\"data row4 col1\" >0.044623</td>\n",
              "    </tr>\n",
              "    <tr>\n",
              "      <th id=\"T_97f1f_level0_row5\" class=\"row_heading level0 row5\" >Complain</th>\n",
              "      <td id=\"T_97f1f_row5_col0\" class=\"data row5 col0\" >1</td>\n",
              "      <td id=\"T_97f1f_row5_col1\" class=\"data row5 col1\" >0.044623</td>\n",
              "    </tr>\n",
              "    <tr>\n",
              "      <th id=\"T_97f1f_level0_row6\" class=\"row_heading level0 row6\" >AcceptedCmp2</th>\n",
              "      <td id=\"T_97f1f_row6_col0\" class=\"data row6 col0\" >1</td>\n",
              "      <td id=\"T_97f1f_row6_col1\" class=\"data row6 col1\" >0.044623</td>\n",
              "    </tr>\n",
              "    <tr>\n",
              "      <th id=\"T_97f1f_level0_row7\" class=\"row_heading level0 row7\" >AcceptedCmp1</th>\n",
              "      <td id=\"T_97f1f_row7_col0\" class=\"data row7 col0\" >1</td>\n",
              "      <td id=\"T_97f1f_row7_col1\" class=\"data row7 col1\" >0.044623</td>\n",
              "    </tr>\n",
              "    <tr>\n",
              "      <th id=\"T_97f1f_level0_row8\" class=\"row_heading level0 row8\" >AcceptedCmp5</th>\n",
              "      <td id=\"T_97f1f_row8_col0\" class=\"data row8 col0\" >1</td>\n",
              "      <td id=\"T_97f1f_row8_col1\" class=\"data row8 col1\" >0.044623</td>\n",
              "    </tr>\n",
              "    <tr>\n",
              "      <th id=\"T_97f1f_level0_row9\" class=\"row_heading level0 row9\" >AcceptedCmp4</th>\n",
              "      <td id=\"T_97f1f_row9_col0\" class=\"data row9 col0\" >1</td>\n",
              "      <td id=\"T_97f1f_row9_col1\" class=\"data row9 col1\" >0.044623</td>\n",
              "    </tr>\n",
              "    <tr>\n",
              "      <th id=\"T_97f1f_level0_row10\" class=\"row_heading level0 row10\" >AcceptedCmp3</th>\n",
              "      <td id=\"T_97f1f_row10_col0\" class=\"data row10 col0\" >1</td>\n",
              "      <td id=\"T_97f1f_row10_col1\" class=\"data row10 col1\" >0.044623</td>\n",
              "    </tr>\n",
              "    <tr>\n",
              "      <th id=\"T_97f1f_level0_row11\" class=\"row_heading level0 row11\" >NumWebVisitsMonth</th>\n",
              "      <td id=\"T_97f1f_row11_col0\" class=\"data row11 col0\" >1</td>\n",
              "      <td id=\"T_97f1f_row11_col1\" class=\"data row11 col1\" >0.044623</td>\n",
              "    </tr>\n",
              "    <tr>\n",
              "      <th id=\"T_97f1f_level0_row12\" class=\"row_heading level0 row12\" >NumStorePurchases</th>\n",
              "      <td id=\"T_97f1f_row12_col0\" class=\"data row12 col0\" >1</td>\n",
              "      <td id=\"T_97f1f_row12_col1\" class=\"data row12 col1\" >0.044623</td>\n",
              "    </tr>\n",
              "    <tr>\n",
              "      <th id=\"T_97f1f_level0_row13\" class=\"row_heading level0 row13\" >NumCatalogPurchases</th>\n",
              "      <td id=\"T_97f1f_row13_col0\" class=\"data row13 col0\" >1</td>\n",
              "      <td id=\"T_97f1f_row13_col1\" class=\"data row13 col1\" >0.044623</td>\n",
              "    </tr>\n",
              "    <tr>\n",
              "      <th id=\"T_97f1f_level0_row14\" class=\"row_heading level0 row14\" >NumWebPurchases</th>\n",
              "      <td id=\"T_97f1f_row14_col0\" class=\"data row14 col0\" >1</td>\n",
              "      <td id=\"T_97f1f_row14_col1\" class=\"data row14 col1\" >0.044623</td>\n",
              "    </tr>\n",
              "    <tr>\n",
              "      <th id=\"T_97f1f_level0_row15\" class=\"row_heading level0 row15\" >Response</th>\n",
              "      <td id=\"T_97f1f_row15_col0\" class=\"data row15 col0\" >1</td>\n",
              "      <td id=\"T_97f1f_row15_col1\" class=\"data row15 col1\" >0.044623</td>\n",
              "    </tr>\n",
              "    <tr>\n",
              "      <th id=\"T_97f1f_level0_row16\" class=\"row_heading level0 row16\" >Year_Birth</th>\n",
              "      <td id=\"T_97f1f_row16_col0\" class=\"data row16 col0\" >1</td>\n",
              "      <td id=\"T_97f1f_row16_col1\" class=\"data row16 col1\" >0.044623</td>\n",
              "    </tr>\n",
              "    <tr>\n",
              "      <th id=\"T_97f1f_level0_row17\" class=\"row_heading level0 row17\" >MntSweetProducts</th>\n",
              "      <td id=\"T_97f1f_row17_col0\" class=\"data row17 col0\" >1</td>\n",
              "      <td id=\"T_97f1f_row17_col1\" class=\"data row17 col1\" >0.044623</td>\n",
              "    </tr>\n",
              "    <tr>\n",
              "      <th id=\"T_97f1f_level0_row18\" class=\"row_heading level0 row18\" >MntFishProducts</th>\n",
              "      <td id=\"T_97f1f_row18_col0\" class=\"data row18 col0\" >1</td>\n",
              "      <td id=\"T_97f1f_row18_col1\" class=\"data row18 col1\" >0.044623</td>\n",
              "    </tr>\n",
              "    <tr>\n",
              "      <th id=\"T_97f1f_level0_row19\" class=\"row_heading level0 row19\" >MntMeatProducts</th>\n",
              "      <td id=\"T_97f1f_row19_col0\" class=\"data row19 col0\" >1</td>\n",
              "      <td id=\"T_97f1f_row19_col1\" class=\"data row19 col1\" >0.044623</td>\n",
              "    </tr>\n",
              "    <tr>\n",
              "      <th id=\"T_97f1f_level0_row20\" class=\"row_heading level0 row20\" >MntFruits</th>\n",
              "      <td id=\"T_97f1f_row20_col0\" class=\"data row20 col0\" >1</td>\n",
              "      <td id=\"T_97f1f_row20_col1\" class=\"data row20 col1\" >0.044623</td>\n",
              "    </tr>\n",
              "    <tr>\n",
              "      <th id=\"T_97f1f_level0_row21\" class=\"row_heading level0 row21\" >MntWines</th>\n",
              "      <td id=\"T_97f1f_row21_col0\" class=\"data row21 col0\" >1</td>\n",
              "      <td id=\"T_97f1f_row21_col1\" class=\"data row21 col1\" >0.044623</td>\n",
              "    </tr>\n",
              "    <tr>\n",
              "      <th id=\"T_97f1f_level0_row22\" class=\"row_heading level0 row22\" >Recency</th>\n",
              "      <td id=\"T_97f1f_row22_col0\" class=\"data row22 col0\" >1</td>\n",
              "      <td id=\"T_97f1f_row22_col1\" class=\"data row22 col1\" >0.044623</td>\n",
              "    </tr>\n",
              "    <tr>\n",
              "      <th id=\"T_97f1f_level0_row23\" class=\"row_heading level0 row23\" >Dt_Customer</th>\n",
              "      <td id=\"T_97f1f_row23_col0\" class=\"data row23 col0\" >1</td>\n",
              "      <td id=\"T_97f1f_row23_col1\" class=\"data row23 col1\" >0.044623</td>\n",
              "    </tr>\n",
              "    <tr>\n",
              "      <th id=\"T_97f1f_level0_row24\" class=\"row_heading level0 row24\" >Teenhome</th>\n",
              "      <td id=\"T_97f1f_row24_col0\" class=\"data row24 col0\" >1</td>\n",
              "      <td id=\"T_97f1f_row24_col1\" class=\"data row24 col1\" >0.044623</td>\n",
              "    </tr>\n",
              "    <tr>\n",
              "      <th id=\"T_97f1f_level0_row25\" class=\"row_heading level0 row25\" >Kidhome</th>\n",
              "      <td id=\"T_97f1f_row25_col0\" class=\"data row25 col0\" >1</td>\n",
              "      <td id=\"T_97f1f_row25_col1\" class=\"data row25 col1\" >0.044623</td>\n",
              "    </tr>\n",
              "    <tr>\n",
              "      <th id=\"T_97f1f_level0_row26\" class=\"row_heading level0 row26\" >Marital_Status</th>\n",
              "      <td id=\"T_97f1f_row26_col0\" class=\"data row26 col0\" >1</td>\n",
              "      <td id=\"T_97f1f_row26_col1\" class=\"data row26 col1\" >0.044623</td>\n",
              "    </tr>\n",
              "    <tr>\n",
              "      <th id=\"T_97f1f_level0_row27\" class=\"row_heading level0 row27\" >Education</th>\n",
              "      <td id=\"T_97f1f_row27_col0\" class=\"data row27 col0\" >1</td>\n",
              "      <td id=\"T_97f1f_row27_col1\" class=\"data row27 col1\" >0.044623</td>\n",
              "    </tr>\n",
              "    <tr>\n",
              "      <th id=\"T_97f1f_level0_row28\" class=\"row_heading level0 row28\" >ID</th>\n",
              "      <td id=\"T_97f1f_row28_col0\" class=\"data row28 col0\" >0</td>\n",
              "      <td id=\"T_97f1f_row28_col1\" class=\"data row28 col1\" >0.000000</td>\n",
              "    </tr>\n",
              "  </tbody>\n",
              "</table>\n"
            ],
            "text/plain": [
              "<pandas.io.formats.style.Styler at 0x25d45f10520>"
            ]
          },
          "execution_count": 9,
          "metadata": {},
          "output_type": "execute_result"
        }
      ],
      "source": [
        "# Percentage of the missing value\n",
        "\n",
        "def missing_data(df):\n",
        "    total = df.isna().sum().sort_values(ascending=False)\n",
        "    Percentage = (df.isna().sum()/df.isna().count()*100).sort_values(ascending=False)\n",
        "    return pd.concat([total,Percentage],axis=1, keys=['Total','Percentage'])\n",
        "missing_data(df).style.background_gradient(cmap='BuPu')"
      ]
    },
    {
      "cell_type": "markdown",
      "metadata": {
        "id": "PujsLVBQG-gQ"
      },
      "source": [
        "From the table above, it is seen that Income column has 25 missing values and each column has 1 missing values. To handle these missing values, there are several ways to do this:\n",
        "1. drop all missing values\n",
        "2. fill missing values with mean, median or mode value\n",
        "\n",
        "for the needs of analysis later, we will fill the missing values of Income columns. To do that, we need to check if Income data is normal distributed or not to decide whether we want to fill the columns with mean or median value\n"
      ]
    },
    {
      "cell_type": "code",
      "execution_count": 10,
      "metadata": {
        "colab": {
          "base_uri": "https://localhost:8080/",
          "height": 313
        },
        "id": "huwfThmIG-gQ",
        "outputId": "ba02b3df-0eeb-41eb-f55a-7783b53c2d55"
      },
      "outputs": [
        {
          "data": {
            "text/plain": [
              "''"
            ]
          },
          "execution_count": 10,
          "metadata": {},
          "output_type": "execute_result"
        },
        {
          "data": {
            "image/png": "[encoded data removed]",
            "text/plain": [
              "<Figure size 432x288 with 1 Axes>"
            ]
          },
          "metadata": {
            "needs_background": "light"
          },
          "output_type": "display_data"
        }
      ],
      "source": [
        "# check the distribution of Income data using histogram\n",
        "sns.histplot(df['Income'])\n",
        "plt.title('Distribution of Income')\n",
        ";"
      ]
    },
    {
      "cell_type": "markdown",
      "metadata": {
        "id": "vLw11wVWG-gR"
      },
      "source": [
        "From the histogram, it indicates that the distribution of income data is not normal. To ensure us, we will perform the normality test using D'Agostino and Pearson test"
      ]
    },
    {
      "cell_type": "code",
      "execution_count": 11,
      "metadata": {
        "colab": {
          "base_uri": "https://localhost:8080/"
        },
        "id": "XbPJiXGTG-gR",
        "outputId": "82161ff7-792b-45ee-d905-1f89dd6f465f"
      },
      "outputs": [
        {
          "name": "stdout",
          "output_type": "stream",
          "text": [
            "The Distribution of Income data is not normal\n"
          ]
        }
      ],
      "source": [
        "# check the normal distribution with normality tesy D'Agostino and Pearson test\n",
        "from scipy.stats import normaltest\n",
        "stat,pval = normaltest(df['Income'].dropna())\n",
        "\n",
        "if pval < 0.05:\n",
        "    print('The Distribution of Income data is not normal')\n",
        "else:\n",
        "    print('The The Distribution of Income data is not normal')"
      ]
    },
    {
      "cell_type": "markdown",
      "metadata": {
        "id": "Psom4WCBG-gR"
      },
      "source": [
        "After performing histogram and normality test on Income data, it turns out that the distribution of Income data is not normal. So, the right value to fill the missing values of Income is median value based on Education and Marital_Status category because we believe that those two features are relevant to income."
      ]
    },
    {
      "cell_type": "code",
      "execution_count": 12,
      "metadata": {
        "colab": {
          "base_uri": "https://localhost:8080/"
        },
        "id": "vH1slX9WG-gR",
        "outputId": "eed334cc-b8c2-4aae-9cc9-d6ece5997b55"
      },
      "outputs": [
        {
          "data": {
            "text/plain": [
              "Education      Marital_Status\n",
              "Postgraduate   Divorced          52822.5\n",
              "               Married           53376.0\n",
              "               Single            49504.0\n",
              "Undergraduate  Divorced          55599.0\n",
              "               Married           50286.0\n",
              "               Single            47415.0\n",
              "Name: Income, dtype: float64"
            ]
          },
          "execution_count": 12,
          "metadata": {},
          "output_type": "execute_result"
        }
      ],
      "source": [
        "# Finding out each median for each education and marital_status category\n",
        "df.groupby(['Education','Marital_Status']).median()['Income']"
      ]
    },
    {
      "cell_type": "code",
      "execution_count": 13,
      "metadata": {
        "id": "5ktHXW8-G-gR"
      },
      "outputs": [],
      "source": [
        "# fill in the NaN with median value\n",
        "df['Income'] = df['Income'].fillna(df.groupby(['Education','Marital_Status'])['Income'].transform('median'))"
      ]
    },
    {
      "cell_type": "code",
      "execution_count": 14,
      "metadata": {
        "colab": {
          "base_uri": "https://localhost:8080/",
          "height": 297
        },
        "id": "t98ZrsnbG-gR",
        "outputId": "ca434fe2-e953-427c-b536-6ee5a1beac6a"
      },
      "outputs": [
        {
          "data": {
            "text/plain": [
              "''"
            ]
          },
          "execution_count": 14,
          "metadata": {},
          "output_type": "execute_result"
        },
        {
          "data": {
            "image/png": "[encoded data removed]",
            "text/plain": [
              "<Figure size 432x288 with 1 Axes>"
            ]
          },
          "metadata": {
            "needs_background": "light"
          },
          "output_type": "display_data"
        }
      ],
      "source": [
        "# check if Income has outliers from Boxplot\n",
        "sns.boxplot(df['Income'])\n",
        "plt.title('Distribution of Income data')\n",
        ";"
      ]
    },
    {
      "cell_type": "code",
      "execution_count": 15,
      "metadata": {
        "colab": {
          "base_uri": "https://localhost:8080/",
          "height": 52
        },
        "id": "EtMkGsCFG-gS",
        "outputId": "8425ffd1-c73a-4957-e5b0-d2bd7abf9d79"
      },
      "outputs": [
        {
          "data": {
            "text/plain": [
              "117416.25"
            ]
          },
          "metadata": {},
          "output_type": "display_data"
        },
        {
          "data": {
            "text/plain": [
              "13587.75"
            ]
          },
          "metadata": {},
          "output_type": "display_data"
        }
      ],
      "source": [
        "q1_income = df['Income'].quantile(q=0.25)\n",
        "q3_income = df['Income'].quantile(q=0.75)\n",
        "\n",
        "iqr = q3_income-q1_income\n",
        "\n",
        "upper_bound_income = (iqr*1.5) + q3_income\n",
        "lower_bound_income = (iqr*1.5) - q1_income\n",
        "display(upper_bound_income,lower_bound_income)"
      ]
    },
    {
      "cell_type": "code",
      "execution_count": 16,
      "metadata": {
        "colab": {
          "base_uri": "https://localhost:8080/"
        },
        "id": "gafbkXWMG-gS",
        "outputId": "400f4e0d-342c-4e09-b4a4-204c62d649c5"
      },
      "outputs": [
        {
          "name": "stdout",
          "output_type": "stream",
          "text": [
            "There are 48 outliers of income data, with 2.14190093708166 % of all data\n"
          ]
        }
      ],
      "source": [
        "# count the outliers that our Income data have\n",
        "len_outliers = len(df[(df['Income']>=upper_bound_income) | (df['Income']<=lower_bound_income)])\n",
        "percentage_outliers = len_outliers/len(df)*100\n",
        "print(f'There are {len_outliers} outliers of income data, with {percentage_outliers} % of all data')\n"
      ]
    },
    {
      "cell_type": "markdown",
      "metadata": {
        "id": "k6xeTAH7G-gS"
      },
      "source": [
        "To get more understanding about our majority of customers, we decide to remove the outliers."
      ]
    },
    {
      "cell_type": "code",
      "execution_count": 17,
      "metadata": {
        "colab": {
          "base_uri": "https://localhost:8080/"
        },
        "id": "eZ2sIJfAG-gS",
        "outputId": "a69f7e70-8a23-4bf6-cc5b-266003cfbbc9"
      },
      "outputs": [
        {
          "data": {
            "text/plain": [
              "2192"
            ]
          },
          "execution_count": 17,
          "metadata": {},
          "output_type": "execute_result"
        }
      ],
      "source": [
        "# filter the Income <= upper_bound_income and >= lower_bound_income\n",
        "df=df[(df['Income'] <= upper_bound_income) & (df['Income']>=lower_bound_income)]\n",
        "len(df)"
      ]
    },
    {
      "cell_type": "code",
      "execution_count": 18,
      "metadata": {
        "id": "tO02lMAm3YZk",
        "outputId": "97f84342-7f78-4e84-b337-47ec318613fd"
      },
      "outputs": [
        {
          "data": {
            "text/plain": [
              "count      2192.000000\n",
              "mean      52416.974224\n",
              "std       19924.679572\n",
              "min       13624.000000\n",
              "25%       36136.000000\n",
              "50%       51844.500000\n",
              "75%       68468.250000\n",
              "max      113734.000000\n",
              "Name: Income, dtype: float64"
            ]
          },
          "execution_count": 18,
          "metadata": {},
          "output_type": "execute_result"
        }
      ],
      "source": [
        "df['Income'].describe()"
      ]
    },
    {
      "cell_type": "markdown",
      "metadata": {
        "id": "B4_Ebhwq3YZk"
      },
      "source": [
        "Now, our Income data ranges from 13624 USD to 113734 USD"
      ]
    },
    {
      "cell_type": "code",
      "execution_count": 19,
      "metadata": {
        "id": "g0tK5IWUG-gT"
      },
      "outputs": [],
      "source": [
        "# cleaning up the NaN row\n",
        "df.dropna(how='any',inplace=True)"
      ]
    },
    {
      "cell_type": "code",
      "execution_count": 20,
      "metadata": {
        "id": "pmC02LOTG-gT"
      },
      "outputs": [],
      "source": [
        "# change the data type of datetime\n",
        "df['Dt_Customer'] = pd.to_datetime(df['Dt_Customer'])"
      ]
    },
    {
      "cell_type": "code",
      "execution_count": 21,
      "metadata": {
        "id": "0CaZYrb0G-gT"
      },
      "outputs": [],
      "source": [
        "# drop Z_CostContact and Z_Revenue because those columns have the same values and won't give impact to the analysis\n",
        "df = df.drop(columns=['Z_CostContact','Z_Revenue'])"
      ]
    },
    {
      "cell_type": "markdown",
      "metadata": {
        "id": "VoNOGXSoG-gT"
      },
      "source": [
        "## Modification on Cleaned Data\n",
        "\n",
        "After we do data cleaning, we will modify columns that we will use for analysis. \n",
        "\n",
        "* Extract the Age customer by the \"Year_Birth\" to indicate the birth year of the respective person.\n",
        "* Create Age Group to categorize customers based on their age\n",
        "* Create another column \"Expenses\" to indicate the amount spent by the customer in various categories over the span of two years \n",
        "* Create another column \"Children\" to indicate total kids and teens in a household\n",
        "* Create another column NumAllPurchases to indicate the frequency of customers buy the products in every channel over 2 years.\n",
        "* Change some data types\n",
        "\n",
        "\n"
      ]
    },
    {
      "cell_type": "markdown",
      "metadata": {
        "id": "Y9yXEncJG-gT"
      },
      "source": [
        "### Age of customers"
      ]
    },
    {
      "cell_type": "code",
      "execution_count": 22,
      "metadata": {
        "colab": {
          "base_uri": "https://localhost:8080/"
        },
        "id": "Plz_QCcNG-gT",
        "outputId": "874ff00e-6359-4fdc-c5e0-37c5e9ea0702"
      },
      "outputs": [
        {
          "data": {
            "text/plain": [
              "Timestamp('2014-12-06 00:00:00')"
            ]
          },
          "execution_count": 22,
          "metadata": {},
          "output_type": "execute_result"
        }
      ],
      "source": [
        "# Firstly, we need to check when is the last date of this dataset\n",
        "df['Dt_Customer'].max()\n"
      ]
    },
    {
      "cell_type": "code",
      "execution_count": 84,
      "metadata": {},
      "outputs": [
        {
          "data": {
            "text/plain": [
              "Timestamp('2012-01-08 00:00:00')"
            ]
          },
          "execution_count": 84,
          "metadata": {},
          "output_type": "execute_result"
        }
      ],
      "source": [
        "df['Dt_Customer'].min()"
      ]
    },
    {
      "cell_type": "markdown",
      "metadata": {
        "id": "iJYVyElIG-gU"
      },
      "source": [
        "So, we assume that the data was collected on 2014-12-07 and we consider that to count the age of customers is counted from year 2014."
      ]
    },
    {
      "cell_type": "code",
      "execution_count": 23,
      "metadata": {
        "id": "whdUBsHEG-gU"
      },
      "outputs": [],
      "source": [
        "# add Age column\n",
        "df['Age'] = 2014 - df['Year_Birth']\n",
        "age = df.pop('Age')\n",
        "df.insert(2,'Age',age)"
      ]
    },
    {
      "cell_type": "markdown",
      "metadata": {
        "id": "jV3BizYuG-gU"
      },
      "source": [
        "Check on Age data"
      ]
    },
    {
      "cell_type": "code",
      "execution_count": 24,
      "metadata": {
        "colab": {
          "base_uri": "https://localhost:8080/"
        },
        "id": "dfeIvsXAG-gU",
        "outputId": "14f9b42d-641c-46f4-d04b-84f81716154a"
      },
      "outputs": [
        {
          "data": {
            "text/plain": [
              "count    2192.000000\n",
              "mean       45.344434\n",
              "std        11.963907\n",
              "min        18.000000\n",
              "25%        37.000000\n",
              "50%        44.000000\n",
              "75%        55.000000\n",
              "max       121.000000\n",
              "Name: Age, dtype: float64"
            ]
          },
          "execution_count": 24,
          "metadata": {},
          "output_type": "execute_result"
        }
      ],
      "source": [
        "df['Age'].describe()"
      ]
    },
    {
      "cell_type": "markdown",
      "metadata": {
        "id": "T8xv6BIJG-gU"
      },
      "source": [
        "From the data above, we better look for the outliers and remove them because it's not logical to have customer in age 121..."
      ]
    },
    {
      "cell_type": "code",
      "execution_count": 25,
      "metadata": {
        "colab": {
          "base_uri": "https://localhost:8080/"
        },
        "id": "4FXdaXClG-gU",
        "outputId": "1c926b66-ed64-4985-e7a1-f6335f1bdc7b"
      },
      "outputs": [
        {
          "data": {
            "text/html": [
              "<div>\n",
              "<style scoped>\n",
              "    .dataframe tbody tr th:only-of-type {\n",
              "        vertical-align: middle;\n",
              "    }\n",
              "\n",
              "    .dataframe tbody tr th {\n",
              "        vertical-align: top;\n",
              "    }\n",
              "\n",
              "    .dataframe thead th {\n",
              "        text-align: right;\n",
              "    }\n",
              "</style>\n",
              "<table border=\"1\" class=\"dataframe\">\n",
              "  <thead>\n",
              "    <tr style=\"text-align: right;\">\n",
              "      <th></th>\n",
              "      <th>ID</th>\n",
              "      <th>Year_Birth</th>\n",
              "      <th>Age</th>\n",
              "      <th>Education</th>\n",
              "      <th>Marital_Status</th>\n",
              "      <th>Income</th>\n",
              "      <th>Kidhome</th>\n",
              "      <th>Teenhome</th>\n",
              "      <th>Dt_Customer</th>\n",
              "      <th>Recency</th>\n",
              "      <th>MntWines</th>\n",
              "      <th>MntFruits</th>\n",
              "      <th>MntMeatProducts</th>\n",
              "      <th>MntFishProducts</th>\n",
              "      <th>MntSweetProducts</th>\n",
              "      <th>MntGoldProds</th>\n",
              "      <th>NumDealsPurchases</th>\n",
              "      <th>NumWebPurchases</th>\n",
              "      <th>NumCatalogPurchases</th>\n",
              "      <th>NumStorePurchases</th>\n",
              "      <th>NumWebVisitsMonth</th>\n",
              "      <th>AcceptedCmp3</th>\n",
              "      <th>AcceptedCmp4</th>\n",
              "      <th>AcceptedCmp5</th>\n",
              "      <th>AcceptedCmp1</th>\n",
              "      <th>AcceptedCmp2</th>\n",
              "      <th>Complain</th>\n",
              "      <th>Response</th>\n",
              "    </tr>\n",
              "  </thead>\n",
              "  <tbody>\n",
              "    <tr>\n",
              "      <th>192</th>\n",
              "      <td>7829</td>\n",
              "      <td>1900.0</td>\n",
              "      <td>114.0</td>\n",
              "      <td>Postgraduate</td>\n",
              "      <td>Divorced</td>\n",
              "      <td>36640.0</td>\n",
              "      <td>1.0</td>\n",
              "      <td>0.0</td>\n",
              "      <td>2013-09-26</td>\n",
              "      <td>99.0</td>\n",
              "      <td>15.0</td>\n",
              "      <td>6.0</td>\n",
              "      <td>8.0</td>\n",
              "      <td>7.0</td>\n",
              "      <td>4.0</td>\n",
              "      <td>25.0</td>\n",
              "      <td>1.0</td>\n",
              "      <td>2.0</td>\n",
              "      <td>1.0</td>\n",
              "      <td>2.0</td>\n",
              "      <td>5.0</td>\n",
              "      <td>0.0</td>\n",
              "      <td>0.0</td>\n",
              "      <td>0.0</td>\n",
              "      <td>0.0</td>\n",
              "      <td>0.0</td>\n",
              "      <td>1.0</td>\n",
              "      <td>0.0</td>\n",
              "    </tr>\n",
              "    <tr>\n",
              "      <th>239</th>\n",
              "      <td>11004</td>\n",
              "      <td>1893.0</td>\n",
              "      <td>121.0</td>\n",
              "      <td>Postgraduate</td>\n",
              "      <td>Single</td>\n",
              "      <td>60182.0</td>\n",
              "      <td>0.0</td>\n",
              "      <td>1.0</td>\n",
              "      <td>2014-05-17</td>\n",
              "      <td>23.0</td>\n",
              "      <td>8.0</td>\n",
              "      <td>0.0</td>\n",
              "      <td>5.0</td>\n",
              "      <td>7.0</td>\n",
              "      <td>0.0</td>\n",
              "      <td>2.0</td>\n",
              "      <td>1.0</td>\n",
              "      <td>1.0</td>\n",
              "      <td>0.0</td>\n",
              "      <td>2.0</td>\n",
              "      <td>4.0</td>\n",
              "      <td>0.0</td>\n",
              "      <td>0.0</td>\n",
              "      <td>0.0</td>\n",
              "      <td>0.0</td>\n",
              "      <td>0.0</td>\n",
              "      <td>0.0</td>\n",
              "      <td>0.0</td>\n",
              "    </tr>\n",
              "    <tr>\n",
              "      <th>339</th>\n",
              "      <td>1150</td>\n",
              "      <td>1899.0</td>\n",
              "      <td>115.0</td>\n",
              "      <td>Postgraduate</td>\n",
              "      <td>Married</td>\n",
              "      <td>83532.0</td>\n",
              "      <td>0.0</td>\n",
              "      <td>0.0</td>\n",
              "      <td>2013-09-26</td>\n",
              "      <td>36.0</td>\n",
              "      <td>755.0</td>\n",
              "      <td>144.0</td>\n",
              "      <td>562.0</td>\n",
              "      <td>104.0</td>\n",
              "      <td>64.0</td>\n",
              "      <td>224.0</td>\n",
              "      <td>1.0</td>\n",
              "      <td>4.0</td>\n",
              "      <td>6.0</td>\n",
              "      <td>4.0</td>\n",
              "      <td>1.0</td>\n",
              "      <td>0.0</td>\n",
              "      <td>0.0</td>\n",
              "      <td>1.0</td>\n",
              "      <td>0.0</td>\n",
              "      <td>0.0</td>\n",
              "      <td>0.0</td>\n",
              "      <td>0.0</td>\n",
              "    </tr>\n",
              "  </tbody>\n",
              "</table>\n",
              "</div>"
            ],
            "text/plain": [
              "        ID  Year_Birth    Age     Education Marital_Status   Income  Kidhome  \\\n",
              "192   7829      1900.0  114.0  Postgraduate       Divorced  36640.0      1.0   \n",
              "239  11004      1893.0  121.0  Postgraduate         Single  60182.0      0.0   \n",
              "339   1150      1899.0  115.0  Postgraduate        Married  83532.0      0.0   \n",
              "\n",
              "     Teenhome Dt_Customer  Recency  MntWines  MntFruits  MntMeatProducts  \\\n",
              "192       0.0  2013-09-26     99.0      15.0        6.0              8.0   \n",
              "239       1.0  2014-05-17     23.0       8.0        0.0              5.0   \n",
              "339       0.0  2013-09-26     36.0     755.0      144.0            562.0   \n",
              "\n",
              "     MntFishProducts  MntSweetProducts  MntGoldProds  NumDealsPurchases  \\\n",
              "192              7.0               4.0          25.0                1.0   \n",
              "239              7.0               0.0           2.0                1.0   \n",
              "339            104.0              64.0         224.0                1.0   \n",
              "\n",
              "     NumWebPurchases  NumCatalogPurchases  NumStorePurchases  \\\n",
              "192              2.0                  1.0                2.0   \n",
              "239              1.0                  0.0                2.0   \n",
              "339              4.0                  6.0                4.0   \n",
              "\n",
              "     NumWebVisitsMonth  AcceptedCmp3  AcceptedCmp4  AcceptedCmp5  \\\n",
              "192                5.0           0.0           0.0           0.0   \n",
              "239                4.0           0.0           0.0           0.0   \n",
              "339                1.0           0.0           0.0           1.0   \n",
              "\n",
              "     AcceptedCmp1  AcceptedCmp2  Complain  Response  \n",
              "192           0.0           0.0       1.0       0.0  \n",
              "239           0.0           0.0       0.0       0.0  \n",
              "339           0.0           0.0       0.0       0.0  "
            ]
          },
          "execution_count": 25,
          "metadata": {},
          "output_type": "execute_result"
        }
      ],
      "source": [
        "# check outliers for Age column\n",
        "# determine Q1 and Q3\n",
        "Q1_age = df['Age'].quantile(q=0.25)\n",
        "Q3_age = df['Age'].quantile(q=0.75)\n",
        "\n",
        "# find IQR\n",
        "iqr = Q3_age - Q1_age\n",
        "\n",
        "# find upper bound and lower bound\n",
        "upper_bound_age = (iqr*1.5) + Q3_age\n",
        "lower_bound_age = (iqr*1.5) - Q1_age\n",
        "\n",
        "# display(lower_bound_age,upper_bound_age)\n",
        "df[df['Age'] >= upper_bound_age]\n"
      ]
    },
    {
      "cell_type": "markdown",
      "metadata": {
        "id": "o8vp6wWNG-gU"
      },
      "source": [
        "There are 3 outliers of Age data, so we will drop these data from dataset"
      ]
    },
    {
      "cell_type": "code",
      "execution_count": 26,
      "metadata": {
        "id": "VqsO1U0VG-gV"
      },
      "outputs": [],
      "source": [
        "df =df[(df['Age']<=upper_bound_age) & (df['Age']>=lower_bound_age)]\n",
        "# len(df)"
      ]
    },
    {
      "cell_type": "code",
      "execution_count": 27,
      "metadata": {
        "colab": {
          "base_uri": "https://localhost:8080/"
        },
        "id": "pn_r_dehG-gV",
        "outputId": "c8ff50d4-7dc2-466a-8453-a95b62b3de5b"
      },
      "outputs": [
        {
          "data": {
            "text/plain": [
              "count    2189.000000\n",
              "mean       45.246688\n",
              "std        11.676215\n",
              "min        18.000000\n",
              "25%        37.000000\n",
              "50%        44.000000\n",
              "75%        55.000000\n",
              "max        74.000000\n",
              "Name: Age, dtype: float64"
            ]
          },
          "execution_count": 27,
          "metadata": {},
          "output_type": "execute_result"
        }
      ],
      "source": [
        "df['Age'].describe()"
      ]
    },
    {
      "cell_type": "markdown",
      "metadata": {
        "id": "d_U4nlW9G-gV"
      },
      "source": [
        "So now, our customers' age ranges from 18 to 74 years old."
      ]
    },
    {
      "cell_type": "markdown",
      "metadata": {
        "id": "nP-SGympG-gV"
      },
      "source": [
        "Age group\n",
        "\n",
        "We also want to categorize customers based on age group into 4 groups:\n",
        "\n",
        "1. Gen Z = 18 - 25 years old\n",
        "2. Millenials = 26 - 41 years old\n",
        "3. Gen X = 42 - 57 years old\n",
        "4. Boomers = > 57 years old"
      ]
    },
    {
      "cell_type": "code",
      "execution_count": 28,
      "metadata": {
        "id": "eX8Spb4hG-gV"
      },
      "outputs": [],
      "source": [
        "def age_group(x):\n",
        "    if x >= 18 and x<=25:\n",
        "        return 'Gen Z'\n",
        "    elif x >= 26 and x<=41:\n",
        "        return 'Millenials'\n",
        "    elif x >= 42 and x<=57:\n",
        "        return 'Gen X'\n",
        "    else:\n",
        "        return 'Boomers'\n",
        "age_group_final=df['Age'].apply(age_group)\n",
        "df.insert(3,'Age_group',age_group_final)"
      ]
    },
    {
      "cell_type": "markdown",
      "metadata": {
        "id": "eWz--xw8G-gV"
      },
      "source": [
        "### Children"
      ]
    },
    {
      "cell_type": "code",
      "execution_count": 29,
      "metadata": {
        "colab": {
          "base_uri": "https://localhost:8080/"
        },
        "id": "yvu8g7syG-gV",
        "outputId": "a2d4a130-f492-4ccf-9432-fe75d893c0d1"
      },
      "outputs": [
        {
          "data": {
            "text/html": [
              "<div>\n",
              "<style scoped>\n",
              "    .dataframe tbody tr th:only-of-type {\n",
              "        vertical-align: middle;\n",
              "    }\n",
              "\n",
              "    .dataframe tbody tr th {\n",
              "        vertical-align: top;\n",
              "    }\n",
              "\n",
              "    .dataframe thead th {\n",
              "        text-align: right;\n",
              "    }\n",
              "</style>\n",
              "<table border=\"1\" class=\"dataframe\">\n",
              "  <thead>\n",
              "    <tr style=\"text-align: right;\">\n",
              "      <th></th>\n",
              "      <th>ID</th>\n",
              "      <th>Year_Birth</th>\n",
              "      <th>Age</th>\n",
              "      <th>Age_group</th>\n",
              "      <th>Education</th>\n",
              "      <th>Children</th>\n",
              "      <th>Marital_Status</th>\n",
              "      <th>Income</th>\n",
              "      <th>Kidhome</th>\n",
              "      <th>Teenhome</th>\n",
              "      <th>Dt_Customer</th>\n",
              "      <th>Recency</th>\n",
              "      <th>MntWines</th>\n",
              "      <th>MntFruits</th>\n",
              "      <th>MntMeatProducts</th>\n",
              "      <th>MntFishProducts</th>\n",
              "      <th>MntSweetProducts</th>\n",
              "      <th>MntGoldProds</th>\n",
              "      <th>NumDealsPurchases</th>\n",
              "      <th>NumWebPurchases</th>\n",
              "      <th>NumCatalogPurchases</th>\n",
              "      <th>NumStorePurchases</th>\n",
              "      <th>NumWebVisitsMonth</th>\n",
              "      <th>AcceptedCmp3</th>\n",
              "      <th>AcceptedCmp4</th>\n",
              "      <th>AcceptedCmp5</th>\n",
              "      <th>AcceptedCmp1</th>\n",
              "      <th>AcceptedCmp2</th>\n",
              "      <th>Complain</th>\n",
              "      <th>Response</th>\n",
              "    </tr>\n",
              "  </thead>\n",
              "  <tbody>\n",
              "    <tr>\n",
              "      <th>0</th>\n",
              "      <td>5524</td>\n",
              "      <td>1957.0</td>\n",
              "      <td>57.0</td>\n",
              "      <td>Gen X</td>\n",
              "      <td>Undergraduate</td>\n",
              "      <td>0.0</td>\n",
              "      <td>Single</td>\n",
              "      <td>58138.0</td>\n",
              "      <td>0.0</td>\n",
              "      <td>0.0</td>\n",
              "      <td>2012-04-09</td>\n",
              "      <td>58.0</td>\n",
              "      <td>635.0</td>\n",
              "      <td>88.0</td>\n",
              "      <td>546.0</td>\n",
              "      <td>172.0</td>\n",
              "      <td>88.0</td>\n",
              "      <td>88.0</td>\n",
              "      <td>3.0</td>\n",
              "      <td>8.0</td>\n",
              "      <td>10.0</td>\n",
              "      <td>4.0</td>\n",
              "      <td>7.0</td>\n",
              "      <td>0.0</td>\n",
              "      <td>0.0</td>\n",
              "      <td>0.0</td>\n",
              "      <td>0.0</td>\n",
              "      <td>0.0</td>\n",
              "      <td>0.0</td>\n",
              "      <td>1.0</td>\n",
              "    </tr>\n",
              "    <tr>\n",
              "      <th>1</th>\n",
              "      <td>2174</td>\n",
              "      <td>1954.0</td>\n",
              "      <td>60.0</td>\n",
              "      <td>Boomers</td>\n",
              "      <td>Undergraduate</td>\n",
              "      <td>2.0</td>\n",
              "      <td>Single</td>\n",
              "      <td>46344.0</td>\n",
              "      <td>1.0</td>\n",
              "      <td>1.0</td>\n",
              "      <td>2014-08-03</td>\n",
              "      <td>38.0</td>\n",
              "      <td>11.0</td>\n",
              "      <td>1.0</td>\n",
              "      <td>6.0</td>\n",
              "      <td>2.0</td>\n",
              "      <td>1.0</td>\n",
              "      <td>6.0</td>\n",
              "      <td>2.0</td>\n",
              "      <td>1.0</td>\n",
              "      <td>1.0</td>\n",
              "      <td>2.0</td>\n",
              "      <td>5.0</td>\n",
              "      <td>0.0</td>\n",
              "      <td>0.0</td>\n",
              "      <td>0.0</td>\n",
              "      <td>0.0</td>\n",
              "      <td>0.0</td>\n",
              "      <td>0.0</td>\n",
              "      <td>0.0</td>\n",
              "    </tr>\n",
              "    <tr>\n",
              "      <th>2</th>\n",
              "      <td>4141</td>\n",
              "      <td>1965.0</td>\n",
              "      <td>49.0</td>\n",
              "      <td>Gen X</td>\n",
              "      <td>Undergraduate</td>\n",
              "      <td>0.0</td>\n",
              "      <td>Married</td>\n",
              "      <td>71613.0</td>\n",
              "      <td>0.0</td>\n",
              "      <td>0.0</td>\n",
              "      <td>2013-08-21</td>\n",
              "      <td>26.0</td>\n",
              "      <td>426.0</td>\n",
              "      <td>49.0</td>\n",
              "      <td>127.0</td>\n",
              "      <td>111.0</td>\n",
              "      <td>21.0</td>\n",
              "      <td>42.0</td>\n",
              "      <td>1.0</td>\n",
              "      <td>8.0</td>\n",
              "      <td>2.0</td>\n",
              "      <td>10.0</td>\n",
              "      <td>4.0</td>\n",
              "      <td>0.0</td>\n",
              "      <td>0.0</td>\n",
              "      <td>0.0</td>\n",
              "      <td>0.0</td>\n",
              "      <td>0.0</td>\n",
              "      <td>0.0</td>\n",
              "      <td>0.0</td>\n",
              "    </tr>\n",
              "    <tr>\n",
              "      <th>3</th>\n",
              "      <td>6182</td>\n",
              "      <td>1984.0</td>\n",
              "      <td>30.0</td>\n",
              "      <td>Millenials</td>\n",
              "      <td>Undergraduate</td>\n",
              "      <td>1.0</td>\n",
              "      <td>Married</td>\n",
              "      <td>26646.0</td>\n",
              "      <td>1.0</td>\n",
              "      <td>0.0</td>\n",
              "      <td>2014-10-02</td>\n",
              "      <td>26.0</td>\n",
              "      <td>11.0</td>\n",
              "      <td>4.0</td>\n",
              "      <td>20.0</td>\n",
              "      <td>10.0</td>\n",
              "      <td>3.0</td>\n",
              "      <td>5.0</td>\n",
              "      <td>2.0</td>\n",
              "      <td>2.0</td>\n",
              "      <td>0.0</td>\n",
              "      <td>4.0</td>\n",
              "      <td>6.0</td>\n",
              "      <td>0.0</td>\n",
              "      <td>0.0</td>\n",
              "      <td>0.0</td>\n",
              "      <td>0.0</td>\n",
              "      <td>0.0</td>\n",
              "      <td>0.0</td>\n",
              "      <td>0.0</td>\n",
              "    </tr>\n",
              "    <tr>\n",
              "      <th>4</th>\n",
              "      <td>5324</td>\n",
              "      <td>1981.0</td>\n",
              "      <td>33.0</td>\n",
              "      <td>Millenials</td>\n",
              "      <td>Postgraduate</td>\n",
              "      <td>1.0</td>\n",
              "      <td>Married</td>\n",
              "      <td>58293.0</td>\n",
              "      <td>1.0</td>\n",
              "      <td>0.0</td>\n",
              "      <td>2014-01-19</td>\n",
              "      <td>94.0</td>\n",
              "      <td>173.0</td>\n",
              "      <td>43.0</td>\n",
              "      <td>118.0</td>\n",
              "      <td>46.0</td>\n",
              "      <td>27.0</td>\n",
              "      <td>15.0</td>\n",
              "      <td>5.0</td>\n",
              "      <td>5.0</td>\n",
              "      <td>3.0</td>\n",
              "      <td>6.0</td>\n",
              "      <td>5.0</td>\n",
              "      <td>0.0</td>\n",
              "      <td>0.0</td>\n",
              "      <td>0.0</td>\n",
              "      <td>0.0</td>\n",
              "      <td>0.0</td>\n",
              "      <td>0.0</td>\n",
              "      <td>0.0</td>\n",
              "    </tr>\n",
              "  </tbody>\n",
              "</table>\n",
              "</div>"
            ],
            "text/plain": [
              "     ID  Year_Birth   Age   Age_group      Education  Children Marital_Status  \\\n",
              "0  5524      1957.0  57.0       Gen X  Undergraduate       0.0         Single   \n",
              "1  2174      1954.0  60.0     Boomers  Undergraduate       2.0         Single   \n",
              "2  4141      1965.0  49.0       Gen X  Undergraduate       0.0        Married   \n",
              "3  6182      1984.0  30.0  Millenials  Undergraduate       1.0        Married   \n",
              "4  5324      1981.0  33.0  Millenials   Postgraduate       1.0        Married   \n",
              "\n",
              "    Income  Kidhome  Teenhome Dt_Customer  Recency  MntWines  MntFruits  \\\n",
              "0  58138.0      0.0       0.0  2012-04-09     58.0     635.0       88.0   \n",
              "1  46344.0      1.0       1.0  2014-08-03     38.0      11.0        1.0   \n",
              "2  71613.0      0.0       0.0  2013-08-21     26.0     426.0       49.0   \n",
              "3  26646.0      1.0       0.0  2014-10-02     26.0      11.0        4.0   \n",
              "4  58293.0      1.0       0.0  2014-01-19     94.0     173.0       43.0   \n",
              "\n",
              "   MntMeatProducts  MntFishProducts  MntSweetProducts  MntGoldProds  \\\n",
              "0            546.0            172.0              88.0          88.0   \n",
              "1              6.0              2.0               1.0           6.0   \n",
              "2            127.0            111.0              21.0          42.0   \n",
              "3             20.0             10.0               3.0           5.0   \n",
              "4            118.0             46.0              27.0          15.0   \n",
              "\n",
              "   NumDealsPurchases  NumWebPurchases  NumCatalogPurchases  NumStorePurchases  \\\n",
              "0                3.0              8.0                 10.0                4.0   \n",
              "1                2.0              1.0                  1.0                2.0   \n",
              "2                1.0              8.0                  2.0               10.0   \n",
              "3                2.0              2.0                  0.0                4.0   \n",
              "4                5.0              5.0                  3.0                6.0   \n",
              "\n",
              "   NumWebVisitsMonth  AcceptedCmp3  AcceptedCmp4  AcceptedCmp5  AcceptedCmp1  \\\n",
              "0                7.0           0.0           0.0           0.0           0.0   \n",
              "1                5.0           0.0           0.0           0.0           0.0   \n",
              "2                4.0           0.0           0.0           0.0           0.0   \n",
              "3                6.0           0.0           0.0           0.0           0.0   \n",
              "4                5.0           0.0           0.0           0.0           0.0   \n",
              "\n",
              "   AcceptedCmp2  Complain  Response  \n",
              "0           0.0       0.0       1.0  \n",
              "1           0.0       0.0       0.0  \n",
              "2           0.0       0.0       0.0  \n",
              "3           0.0       0.0       0.0  \n",
              "4           0.0       0.0       0.0  "
            ]
          },
          "execution_count": 29,
          "metadata": {},
          "output_type": "execute_result"
        }
      ],
      "source": [
        "# Add column Children which values are total from Kidhome and Teenhome\n",
        "children = df['Kidhome']+df['Teenhome']\n",
        "df.insert(5,'Children',children)\n",
        "df.head()"
      ]
    },
    {
      "cell_type": "markdown",
      "metadata": {
        "id": "vHX5ymkGG-gV"
      },
      "source": [
        "### Expenses"
      ]
    },
    {
      "cell_type": "code",
      "execution_count": 30,
      "metadata": {
        "id": "zbNiilAVG-gW"
      },
      "outputs": [],
      "source": [
        "# add column \"Expenses\" which is an amount of customers' spending in products\n",
        "expenses = df['MntWines']+df['MntFruits']+df['MntMeatProducts']+df['MntFishProducts']+df['MntSweetProducts']+df['MntGoldProds']\n",
        "df.insert(18,'Expenses',expenses)"
      ]
    },
    {
      "cell_type": "markdown",
      "metadata": {
        "id": "ats0HCdAG-gW"
      },
      "source": [
        "### NumAllPurchases"
      ]
    },
    {
      "cell_type": "code",
      "execution_count": 31,
      "metadata": {
        "colab": {
          "base_uri": "https://localhost:8080/"
        },
        "id": "ufUt3kJCG-gW",
        "outputId": "1685dde5-3c39-4b08-9df9-0de5552c9b7d"
      },
      "outputs": [
        {
          "data": {
            "text/html": [
              "<div>\n",
              "<style scoped>\n",
              "    .dataframe tbody tr th:only-of-type {\n",
              "        vertical-align: middle;\n",
              "    }\n",
              "\n",
              "    .dataframe tbody tr th {\n",
              "        vertical-align: top;\n",
              "    }\n",
              "\n",
              "    .dataframe thead th {\n",
              "        text-align: right;\n",
              "    }\n",
              "</style>\n",
              "<table border=\"1\" class=\"dataframe\">\n",
              "  <thead>\n",
              "    <tr style=\"text-align: right;\">\n",
              "      <th></th>\n",
              "      <th>ID</th>\n",
              "      <th>Year_Birth</th>\n",
              "      <th>Age</th>\n",
              "      <th>Age_group</th>\n",
              "      <th>Education</th>\n",
              "      <th>Children</th>\n",
              "      <th>Marital_Status</th>\n",
              "      <th>Income</th>\n",
              "      <th>Kidhome</th>\n",
              "      <th>Teenhome</th>\n",
              "      <th>Dt_Customer</th>\n",
              "      <th>Recency</th>\n",
              "      <th>MntWines</th>\n",
              "      <th>MntFruits</th>\n",
              "      <th>MntMeatProducts</th>\n",
              "      <th>MntFishProducts</th>\n",
              "      <th>MntSweetProducts</th>\n",
              "      <th>MntGoldProds</th>\n",
              "      <th>Expenses</th>\n",
              "      <th>NumDealsPurchases</th>\n",
              "      <th>NumWebPurchases</th>\n",
              "      <th>NumCatalogPurchases</th>\n",
              "      <th>NumAllPurchases</th>\n",
              "      <th>NumStorePurchases</th>\n",
              "      <th>NumWebVisitsMonth</th>\n",
              "      <th>AcceptedCmp3</th>\n",
              "      <th>AcceptedCmp4</th>\n",
              "      <th>AcceptedCmp5</th>\n",
              "      <th>AcceptedCmp1</th>\n",
              "      <th>AcceptedCmp2</th>\n",
              "      <th>Complain</th>\n",
              "      <th>Response</th>\n",
              "    </tr>\n",
              "  </thead>\n",
              "  <tbody>\n",
              "    <tr>\n",
              "      <th>0</th>\n",
              "      <td>5524</td>\n",
              "      <td>1957.0</td>\n",
              "      <td>57.0</td>\n",
              "      <td>Gen X</td>\n",
              "      <td>Undergraduate</td>\n",
              "      <td>0.0</td>\n",
              "      <td>Single</td>\n",
              "      <td>58138.0</td>\n",
              "      <td>0.0</td>\n",
              "      <td>0.0</td>\n",
              "      <td>2012-04-09</td>\n",
              "      <td>58.0</td>\n",
              "      <td>635.0</td>\n",
              "      <td>88.0</td>\n",
              "      <td>546.0</td>\n",
              "      <td>172.0</td>\n",
              "      <td>88.0</td>\n",
              "      <td>88.0</td>\n",
              "      <td>1617.0</td>\n",
              "      <td>3.0</td>\n",
              "      <td>8.0</td>\n",
              "      <td>10.0</td>\n",
              "      <td>22.0</td>\n",
              "      <td>4.0</td>\n",
              "      <td>7.0</td>\n",
              "      <td>0.0</td>\n",
              "      <td>0.0</td>\n",
              "      <td>0.0</td>\n",
              "      <td>0.0</td>\n",
              "      <td>0.0</td>\n",
              "      <td>0.0</td>\n",
              "      <td>1.0</td>\n",
              "    </tr>\n",
              "    <tr>\n",
              "      <th>1</th>\n",
              "      <td>2174</td>\n",
              "      <td>1954.0</td>\n",
              "      <td>60.0</td>\n",
              "      <td>Boomers</td>\n",
              "      <td>Undergraduate</td>\n",
              "      <td>2.0</td>\n",
              "      <td>Single</td>\n",
              "      <td>46344.0</td>\n",
              "      <td>1.0</td>\n",
              "      <td>1.0</td>\n",
              "      <td>2014-08-03</td>\n",
              "      <td>38.0</td>\n",
              "      <td>11.0</td>\n",
              "      <td>1.0</td>\n",
              "      <td>6.0</td>\n",
              "      <td>2.0</td>\n",
              "      <td>1.0</td>\n",
              "      <td>6.0</td>\n",
              "      <td>27.0</td>\n",
              "      <td>2.0</td>\n",
              "      <td>1.0</td>\n",
              "      <td>1.0</td>\n",
              "      <td>4.0</td>\n",
              "      <td>2.0</td>\n",
              "      <td>5.0</td>\n",
              "      <td>0.0</td>\n",
              "      <td>0.0</td>\n",
              "      <td>0.0</td>\n",
              "      <td>0.0</td>\n",
              "      <td>0.0</td>\n",
              "      <td>0.0</td>\n",
              "      <td>0.0</td>\n",
              "    </tr>\n",
              "    <tr>\n",
              "      <th>2</th>\n",
              "      <td>4141</td>\n",
              "      <td>1965.0</td>\n",
              "      <td>49.0</td>\n",
              "      <td>Gen X</td>\n",
              "      <td>Undergraduate</td>\n",
              "      <td>0.0</td>\n",
              "      <td>Married</td>\n",
              "      <td>71613.0</td>\n",
              "      <td>0.0</td>\n",
              "      <td>0.0</td>\n",
              "      <td>2013-08-21</td>\n",
              "      <td>26.0</td>\n",
              "      <td>426.0</td>\n",
              "      <td>49.0</td>\n",
              "      <td>127.0</td>\n",
              "      <td>111.0</td>\n",
              "      <td>21.0</td>\n",
              "      <td>42.0</td>\n",
              "      <td>776.0</td>\n",
              "      <td>1.0</td>\n",
              "      <td>8.0</td>\n",
              "      <td>2.0</td>\n",
              "      <td>20.0</td>\n",
              "      <td>10.0</td>\n",
              "      <td>4.0</td>\n",
              "      <td>0.0</td>\n",
              "      <td>0.0</td>\n",
              "      <td>0.0</td>\n",
              "      <td>0.0</td>\n",
              "      <td>0.0</td>\n",
              "      <td>0.0</td>\n",
              "      <td>0.0</td>\n",
              "    </tr>\n",
              "    <tr>\n",
              "      <th>3</th>\n",
              "      <td>6182</td>\n",
              "      <td>1984.0</td>\n",
              "      <td>30.0</td>\n",
              "      <td>Millenials</td>\n",
              "      <td>Undergraduate</td>\n",
              "      <td>1.0</td>\n",
              "      <td>Married</td>\n",
              "      <td>26646.0</td>\n",
              "      <td>1.0</td>\n",
              "      <td>0.0</td>\n",
              "      <td>2014-10-02</td>\n",
              "      <td>26.0</td>\n",
              "      <td>11.0</td>\n",
              "      <td>4.0</td>\n",
              "      <td>20.0</td>\n",
              "      <td>10.0</td>\n",
              "      <td>3.0</td>\n",
              "      <td>5.0</td>\n",
              "      <td>53.0</td>\n",
              "      <td>2.0</td>\n",
              "      <td>2.0</td>\n",
              "      <td>0.0</td>\n",
              "      <td>6.0</td>\n",
              "      <td>4.0</td>\n",
              "      <td>6.0</td>\n",
              "      <td>0.0</td>\n",
              "      <td>0.0</td>\n",
              "      <td>0.0</td>\n",
              "      <td>0.0</td>\n",
              "      <td>0.0</td>\n",
              "      <td>0.0</td>\n",
              "      <td>0.0</td>\n",
              "    </tr>\n",
              "    <tr>\n",
              "      <th>4</th>\n",
              "      <td>5324</td>\n",
              "      <td>1981.0</td>\n",
              "      <td>33.0</td>\n",
              "      <td>Millenials</td>\n",
              "      <td>Postgraduate</td>\n",
              "      <td>1.0</td>\n",
              "      <td>Married</td>\n",
              "      <td>58293.0</td>\n",
              "      <td>1.0</td>\n",
              "      <td>0.0</td>\n",
              "      <td>2014-01-19</td>\n",
              "      <td>94.0</td>\n",
              "      <td>173.0</td>\n",
              "      <td>43.0</td>\n",
              "      <td>118.0</td>\n",
              "      <td>46.0</td>\n",
              "      <td>27.0</td>\n",
              "      <td>15.0</td>\n",
              "      <td>422.0</td>\n",
              "      <td>5.0</td>\n",
              "      <td>5.0</td>\n",
              "      <td>3.0</td>\n",
              "      <td>14.0</td>\n",
              "      <td>6.0</td>\n",
              "      <td>5.0</td>\n",
              "      <td>0.0</td>\n",
              "      <td>0.0</td>\n",
              "      <td>0.0</td>\n",
              "      <td>0.0</td>\n",
              "      <td>0.0</td>\n",
              "      <td>0.0</td>\n",
              "      <td>0.0</td>\n",
              "    </tr>\n",
              "  </tbody>\n",
              "</table>\n",
              "</div>"
            ],
            "text/plain": [
              "     ID  Year_Birth   Age   Age_group      Education  Children Marital_Status  \\\n",
              "0  5524      1957.0  57.0       Gen X  Undergraduate       0.0         Single   \n",
              "1  2174      1954.0  60.0     Boomers  Undergraduate       2.0         Single   \n",
              "2  4141      1965.0  49.0       Gen X  Undergraduate       0.0        Married   \n",
              "3  6182      1984.0  30.0  Millenials  Undergraduate       1.0        Married   \n",
              "4  5324      1981.0  33.0  Millenials   Postgraduate       1.0        Married   \n",
              "\n",
              "    Income  Kidhome  Teenhome Dt_Customer  Recency  MntWines  MntFruits  \\\n",
              "0  58138.0      0.0       0.0  2012-04-09     58.0     635.0       88.0   \n",
              "1  46344.0      1.0       1.0  2014-08-03     38.0      11.0        1.0   \n",
              "2  71613.0      0.0       0.0  2013-08-21     26.0     426.0       49.0   \n",
              "3  26646.0      1.0       0.0  2014-10-02     26.0      11.0        4.0   \n",
              "4  58293.0      1.0       0.0  2014-01-19     94.0     173.0       43.0   \n",
              "\n",
              "   MntMeatProducts  MntFishProducts  MntSweetProducts  MntGoldProds  Expenses  \\\n",
              "0            546.0            172.0              88.0          88.0    1617.0   \n",
              "1              6.0              2.0               1.0           6.0      27.0   \n",
              "2            127.0            111.0              21.0          42.0     776.0   \n",
              "3             20.0             10.0               3.0           5.0      53.0   \n",
              "4            118.0             46.0              27.0          15.0     422.0   \n",
              "\n",
              "   NumDealsPurchases  NumWebPurchases  NumCatalogPurchases  NumAllPurchases  \\\n",
              "0                3.0              8.0                 10.0             22.0   \n",
              "1                2.0              1.0                  1.0              4.0   \n",
              "2                1.0              8.0                  2.0             20.0   \n",
              "3                2.0              2.0                  0.0              6.0   \n",
              "4                5.0              5.0                  3.0             14.0   \n",
              "\n",
              "   NumStorePurchases  NumWebVisitsMonth  AcceptedCmp3  AcceptedCmp4  \\\n",
              "0                4.0                7.0           0.0           0.0   \n",
              "1                2.0                5.0           0.0           0.0   \n",
              "2               10.0                4.0           0.0           0.0   \n",
              "3                4.0                6.0           0.0           0.0   \n",
              "4                6.0                5.0           0.0           0.0   \n",
              "\n",
              "   AcceptedCmp5  AcceptedCmp1  AcceptedCmp2  Complain  Response  \n",
              "0           0.0           0.0           0.0       0.0       1.0  \n",
              "1           0.0           0.0           0.0       0.0       0.0  \n",
              "2           0.0           0.0           0.0       0.0       0.0  \n",
              "3           0.0           0.0           0.0       0.0       0.0  \n",
              "4           0.0           0.0           0.0       0.0       0.0  "
            ]
          },
          "execution_count": 31,
          "metadata": {},
          "output_type": "execute_result"
        }
      ],
      "source": [
        "# Add column \"NumAllPurchases\" which is total of frequency of customers' transaction channels\n",
        "NumAllPurchases = df['NumWebPurchases']+df['NumCatalogPurchases']+df['NumStorePurchases']\n",
        "df.insert(22,'NumAllPurchases',NumAllPurchases)\n",
        "df.head()"
      ]
    },
    {
      "cell_type": "code",
      "execution_count": 32,
      "metadata": {
        "id": "egsC8WKwG-gW"
      },
      "outputs": [],
      "source": [
        "# change Age and Children data type into \"integer\"\n",
        "df['Age']=df['Age'].astype('int')\n",
        "df['Children']=df['Children'].astype('int')"
      ]
    },
    {
      "cell_type": "markdown",
      "metadata": {
        "id": "0SOmF4arG-gW"
      },
      "source": [
        "### Drop unnecessary columns"
      ]
    },
    {
      "cell_type": "code",
      "execution_count": 33,
      "metadata": {
        "colab": {
          "base_uri": "https://localhost:8080/"
        },
        "id": "r5X1wBs1G-gW",
        "outputId": "492877f7-7e2e-480f-dc74-cce01b0c1376"
      },
      "outputs": [
        {
          "data": {
            "text/plain": [
              "Index(['index', 'ID', 'Age', 'Age_group', 'Education', 'Children',\n",
              "       'Marital_Status', 'Income', 'Dt_Customer', 'Recency', 'MntWines',\n",
              "       'MntFruits', 'MntMeatProducts', 'MntFishProducts', 'MntSweetProducts',\n",
              "       'MntGoldProds', 'Expenses', 'NumDealsPurchases', 'NumWebPurchases',\n",
              "       'NumCatalogPurchases', 'NumAllPurchases', 'NumStorePurchases',\n",
              "       'NumWebVisitsMonth'],\n",
              "      dtype='object')"
            ]
          },
          "execution_count": 33,
          "metadata": {},
          "output_type": "execute_result"
        }
      ],
      "source": [
        "cols_drop = ['Year_Birth','Kidhome','Teenhome','AcceptedCmp3','AcceptedCmp4','AcceptedCmp5','AcceptedCmp1','AcceptedCmp2','Complain','Response']\n",
        "df=df.drop(columns=cols_drop).reset_index()\n",
        "df.columns"
      ]
    },
    {
      "cell_type": "code",
      "execution_count": 34,
      "metadata": {
        "id": "L-nab9zeG-gW"
      },
      "outputs": [],
      "source": [
        "# save data to csv\n",
        "df.to_csv('cleaned_marketing_data.csv')"
      ]
    },
    {
      "cell_type": "code",
      "execution_count": 35,
      "metadata": {
        "colab": {
          "base_uri": "https://localhost:8080/"
        },
        "id": "eX-fYJ_FG-gW",
        "outputId": "8340dbda-ba14-4d0c-fe99-f92a5861b686"
      },
      "outputs": [
        {
          "name": "stdout",
          "output_type": "stream",
          "text": [
            "So, after doing data cleaning and modification, we have 2189 rows and 23 columns in our dataset\n"
          ]
        }
      ],
      "source": [
        "print(f'So, after doing data cleaning and modification, we have {df.shape[0]} rows and {df.shape[1]} columns in our dataset')"
      ]
    },
    {
      "cell_type": "markdown",
      "metadata": {},
      "source": [
        "# Data Analysis\n",
        "\n",
        "## Characteristics of customers who purchase products\n",
        "\n",
        "To get insights about who are customers and what products they have purchased, we will divide our customers into four categories:\n",
        "\n",
        "1. Education\n",
        "2. Marital Status\n",
        "3. Number of Kids\n",
        "4. Age Group\n",
        "\n",
        "From those categories, we will dig more on their income, expenses, and product purchases."
      ]
    },
    {
      "cell_type": "markdown",
      "metadata": {
        "id": "dum3cgEvG-gW"
      },
      "source": [
        "### Observations of customers demographics\n",
        "\n",
        "In this section, we will observe the demographics of our customers based on \n",
        "- education\n",
        "- marital status\n",
        "- number of kids\n",
        "- Age Group \n",
        "\n",
        "to know more about our customers' profile. As a reminder, we have 2.189 customers during 2012 - 2014."
      ]
    },
    {
      "cell_type": "markdown",
      "metadata": {
        "id": "1GS8hA1lG-gX"
      },
      "source": [
        "### Education"
      ]
    },
    {
      "cell_type": "code",
      "execution_count": 36,
      "metadata": {
        "colab": {
          "base_uri": "https://localhost:8080/"
        },
        "id": "q0inXs7gG-gX",
        "outputId": "214b4d74-e247-491b-f791-81c95c1a407e"
      },
      "outputs": [
        {
          "data": {
            "text/html": [
              "<div>\n",
              "<style scoped>\n",
              "    .dataframe tbody tr th:only-of-type {\n",
              "        vertical-align: middle;\n",
              "    }\n",
              "\n",
              "    .dataframe tbody tr th {\n",
              "        vertical-align: top;\n",
              "    }\n",
              "\n",
              "    .dataframe thead th {\n",
              "        text-align: right;\n",
              "    }\n",
              "</style>\n",
              "<table border=\"1\" class=\"dataframe\">\n",
              "  <thead>\n",
              "    <tr style=\"text-align: right;\">\n",
              "      <th></th>\n",
              "      <th>Education</th>\n",
              "      <th>ID</th>\n",
              "    </tr>\n",
              "  </thead>\n",
              "  <tbody>\n",
              "    <tr>\n",
              "      <th>0</th>\n",
              "      <td>Postgraduate</td>\n",
              "      <td>1034</td>\n",
              "    </tr>\n",
              "    <tr>\n",
              "      <th>1</th>\n",
              "      <td>Undergraduate</td>\n",
              "      <td>1155</td>\n",
              "    </tr>\n",
              "  </tbody>\n",
              "</table>\n",
              "</div>"
            ],
            "text/plain": [
              "       Education    ID\n",
              "0   Postgraduate  1034\n",
              "1  Undergraduate  1155"
            ]
          },
          "execution_count": 36,
          "metadata": {},
          "output_type": "execute_result"
        }
      ],
      "source": [
        "df_education = df.groupby(['Education']).count()['ID'].reset_index()\n",
        "df_education"
      ]
    },
    {
      "cell_type": "code",
      "execution_count": 37,
      "metadata": {
        "colab": {
          "base_uri": "https://localhost:8080/"
        },
        "id": "7paTSsePG-gX",
        "outputId": "3c252499-c7fc-4f87-98f0-955c59f70bc4"
      },
      "outputs": [
        {
          "data": {
            "application/vnd.plotly.v1+json": {
              "config": {
                "plotlyServerURL": "https://plot.ly"
              },
              "data": [
                {
                  "domain": {
                    "x": [
                      0,
                      1
                    ],
                    "y": [
                      0,
                      1
                    ]
                  },
                  "hovertemplate": "Education=%{label}<br>ID=%{value}<extra></extra>",
                  "labels": [
                    "Postgraduate",
                    "Undergraduate"
                  ],
                  "legendgroup": "",
                  "name": "",
                  "showlegend": true,
                  "type": "pie",
                  "values": [
                    1034,
                    1155
                  ]
                }
              ],
              "layout": {
                "legend": {
                  "tracegroupgap": 0
                },
                "template": {
                  "data": {
                    "bar": [
                      {
                        "error_x": {
                          "color": "#2a3f5f"
                        },
                        "error_y": {
                          "color": "#2a3f5f"
                        },
                        "marker": {
                          "line": {
                            "color": "#E5ECF6",
                            "width": 0.5
                          },
                          "pattern": {
                            "fillmode": "overlay",
                            "size": 10,
                            "solidity": 0.2
                          }
                        },
                        "type": "bar"
                      }
                    ],
                    "barpolar": [
                      {
                        "marker": {
                          "line": {
                            "color": "#E5ECF6",
                            "width": 0.5
                          },
                          "pattern": {
                            "fillmode": "overlay",
                            "size": 10,
                            "solidity": 0.2
                          }
                        },
                        "type": "barpolar"
                      }
                    ],
                    "carpet": [
                      {
                        "aaxis": {
                          "endlinecolor": "#2a3f5f",
                          "gridcolor": "white",
                          "linecolor": "white",
                          "minorgridcolor": "white",
                          "startlinecolor": "#2a3f5f"
                        },
                        "baxis": {
                          "endlinecolor": "#2a3f5f",
                          "gridcolor": "white",
                          "linecolor": "white",
                          "minorgridcolor": "white",
                          "startlinecolor": "#2a3f5f"
                        },
                        "type": "carpet"
                      }
                    ],
                    "choropleth": [
                      {
                        "colorbar": {
                          "outlinewidth": 0,
                          "ticks": ""
                        },
                        "type": "choropleth"
                      }
                    ],
                    "contour": [
                      {
                        "colorbar": {
                          "outlinewidth": 0,
                          "ticks": ""
                        },
                        "colorscale": [
                          [
                            0,
                            "#0d0887"
                          ],
                          [
                            0.1111111111111111,
                            "#46039f"
                          ],
                          [
                            0.2222222222222222,
                            "#7201a8"
                          ],
                          [
                            0.3333333333333333,
                            "#9c179e"
                          ],
                          [
                            0.4444444444444444,
                            "#bd3786"
                          ],
                          [
                            0.5555555555555556,
                            "#d8576b"
                          ],
                          [
                            0.6666666666666666,
                            "#ed7953"
                          ],
                          [
                            0.7777777777777778,
                            "#fb9f3a"
                          ],
                          [
                            0.8888888888888888,
                            "#fdca26"
                          ],
                          [
                            1,
                            "#f0f921"
                          ]
                        ],
                        "type": "contour"
                      }
                    ],
                    "contourcarpet": [
                      {
                        "colorbar": {
                          "outlinewidth": 0,
                          "ticks": ""
                        },
                        "type": "contourcarpet"
                      }
                    ],
                    "heatmap": [
                      {
                        "colorbar": {
                          "outlinewidth": 0,
                          "ticks": ""
                        },
                        "colorscale": [
                          [
                            0,
                            "#0d0887"
                          ],
                          [
                            0.1111111111111111,
                            "#46039f"
                          ],
                          [
                            0.2222222222222222,
                            "#7201a8"
                          ],
                          [
                            0.3333333333333333,
                            "#9c179e"
                          ],
                          [
                            0.4444444444444444,
                            "#bd3786"
                          ],
                          [
                            0.5555555555555556,
                            "#d8576b"
                          ],
                          [
                            0.6666666666666666,
                            "#ed7953"
                          ],
                          [
                            0.7777777777777778,
                            "#fb9f3a"
                          ],
                          [
                            0.8888888888888888,
                            "#fdca26"
                          ],
                          [
                            1,
                            "#f0f921"
                          ]
                        ],
                        "type": "heatmap"
                      }
                    ],
                    "heatmapgl": [
                      {
                        "colorbar": {
                          "outlinewidth": 0,
                          "ticks": ""
                        },
                        "colorscale": [
                          [
                            0,
                            "#0d0887"
                          ],
                          [
                            0.1111111111111111,
                            "#46039f"
                          ],
                          [
                            0.2222222222222222,
                            "#7201a8"
                          ],
                          [
                            0.3333333333333333,
                            "#9c179e"
                          ],
                          [
                            0.4444444444444444,
                            "#bd3786"
                          ],
                          [
                            0.5555555555555556,
                            "#d8576b"
                          ],
                          [
                            0.6666666666666666,
                            "#ed7953"
                          ],
                          [
                            0.7777777777777778,
                            "#fb9f3a"
                          ],
                          [
                            0.8888888888888888,
                            "#fdca26"
                          ],
                          [
                            1,
                            "#f0f921"
                          ]
                        ],
                        "type": "heatmapgl"
                      }
                    ],
                    "histogram": [
                      {
                        "marker": {
                          "pattern": {
                            "fillmode": "overlay",
                            "size": 10,
                            "solidity": 0.2
                          }
                        },
                        "type": "histogram"
                      }
                    ],
                    "histogram2d": [
                      {
                        "colorbar": {
                          "outlinewidth": 0,
                          "ticks": ""
                        },
                        "colorscale": [
                          [
                            0,
                            "#0d0887"
                          ],
                          [
                            0.1111111111111111,
                            "#46039f"
                          ],
                          [
                            0.2222222222222222,
                            "#7201a8"
                          ],
                          [
                            0.3333333333333333,
                            "#9c179e"
                          ],
                          [
                            0.4444444444444444,
                            "#bd3786"
                          ],
                          [
                            0.5555555555555556,
                            "#d8576b"
                          ],
                          [
                            0.6666666666666666,
                            "#ed7953"
                          ],
                          [
                            0.7777777777777778,
                            "#fb9f3a"
                          ],
                          [
                            0.8888888888888888,
                            "#fdca26"
                          ],
                          [
                            1,
                            "#f0f921"
                          ]
                        ],
                        "type": "histogram2d"
                      }
                    ],
                    "histogram2dcontour": [
                      {
                        "colorbar": {
                          "outlinewidth": 0,
                          "ticks": ""
                        },
                        "colorscale": [
                          [
                            0,
                            "#0d0887"
                          ],
                          [
                            0.1111111111111111,
                            "#46039f"
                          ],
                          [
                            0.2222222222222222,
                            "#7201a8"
                          ],
                          [
                            0.3333333333333333,
                            "#9c179e"
                          ],
                          [
                            0.4444444444444444,
                            "#bd3786"
                          ],
                          [
                            0.5555555555555556,
                            "#d8576b"
                          ],
                          [
                            0.6666666666666666,
                            "#ed7953"
                          ],
                          [
                            0.7777777777777778,
                            "#fb9f3a"
                          ],
                          [
                            0.8888888888888888,
                            "#fdca26"
                          ],
                          [
                            1,
                            "#f0f921"
                          ]
                        ],
                        "type": "histogram2dcontour"
                      }
                    ],
                    "mesh3d": [
                      {
                        "colorbar": {
                          "outlinewidth": 0,
                          "ticks": ""
                        },
                        "type": "mesh3d"
                      }
                    ],
                    "parcoords": [
                      {
                        "line": {
                          "colorbar": {
                            "outlinewidth": 0,
                            "ticks": ""
                          }
                        },
                        "type": "parcoords"
                      }
                    ],
                    "pie": [
                      {
                        "automargin": true,
                        "type": "pie"
                      }
                    ],
                    "scatter": [
                      {
                        "fillpattern": {
                          "fillmode": "overlay",
                          "size": 10,
                          "solidity": 0.2
                        },
                        "type": "scatter"
                      }
                    ],
                    "scatter3d": [
                      {
                        "line": {
                          "colorbar": {
                            "outlinewidth": 0,
                            "ticks": ""
                          }
                        },
                        "marker": {
                          "colorbar": {
                            "outlinewidth": 0,
                            "ticks": ""
                          }
                        },
                        "type": "scatter3d"
                      }
                    ],
                    "scattercarpet": [
                      {
                        "marker": {
                          "colorbar": {
                            "outlinewidth": 0,
                            "ticks": ""
                          }
                        },
                        "type": "scattercarpet"
                      }
                    ],
                    "scattergeo": [
                      {
                        "marker": {
                          "colorbar": {
                            "outlinewidth": 0,
                            "ticks": ""
                          }
                        },
                        "type": "scattergeo"
                      }
                    ],
                    "scattergl": [
                      {
                        "marker": {
                          "colorbar": {
                            "outlinewidth": 0,
                            "ticks": ""
                          }
                        },
                        "type": "scattergl"
                      }
                    ],
                    "scattermapbox": [
                      {
                        "marker": {
                          "colorbar": {
                            "outlinewidth": 0,
                            "ticks": ""
                          }
                        },
                        "type": "scattermapbox"
                      }
                    ],
                    "scatterpolar": [
                      {
                        "marker": {
                          "colorbar": {
                            "outlinewidth": 0,
                            "ticks": ""
                          }
                        },
                        "type": "scatterpolar"
                      }
                    ],
                    "scatterpolargl": [
                      {
                        "marker": {
                          "colorbar": {
                            "outlinewidth": 0,
                            "ticks": ""
                          }
                        },
                        "type": "scatterpolargl"
                      }
                    ],
                    "scatterternary": [
                      {
                        "marker": {
                          "colorbar": {
                            "outlinewidth": 0,
                            "ticks": ""
                          }
                        },
                        "type": "scatterternary"
                      }
                    ],
                    "surface": [
                      {
                        "colorbar": {
                          "outlinewidth": 0,
                          "ticks": ""
                        },
                        "colorscale": [
                          [
                            0,
                            "#0d0887"
                          ],
                          [
                            0.1111111111111111,
                            "#46039f"
                          ],
                          [
                            0.2222222222222222,
                            "#7201a8"
                          ],
                          [
                            0.3333333333333333,
                            "#9c179e"
                          ],
                          [
                            0.4444444444444444,
                            "#bd3786"
                          ],
                          [
                            0.5555555555555556,
                            "#d8576b"
                          ],
                          [
                            0.6666666666666666,
                            "#ed7953"
                          ],
                          [
                            0.7777777777777778,
                            "#fb9f3a"
                          ],
                          [
                            0.8888888888888888,
                            "#fdca26"
                          ],
                          [
                            1,
                            "#f0f921"
                          ]
                        ],
                        "type": "surface"
                      }
                    ],
                    "table": [
                      {
                        "cells": {
                          "fill": {
                            "color": "#EBF0F8"
                          },
                          "line": {
                            "color": "white"
                          }
                        },
                        "header": {
                          "fill": {
                            "color": "#C8D4E3"
                          },
                          "line": {
                            "color": "white"
                          }
                        },
                        "type": "table"
                      }
                    ]
                  },
                  "layout": {
                    "annotationdefaults": {
                      "arrowcolor": "#2a3f5f",
                      "arrowhead": 0,
                      "arrowwidth": 1
                    },
                    "autotypenumbers": "strict",
                    "coloraxis": {
                      "colorbar": {
                        "outlinewidth": 0,
                        "ticks": ""
                      }
                    },
                    "colorscale": {
                      "diverging": [
                        [
                          0,
                          "#8e0152"
                        ],
                        [
                          0.1,
                          "#c51b7d"
                        ],
                        [
                          0.2,
                          "#de77ae"
                        ],
                        [
                          0.3,
                          "#f1b6da"
                        ],
                        [
                          0.4,
                          "#fde0ef"
                        ],
                        [
                          0.5,
                          "#f7f7f7"
                        ],
                        [
                          0.6,
                          "#e6f5d0"
                        ],
                        [
                          0.7,
                          "#b8e186"
                        ],
                        [
                          0.8,
                          "#7fbc41"
                        ],
                        [
                          0.9,
                          "#4d9221"
                        ],
                        [
                          1,
                          "#276419"
                        ]
                      ],
                      "sequential": [
                        [
                          0,
                          "#0d0887"
                        ],
                        [
                          0.1111111111111111,
                          "#46039f"
                        ],
                        [
                          0.2222222222222222,
                          "#7201a8"
                        ],
                        [
                          0.3333333333333333,
                          "#9c179e"
                        ],
                        [
                          0.4444444444444444,
                          "#bd3786"
                        ],
                        [
                          0.5555555555555556,
                          "#d8576b"
                        ],
                        [
                          0.6666666666666666,
                          "#ed7953"
                        ],
                        [
                          0.7777777777777778,
                          "#fb9f3a"
                        ],
                        [
                          0.8888888888888888,
                          "#fdca26"
                        ],
                        [
                          1,
                          "#f0f921"
                        ]
                      ],
                      "sequentialminus": [
                        [
                          0,
                          "#0d0887"
                        ],
                        [
                          0.1111111111111111,
                          "#46039f"
                        ],
                        [
                          0.2222222222222222,
                          "#7201a8"
                        ],
                        [
                          0.3333333333333333,
                          "#9c179e"
                        ],
                        [
                          0.4444444444444444,
                          "#bd3786"
                        ],
                        [
                          0.5555555555555556,
                          "#d8576b"
                        ],
                        [
                          0.6666666666666666,
                          "#ed7953"
                        ],
                        [
                          0.7777777777777778,
                          "#fb9f3a"
                        ],
                        [
                          0.8888888888888888,
                          "#fdca26"
                        ],
                        [
                          1,
                          "#f0f921"
                        ]
                      ]
                    },
                    "colorway": [
                      "#636efa",
                      "#EF553B",
                      "#00cc96",
                      "#ab63fa",
                      "#FFA15A",
                      "#19d3f3",
                      "#FF6692",
                      "#B6E880",
                      "#FF97FF",
                      "#FECB52"
                    ],
                    "font": {
                      "color": "#2a3f5f"
                    },
                    "geo": {
                      "bgcolor": "white",
                      "lakecolor": "white",
                      "landcolor": "#E5ECF6",
                      "showlakes": true,
                      "showland": true,
                      "subunitcolor": "white"
                    },
                    "hoverlabel": {
                      "align": "left"
                    },
                    "hovermode": "closest",
                    "mapbox": {
                      "style": "light"
                    },
                    "paper_bgcolor": "white",
                    "plot_bgcolor": "#E5ECF6",
                    "polar": {
                      "angularaxis": {
                        "gridcolor": "white",
                        "linecolor": "white",
                        "ticks": ""
                      },
                      "bgcolor": "#E5ECF6",
                      "radialaxis": {
                        "gridcolor": "white",
                        "linecolor": "white",
                        "ticks": ""
                      }
                    },
                    "scene": {
                      "xaxis": {
                        "backgroundcolor": "#E5ECF6",
                        "gridcolor": "white",
                        "gridwidth": 2,
                        "linecolor": "white",
                        "showbackground": true,
                        "ticks": "",
                        "zerolinecolor": "white"
                      },
                      "yaxis": {
                        "backgroundcolor": "#E5ECF6",
                        "gridcolor": "white",
                        "gridwidth": 2,
                        "linecolor": "white",
                        "showbackground": true,
                        "ticks": "",
                        "zerolinecolor": "white"
                      },
                      "zaxis": {
                        "backgroundcolor": "#E5ECF6",
                        "gridcolor": "white",
                        "gridwidth": 2,
                        "linecolor": "white",
                        "showbackground": true,
                        "ticks": "",
                        "zerolinecolor": "white"
                      }
                    },
                    "shapedefaults": {
                      "line": {
                        "color": "#2a3f5f"
                      }
                    },
                    "ternary": {
                      "aaxis": {
                        "gridcolor": "white",
                        "linecolor": "white",
                        "ticks": ""
                      },
                      "baxis": {
                        "gridcolor": "white",
                        "linecolor": "white",
                        "ticks": ""
                      },
                      "bgcolor": "#E5ECF6",
                      "caxis": {
                        "gridcolor": "white",
                        "linecolor": "white",
                        "ticks": ""
                      }
                    },
                    "title": {
                      "x": 0.05
                    },
                    "xaxis": {
                      "automargin": true,
                      "gridcolor": "white",
                      "linecolor": "white",
                      "ticks": "",
                      "title": {
                        "standoff": 15
                      },
                      "zerolinecolor": "white",
                      "zerolinewidth": 2
                    },
                    "yaxis": {
                      "automargin": true,
                      "gridcolor": "white",
                      "linecolor": "white",
                      "ticks": "",
                      "title": {
                        "standoff": 15
                      },
                      "zerolinecolor": "white",
                      "zerolinewidth": 2
                    }
                  }
                },
                "title": {
                  "text": "Percentage of Customers' Education"
                }
              }
            }
          },
          "metadata": {},
          "output_type": "display_data"
        }
      ],
      "source": [
        "fig = px.pie(df_education,\n",
        "            names='Education',\n",
        "            values='ID',\n",
        "            title=\"Percentage of Customers' Education\")\n",
        "fig.show()"
      ]
    },
    {
      "cell_type": "markdown",
      "metadata": {
        "id": "87_0vlQzG-gX"
      },
      "source": [
        "From the pie chart above, we know that 52.8% of our customers' education are Undergraduate and 47.2% are Postgraduate"
      ]
    },
    {
      "cell_type": "markdown",
      "metadata": {
        "id": "ZMhjVz6QG-gX"
      },
      "source": [
        "### Marital Status category"
      ]
    },
    {
      "cell_type": "code",
      "execution_count": 38,
      "metadata": {
        "colab": {
          "base_uri": "https://localhost:8080/"
        },
        "id": "0cCsA1UEG-gX",
        "outputId": "8d0353eb-a72e-49b2-d10d-6bc1fb7a7455"
      },
      "outputs": [
        {
          "data": {
            "text/html": [
              "<div>\n",
              "<style scoped>\n",
              "    .dataframe tbody tr th:only-of-type {\n",
              "        vertical-align: middle;\n",
              "    }\n",
              "\n",
              "    .dataframe tbody tr th {\n",
              "        vertical-align: top;\n",
              "    }\n",
              "\n",
              "    .dataframe thead th {\n",
              "        text-align: right;\n",
              "    }\n",
              "</style>\n",
              "<table border=\"1\" class=\"dataframe\">\n",
              "  <thead>\n",
              "    <tr style=\"text-align: right;\">\n",
              "      <th></th>\n",
              "      <th>Marital_Status</th>\n",
              "      <th>ID</th>\n",
              "      <th>percentage of customer</th>\n",
              "    </tr>\n",
              "  </thead>\n",
              "  <tbody>\n",
              "    <tr>\n",
              "      <th>0</th>\n",
              "      <td>Divorced</td>\n",
              "      <td>299</td>\n",
              "      <td>13.7</td>\n",
              "    </tr>\n",
              "    <tr>\n",
              "      <th>1</th>\n",
              "      <td>Married</td>\n",
              "      <td>1416</td>\n",
              "      <td>64.7</td>\n",
              "    </tr>\n",
              "    <tr>\n",
              "      <th>2</th>\n",
              "      <td>Single</td>\n",
              "      <td>474</td>\n",
              "      <td>21.7</td>\n",
              "    </tr>\n",
              "  </tbody>\n",
              "</table>\n",
              "</div>"
            ],
            "text/plain": [
              "  Marital_Status    ID  percentage of customer\n",
              "0       Divorced   299                    13.7\n",
              "1        Married  1416                    64.7\n",
              "2         Single   474                    21.7"
            ]
          },
          "execution_count": 38,
          "metadata": {},
          "output_type": "execute_result"
        }
      ],
      "source": [
        "df_marital = df.groupby(['Marital_Status']).count()['ID'].reset_index()\n",
        "# df['percentage of customers'] = df['ID']/len(df)\n",
        "df_marital['percentage of customer'] = round(df_marital['ID']/len(df)*100,1)\n",
        "df_marital"
      ]
    },
    {
      "cell_type": "code",
      "execution_count": 39,
      "metadata": {
        "colab": {
          "base_uri": "https://localhost:8080/"
        },
        "id": "FBID3DxHG-gX",
        "outputId": "74c9cb92-bcc4-4ff6-d23e-f92ed18a3251"
      },
      "outputs": [
        {
          "data": {
            "application/vnd.plotly.v1+json": {
              "config": {
                "plotlyServerURL": "https://plot.ly"
              },
              "data": [
                {
                  "alignmentgroup": "True",
                  "hovertemplate": "Marital_Status=%{x}<br>percentage of customer=%{y}<extra></extra>",
                  "legendgroup": "",
                  "marker": {
                    "color": "#636efa",
                    "pattern": {
                      "shape": ""
                    }
                  },
                  "name": "",
                  "offsetgroup": "",
                  "orientation": "v",
                  "showlegend": false,
                  "textposition": "auto",
                  "type": "bar",
                  "x": [
                    "Divorced",
                    "Married",
                    "Single"
                  ],
                  "xaxis": "x",
                  "y": [
                    13.7,
                    64.7,
                    21.7
                  ],
                  "yaxis": "y"
                }
              ],
              "layout": {
                "barmode": "relative",
                "legend": {
                  "tracegroupgap": 0
                },
                "template": {
                  "data": {
                    "bar": [
                      {
                        "error_x": {
                          "color": "#2a3f5f"
                        },
                        "error_y": {
                          "color": "#2a3f5f"
                        },
                        "marker": {
                          "line": {
                            "color": "#E5ECF6",
                            "width": 0.5
                          },
                          "pattern": {
                            "fillmode": "overlay",
                            "size": 10,
                            "solidity": 0.2
                          }
                        },
                        "type": "bar"
                      }
                    ],
                    "barpolar": [
                      {
                        "marker": {
                          "line": {
                            "color": "#E5ECF6",
                            "width": 0.5
                          },
                          "pattern": {
                            "fillmode": "overlay",
                            "size": 10,
                            "solidity": 0.2
                          }
                        },
                        "type": "barpolar"
                      }
                    ],
                    "carpet": [
                      {
                        "aaxis": {
                          "endlinecolor": "#2a3f5f",
                          "gridcolor": "white",
                          "linecolor": "white",
                          "minorgridcolor": "white",
                          "startlinecolor": "#2a3f5f"
                        },
                        "baxis": {
                          "endlinecolor": "#2a3f5f",
                          "gridcolor": "white",
                          "linecolor": "white",
                          "minorgridcolor": "white",
                          "startlinecolor": "#2a3f5f"
                        },
                        "type": "carpet"
                      }
                    ],
                    "choropleth": [
                      {
                        "colorbar": {
                          "outlinewidth": 0,
                          "ticks": ""
                        },
                        "type": "choropleth"
                      }
                    ],
                    "contour": [
                      {
                        "colorbar": {
                          "outlinewidth": 0,
                          "ticks": ""
                        },
                        "colorscale": [
                          [
                            0,
                            "#0d0887"
                          ],
                          [
                            0.1111111111111111,
                            "#46039f"
                          ],
                          [
                            0.2222222222222222,
                            "#7201a8"
                          ],
                          [
                            0.3333333333333333,
                            "#9c179e"
                          ],
                          [
                            0.4444444444444444,
                            "#bd3786"
                          ],
                          [
                            0.5555555555555556,
                            "#d8576b"
                          ],
                          [
                            0.6666666666666666,
                            "#ed7953"
                          ],
                          [
                            0.7777777777777778,
                            "#fb9f3a"
                          ],
                          [
                            0.8888888888888888,
                            "#fdca26"
                          ],
                          [
                            1,
                            "#f0f921"
                          ]
                        ],
                        "type": "contour"
                      }
                    ],
                    "contourcarpet": [
                      {
                        "colorbar": {
                          "outlinewidth": 0,
                          "ticks": ""
                        },
                        "type": "contourcarpet"
                      }
                    ],
                    "heatmap": [
                      {
                        "colorbar": {
                          "outlinewidth": 0,
                          "ticks": ""
                        },
                        "colorscale": [
                          [
                            0,
                            "#0d0887"
                          ],
                          [
                            0.1111111111111111,
                            "#46039f"
                          ],
                          [
                            0.2222222222222222,
                            "#7201a8"
                          ],
                          [
                            0.3333333333333333,
                            "#9c179e"
                          ],
                          [
                            0.4444444444444444,
                            "#bd3786"
                          ],
                          [
                            0.5555555555555556,
                            "#d8576b"
                          ],
                          [
                            0.6666666666666666,
                            "#ed7953"
                          ],
                          [
                            0.7777777777777778,
                            "#fb9f3a"
                          ],
                          [
                            0.8888888888888888,
                            "#fdca26"
                          ],
                          [
                            1,
                            "#f0f921"
                          ]
                        ],
                        "type": "heatmap"
                      }
                    ],
                    "heatmapgl": [
                      {
                        "colorbar": {
                          "outlinewidth": 0,
                          "ticks": ""
                        },
                        "colorscale": [
                          [
                            0,
                            "#0d0887"
                          ],
                          [
                            0.1111111111111111,
                            "#46039f"
                          ],
                          [
                            0.2222222222222222,
                            "#7201a8"
                          ],
                          [
                            0.3333333333333333,
                            "#9c179e"
                          ],
                          [
                            0.4444444444444444,
                            "#bd3786"
                          ],
                          [
                            0.5555555555555556,
                            "#d8576b"
                          ],
                          [
                            0.6666666666666666,
                            "#ed7953"
                          ],
                          [
                            0.7777777777777778,
                            "#fb9f3a"
                          ],
                          [
                            0.8888888888888888,
                            "#fdca26"
                          ],
                          [
                            1,
                            "#f0f921"
                          ]
                        ],
                        "type": "heatmapgl"
                      }
                    ],
                    "histogram": [
                      {
                        "marker": {
                          "pattern": {
                            "fillmode": "overlay",
                            "size": 10,
                            "solidity": 0.2
                          }
                        },
                        "type": "histogram"
                      }
                    ],
                    "histogram2d": [
                      {
                        "colorbar": {
                          "outlinewidth": 0,
                          "ticks": ""
                        },
                        "colorscale": [
                          [
                            0,
                            "#0d0887"
                          ],
                          [
                            0.1111111111111111,
                            "#46039f"
                          ],
                          [
                            0.2222222222222222,
                            "#7201a8"
                          ],
                          [
                            0.3333333333333333,
                            "#9c179e"
                          ],
                          [
                            0.4444444444444444,
                            "#bd3786"
                          ],
                          [
                            0.5555555555555556,
                            "#d8576b"
                          ],
                          [
                            0.6666666666666666,
                            "#ed7953"
                          ],
                          [
                            0.7777777777777778,
                            "#fb9f3a"
                          ],
                          [
                            0.8888888888888888,
                            "#fdca26"
                          ],
                          [
                            1,
                            "#f0f921"
                          ]
                        ],
                        "type": "histogram2d"
                      }
                    ],
                    "histogram2dcontour": [
                      {
                        "colorbar": {
                          "outlinewidth": 0,
                          "ticks": ""
                        },
                        "colorscale": [
                          [
                            0,
                            "#0d0887"
                          ],
                          [
                            0.1111111111111111,
                            "#46039f"
                          ],
                          [
                            0.2222222222222222,
                            "#7201a8"
                          ],
                          [
                            0.3333333333333333,
                            "#9c179e"
                          ],
                          [
                            0.4444444444444444,
                            "#bd3786"
                          ],
                          [
                            0.5555555555555556,
                            "#d8576b"
                          ],
                          [
                            0.6666666666666666,
                            "#ed7953"
                          ],
                          [
                            0.7777777777777778,
                            "#fb9f3a"
                          ],
                          [
                            0.8888888888888888,
                            "#fdca26"
                          ],
                          [
                            1,
                            "#f0f921"
                          ]
                        ],
                        "type": "histogram2dcontour"
                      }
                    ],
                    "mesh3d": [
                      {
                        "colorbar": {
                          "outlinewidth": 0,
                          "ticks": ""
                        },
                        "type": "mesh3d"
                      }
                    ],
                    "parcoords": [
                      {
                        "line": {
                          "colorbar": {
                            "outlinewidth": 0,
                            "ticks": ""
                          }
                        },
                        "type": "parcoords"
                      }
                    ],
                    "pie": [
                      {
                        "automargin": true,
                        "type": "pie"
                      }
                    ],
                    "scatter": [
                      {
                        "fillpattern": {
                          "fillmode": "overlay",
                          "size": 10,
                          "solidity": 0.2
                        },
                        "type": "scatter"
                      }
                    ],
                    "scatter3d": [
                      {
                        "line": {
                          "colorbar": {
                            "outlinewidth": 0,
                            "ticks": ""
                          }
                        },
                        "marker": {
                          "colorbar": {
                            "outlinewidth": 0,
                            "ticks": ""
                          }
                        },
                        "type": "scatter3d"
                      }
                    ],
                    "scattercarpet": [
                      {
                        "marker": {
                          "colorbar": {
                            "outlinewidth": 0,
                            "ticks": ""
                          }
                        },
                        "type": "scattercarpet"
                      }
                    ],
                    "scattergeo": [
                      {
                        "marker": {
                          "colorbar": {
                            "outlinewidth": 0,
                            "ticks": ""
                          }
                        },
                        "type": "scattergeo"
                      }
                    ],
                    "scattergl": [
                      {
                        "marker": {
                          "colorbar": {
                            "outlinewidth": 0,
                            "ticks": ""
                          }
                        },
                        "type": "scattergl"
                      }
                    ],
                    "scattermapbox": [
                      {
                        "marker": {
                          "colorbar": {
                            "outlinewidth": 0,
                            "ticks": ""
                          }
                        },
                        "type": "scattermapbox"
                      }
                    ],
                    "scatterpolar": [
                      {
                        "marker": {
                          "colorbar": {
                            "outlinewidth": 0,
                            "ticks": ""
                          }
                        },
                        "type": "scatterpolar"
                      }
                    ],
                    "scatterpolargl": [
                      {
                        "marker": {
                          "colorbar": {
                            "outlinewidth": 0,
                            "ticks": ""
                          }
                        },
                        "type": "scatterpolargl"
                      }
                    ],
                    "scatterternary": [
                      {
                        "marker": {
                          "colorbar": {
                            "outlinewidth": 0,
                            "ticks": ""
                          }
                        },
                        "type": "scatterternary"
                      }
                    ],
                    "surface": [
                      {
                        "colorbar": {
                          "outlinewidth": 0,
                          "ticks": ""
                        },
                        "colorscale": [
                          [
                            0,
                            "#0d0887"
                          ],
                          [
                            0.1111111111111111,
                            "#46039f"
                          ],
                          [
                            0.2222222222222222,
                            "#7201a8"
                          ],
                          [
                            0.3333333333333333,
                            "#9c179e"
                          ],
                          [
                            0.4444444444444444,
                            "#bd3786"
                          ],
                          [
                            0.5555555555555556,
                            "#d8576b"
                          ],
                          [
                            0.6666666666666666,
                            "#ed7953"
                          ],
                          [
                            0.7777777777777778,
                            "#fb9f3a"
                          ],
                          [
                            0.8888888888888888,
                            "#fdca26"
                          ],
                          [
                            1,
                            "#f0f921"
                          ]
                        ],
                        "type": "surface"
                      }
                    ],
                    "table": [
                      {
                        "cells": {
                          "fill": {
                            "color": "#EBF0F8"
                          },
                          "line": {
                            "color": "white"
                          }
                        },
                        "header": {
                          "fill": {
                            "color": "#C8D4E3"
                          },
                          "line": {
                            "color": "white"
                          }
                        },
                        "type": "table"
                      }
                    ]
                  },
                  "layout": {
                    "annotationdefaults": {
                      "arrowcolor": "#2a3f5f",
                      "arrowhead": 0,
                      "arrowwidth": 1
                    },
                    "autotypenumbers": "strict",
                    "coloraxis": {
                      "colorbar": {
                        "outlinewidth": 0,
                        "ticks": ""
                      }
                    },
                    "colorscale": {
                      "diverging": [
                        [
                          0,
                          "#8e0152"
                        ],
                        [
                          0.1,
                          "#c51b7d"
                        ],
                        [
                          0.2,
                          "#de77ae"
                        ],
                        [
                          0.3,
                          "#f1b6da"
                        ],
                        [
                          0.4,
                          "#fde0ef"
                        ],
                        [
                          0.5,
                          "#f7f7f7"
                        ],
                        [
                          0.6,
                          "#e6f5d0"
                        ],
                        [
                          0.7,
                          "#b8e186"
                        ],
                        [
                          0.8,
                          "#7fbc41"
                        ],
                        [
                          0.9,
                          "#4d9221"
                        ],
                        [
                          1,
                          "#276419"
                        ]
                      ],
                      "sequential": [
                        [
                          0,
                          "#0d0887"
                        ],
                        [
                          0.1111111111111111,
                          "#46039f"
                        ],
                        [
                          0.2222222222222222,
                          "#7201a8"
                        ],
                        [
                          0.3333333333333333,
                          "#9c179e"
                        ],
                        [
                          0.4444444444444444,
                          "#bd3786"
                        ],
                        [
                          0.5555555555555556,
                          "#d8576b"
                        ],
                        [
                          0.6666666666666666,
                          "#ed7953"
                        ],
                        [
                          0.7777777777777778,
                          "#fb9f3a"
                        ],
                        [
                          0.8888888888888888,
                          "#fdca26"
                        ],
                        [
                          1,
                          "#f0f921"
                        ]
                      ],
                      "sequentialminus": [
                        [
                          0,
                          "#0d0887"
                        ],
                        [
                          0.1111111111111111,
                          "#46039f"
                        ],
                        [
                          0.2222222222222222,
                          "#7201a8"
                        ],
                        [
                          0.3333333333333333,
                          "#9c179e"
                        ],
                        [
                          0.4444444444444444,
                          "#bd3786"
                        ],
                        [
                          0.5555555555555556,
                          "#d8576b"
                        ],
                        [
                          0.6666666666666666,
                          "#ed7953"
                        ],
                        [
                          0.7777777777777778,
                          "#fb9f3a"
                        ],
                        [
                          0.8888888888888888,
                          "#fdca26"
                        ],
                        [
                          1,
                          "#f0f921"
                        ]
                      ]
                    },
                    "colorway": [
                      "#636efa",
                      "#EF553B",
                      "#00cc96",
                      "#ab63fa",
                      "#FFA15A",
                      "#19d3f3",
                      "#FF6692",
                      "#B6E880",
                      "#FF97FF",
                      "#FECB52"
                    ],
                    "font": {
                      "color": "#2a3f5f"
                    },
                    "geo": {
                      "bgcolor": "white",
                      "lakecolor": "white",
                      "landcolor": "#E5ECF6",
                      "showlakes": true,
                      "showland": true,
                      "subunitcolor": "white"
                    },
                    "hoverlabel": {
                      "align": "left"
                    },
                    "hovermode": "closest",
                    "mapbox": {
                      "style": "light"
                    },
                    "paper_bgcolor": "white",
                    "plot_bgcolor": "#E5ECF6",
                    "polar": {
                      "angularaxis": {
                        "gridcolor": "white",
                        "linecolor": "white",
                        "ticks": ""
                      },
                      "bgcolor": "#E5ECF6",
                      "radialaxis": {
                        "gridcolor": "white",
                        "linecolor": "white",
                        "ticks": ""
                      }
                    },
                    "scene": {
                      "xaxis": {
                        "backgroundcolor": "#E5ECF6",
                        "gridcolor": "white",
                        "gridwidth": 2,
                        "linecolor": "white",
                        "showbackground": true,
                        "ticks": "",
                        "zerolinecolor": "white"
                      },
                      "yaxis": {
                        "backgroundcolor": "#E5ECF6",
                        "gridcolor": "white",
                        "gridwidth": 2,
                        "linecolor": "white",
                        "showbackground": true,
                        "ticks": "",
                        "zerolinecolor": "white"
                      },
                      "zaxis": {
                        "backgroundcolor": "#E5ECF6",
                        "gridcolor": "white",
                        "gridwidth": 2,
                        "linecolor": "white",
                        "showbackground": true,
                        "ticks": "",
                        "zerolinecolor": "white"
                      }
                    },
                    "shapedefaults": {
                      "line": {
                        "color": "#2a3f5f"
                      }
                    },
                    "ternary": {
                      "aaxis": {
                        "gridcolor": "white",
                        "linecolor": "white",
                        "ticks": ""
                      },
                      "baxis": {
                        "gridcolor": "white",
                        "linecolor": "white",
                        "ticks": ""
                      },
                      "bgcolor": "#E5ECF6",
                      "caxis": {
                        "gridcolor": "white",
                        "linecolor": "white",
                        "ticks": ""
                      }
                    },
                    "title": {
                      "x": 0.05
                    },
                    "xaxis": {
                      "automargin": true,
                      "gridcolor": "white",
                      "linecolor": "white",
                      "ticks": "",
                      "title": {
                        "standoff": 15
                      },
                      "zerolinecolor": "white",
                      "zerolinewidth": 2
                    },
                    "yaxis": {
                      "automargin": true,
                      "gridcolor": "white",
                      "linecolor": "white",
                      "ticks": "",
                      "title": {
                        "standoff": 15
                      },
                      "zerolinecolor": "white",
                      "zerolinewidth": 2
                    }
                  }
                },
                "title": {
                  "text": "Number of Customer by Marital Status"
                },
                "xaxis": {
                  "anchor": "y",
                  "domain": [
                    0,
                    1
                  ],
                  "title": {
                    "text": "Marital_Status"
                  }
                },
                "yaxis": {
                  "anchor": "x",
                  "domain": [
                    0,
                    1
                  ],
                  "title": {
                    "text": "percentage of customer"
                  }
                }
              }
            }
          },
          "metadata": {},
          "output_type": "display_data"
        }
      ],
      "source": [
        "fig = px.bar(\n",
        "    df_marital,\n",
        "    x='Marital_Status',\n",
        "    y='percentage of customer',\n",
        "    title=\"Number of Customer by Marital Status\"\n",
        ")\n",
        "\n",
        "fig.show()"
      ]
    },
    {
      "cell_type": "markdown",
      "metadata": {
        "id": "PdtEpCqEG-gY"
      },
      "source": [
        "From the graph above, we get the information that based on marital status, married customers has the highest percentage of all categories with 64.7%. The second is single customers wtih 21.7% and the last one is divorced customers with 13.7%"
      ]
    },
    {
      "cell_type": "markdown",
      "metadata": {
        "id": "6H1q1zNgG-gY"
      },
      "source": [
        "### Age group\n",
        "\n",
        "note : as a reminder, we have divided our customers based on age generations:\n",
        "\n",
        "1. Gen Z = 18 - 25 years old\n",
        "2. Millenials = 26 - 41 years old\n",
        "3. Gen X = 42 - 57 years old\n",
        "4. Boomers = > 57 years old"
      ]
    },
    {
      "cell_type": "code",
      "execution_count": 40,
      "metadata": {
        "colab": {
          "base_uri": "https://localhost:8080/"
        },
        "id": "FyHjQUrsG-gY",
        "outputId": "026435e2-87fa-4326-e405-da7eb544bb53"
      },
      "outputs": [
        {
          "data": {
            "text/html": [
              "<div>\n",
              "<style scoped>\n",
              "    .dataframe tbody tr th:only-of-type {\n",
              "        vertical-align: middle;\n",
              "    }\n",
              "\n",
              "    .dataframe tbody tr th {\n",
              "        vertical-align: top;\n",
              "    }\n",
              "\n",
              "    .dataframe thead th {\n",
              "        text-align: right;\n",
              "    }\n",
              "</style>\n",
              "<table border=\"1\" class=\"dataframe\">\n",
              "  <thead>\n",
              "    <tr style=\"text-align: right;\">\n",
              "      <th></th>\n",
              "      <th>Age_group</th>\n",
              "      <th>ID</th>\n",
              "      <th>percentage of customer</th>\n",
              "    </tr>\n",
              "  </thead>\n",
              "  <tbody>\n",
              "    <tr>\n",
              "      <th>0</th>\n",
              "      <td>Boomers</td>\n",
              "      <td>416</td>\n",
              "      <td>19.0</td>\n",
              "    </tr>\n",
              "    <tr>\n",
              "      <th>1</th>\n",
              "      <td>Gen X</td>\n",
              "      <td>887</td>\n",
              "      <td>40.5</td>\n",
              "    </tr>\n",
              "    <tr>\n",
              "      <th>2</th>\n",
              "      <td>Gen Z</td>\n",
              "      <td>84</td>\n",
              "      <td>3.8</td>\n",
              "    </tr>\n",
              "    <tr>\n",
              "      <th>3</th>\n",
              "      <td>Millenials</td>\n",
              "      <td>802</td>\n",
              "      <td>36.6</td>\n",
              "    </tr>\n",
              "  </tbody>\n",
              "</table>\n",
              "</div>"
            ],
            "text/plain": [
              "    Age_group   ID  percentage of customer\n",
              "0     Boomers  416                    19.0\n",
              "1       Gen X  887                    40.5\n",
              "2       Gen Z   84                     3.8\n",
              "3  Millenials  802                    36.6"
            ]
          },
          "execution_count": 40,
          "metadata": {},
          "output_type": "execute_result"
        }
      ],
      "source": [
        "df_age_group = df.groupby(['Age_group']).count()['ID'].reset_index()\n",
        "# df['percentage of customers'] = df['ID']/len(df)\n",
        "df_age_group['percentage of customer'] = round(df_age_group['ID']/len(df)*100,1)\n",
        "df_age_group"
      ]
    },
    {
      "cell_type": "code",
      "execution_count": 41,
      "metadata": {
        "colab": {
          "base_uri": "https://localhost:8080/"
        },
        "id": "wntEMoyDG-gY",
        "outputId": "8f14cb43-bf14-44d1-eb8b-8b7130fcc2ca"
      },
      "outputs": [
        {
          "data": {
            "text/plain": [
              "''"
            ]
          },
          "execution_count": 41,
          "metadata": {},
          "output_type": "execute_result"
        },
        {
          "data": {
            "image/png": "[encoded data removed]",
            "text/plain": [
              "<Figure size 432x288 with 1 Axes>"
            ]
          },
          "metadata": {
            "needs_background": "light"
          },
          "output_type": "display_data"
        }
      ],
      "source": [
        "sns.barplot(data=df_age_group,x='Age_group', y='percentage of customer')\n",
        "plt.title('Number of Customers by Age Group')\n",
        ";"
      ]
    },
    {
      "cell_type": "markdown",
      "metadata": {
        "id": "2iEKYId_G-gY"
      },
      "source": [
        "Based on the graph above, most of our customers come from Gen X generation (42 - 57 years old) and Gen Z is the least."
      ]
    },
    {
      "cell_type": "markdown",
      "metadata": {
        "id": "m2R4fSukG-gY"
      },
      "source": [
        "### Number of kids\n",
        "\n",
        "In this category, we devided out customers based on how many kids/teens that they have."
      ]
    },
    {
      "cell_type": "code",
      "execution_count": 42,
      "metadata": {
        "colab": {
          "base_uri": "https://localhost:8080/"
        },
        "id": "NECZOaHRG-gY",
        "outputId": "fd810b91-ba14-4d32-e5c1-f92d007f3942"
      },
      "outputs": [
        {
          "data": {
            "text/html": [
              "<div>\n",
              "<style scoped>\n",
              "    .dataframe tbody tr th:only-of-type {\n",
              "        vertical-align: middle;\n",
              "    }\n",
              "\n",
              "    .dataframe tbody tr th {\n",
              "        vertical-align: top;\n",
              "    }\n",
              "\n",
              "    .dataframe thead th {\n",
              "        text-align: right;\n",
              "    }\n",
              "</style>\n",
              "<table border=\"1\" class=\"dataframe\">\n",
              "  <thead>\n",
              "    <tr style=\"text-align: right;\">\n",
              "      <th></th>\n",
              "      <th>Number of Kids</th>\n",
              "      <th>ID</th>\n",
              "      <th>percentage of customers</th>\n",
              "    </tr>\n",
              "  </thead>\n",
              "  <tbody>\n",
              "    <tr>\n",
              "      <th>0</th>\n",
              "      <td>0</td>\n",
              "      <td>621</td>\n",
              "      <td>28.4</td>\n",
              "    </tr>\n",
              "    <tr>\n",
              "      <th>1</th>\n",
              "      <td>1</td>\n",
              "      <td>1101</td>\n",
              "      <td>50.3</td>\n",
              "    </tr>\n",
              "    <tr>\n",
              "      <th>2</th>\n",
              "      <td>2</td>\n",
              "      <td>414</td>\n",
              "      <td>18.9</td>\n",
              "    </tr>\n",
              "    <tr>\n",
              "      <th>3</th>\n",
              "      <td>3</td>\n",
              "      <td>53</td>\n",
              "      <td>2.4</td>\n",
              "    </tr>\n",
              "  </tbody>\n",
              "</table>\n",
              "</div>"
            ],
            "text/plain": [
              "  Number of Kids    ID  percentage of customers\n",
              "0              0   621                     28.4\n",
              "1              1  1101                     50.3\n",
              "2              2   414                     18.9\n",
              "3              3    53                      2.4"
            ]
          },
          "execution_count": 42,
          "metadata": {},
          "output_type": "execute_result"
        }
      ],
      "source": [
        "df_kids = df.groupby(['Children']).count()['ID'].reset_index()\n",
        "df_kids['Children']=df_kids['Children'].astype('object')\n",
        "df_kids['percentage of customers'] = round(df_kids['ID']/len(df)*100,1)\n",
        "df_kids.rename(columns={'Children':'Number of Kids'},inplace=True)\n",
        "df_kids"
      ]
    },
    {
      "cell_type": "code",
      "execution_count": 43,
      "metadata": {
        "colab": {
          "base_uri": "https://localhost:8080/"
        },
        "id": "GMfBjERYG-gY",
        "outputId": "d1369705-b356-42a0-93a6-57d7740cec4e"
      },
      "outputs": [
        {
          "data": {
            "text/plain": [
              "''"
            ]
          },
          "execution_count": 43,
          "metadata": {},
          "output_type": "execute_result"
        },
        {
          "data": {
            "image/png": "[encoded data removed]",
            "text/plain": [
              "<Figure size 576x360 with 1 Axes>"
            ]
          },
          "metadata": {
            "needs_background": "light"
          },
          "output_type": "display_data"
        }
      ],
      "source": [
        "plt.figure(figsize=(8,5))\n",
        "sns.barplot(data=df_kids,x='Number of Kids', y='percentage of customers',palette='BuPu')\n",
        "plt.title('Percentage of customers based on Number of Kids')\n",
        ";"
      ]
    },
    {
      "cell_type": "markdown",
      "metadata": {
        "id": "ZyBOoaGMG-gY"
      },
      "source": [
        "Based on the graph above, customers who shop in our company is customers with one kid."
      ]
    },
    {
      "cell_type": "markdown",
      "metadata": {
        "id": "QKlZuxAQG-gY"
      },
      "source": [
        "### Observation Results\n",
        "\n",
        "Based on the previous results, we can conclude that most of our customers are **undergraduate**, **married**, **42-57 years old (Gen X)**, and **have one child**. We also notice that Gen Z and divorced customers are the least customers\n",
        "\n",
        "Later, we will do more analysis on their income, expenses, product purchase, and transaction purchase behaviour to get more insights about them."
      ]
    },
    {
      "cell_type": "markdown",
      "metadata": {
        "id": "3LqXd8tqG-gY"
      },
      "source": [
        "## Observations of Customers' Income\n",
        "\n",
        "In this section, we will do analysis on customers' income based on:\n",
        "- education\n",
        "- marital status\n",
        "- number of kids\n",
        "- Age Group \n",
        "\n",
        "We do this analysis because we want to know how much our customers earn annually\n",
        "\n",
        "note : the Income data is in USD\n"
      ]
    },
    {
      "cell_type": "markdown",
      "metadata": {
        "id": "7oITfFzUG-gZ"
      },
      "source": [
        "### Education"
      ]
    },
    {
      "cell_type": "code",
      "execution_count": 44,
      "metadata": {
        "colab": {
          "base_uri": "https://localhost:8080/"
        },
        "id": "ZGwJE2GaG-gZ",
        "outputId": "d0c3ba4f-7f53-4170-f024-75bd4c733c8b"
      },
      "outputs": [
        {
          "data": {
            "image/png": "[encoded data removed]",
            "text/plain": [
              "<Figure size 432x432 with 1 Axes>"
            ]
          },
          "metadata": {
            "needs_background": "light"
          },
          "output_type": "display_data"
        }
      ],
      "source": [
        "plt.figure(figsize=(6,6))\n",
        "ax = sns.barplot(data=df, x='Education',y='Income',ci=0,estimator=np.median)\n",
        "for bar in ax.patches:\n",
        "    ax.annotate(format(bar.get_height()),\n",
        "                (bar.get_x()+bar.get_width()/2,\n",
        "                bar.get_height()),\n",
        "                ha='center',\n",
        "                va='center',\n",
        "                size=10,\n",
        "                xytext=(0,8),\n",
        "                textcoords='offset points')\n",
        "plt.xlabel('Education',size=14)\n",
        "plt.ylabel('Median of Income (in USD)')\n",
        "plt.title(\"Customers' Income based on Education\")\n",
        "plt.show()"
      ]
    },
    {
      "cell_type": "markdown",
      "metadata": {
        "id": "yerMyNUuG-gZ"
      },
      "source": [
        "From the graphs above, we can see that the customers who have higher income are Postgraduate customers, with median 53217 USD than undergraduate customers with 50437 USD"
      ]
    },
    {
      "cell_type": "markdown",
      "metadata": {
        "id": "SIGw07XGG-gZ"
      },
      "source": [
        "### Marital Status"
      ]
    },
    {
      "cell_type": "code",
      "execution_count": 45,
      "metadata": {
        "colab": {
          "base_uri": "https://localhost:8080/"
        },
        "id": "Z8WVvsMUG-gZ",
        "outputId": "bbe66d31-b363-4593-f8d6-3aeaca3be487"
      },
      "outputs": [
        {
          "data": {
            "image/png": "[encoded data removed]",
            "text/plain": [
              "<Figure size 432x432 with 1 Axes>"
            ]
          },
          "metadata": {
            "needs_background": "light"
          },
          "output_type": "display_data"
        }
      ],
      "source": [
        "plt.figure(figsize=(6,6))\n",
        "ax = sns.barplot(data=df, x='Marital_Status',y='Income',ci=0,estimator=np.median)\n",
        "for bar in ax.patches:\n",
        "    ax.annotate(format(bar.get_height()),\n",
        "                (bar.get_x()+bar.get_width()/2,\n",
        "                bar.get_height()),\n",
        "                ha='center',\n",
        "                va='center',\n",
        "                size=10,\n",
        "                xytext=(0,8),\n",
        "                textcoords='offset points')\n",
        "plt.xlabel('Marital Status',size=14)\n",
        "plt.ylabel('Median of Income (in USD)')\n",
        "plt.title(\"Customers' Income based on Marital Status\")\n",
        "plt.show()"
      ]
    },
    {
      "cell_type": "markdown",
      "metadata": {
        "id": "_2e-4UxiG-ga"
      },
      "source": [
        "From the graphs above, we can see that the customers who have the highest income to the lowest income are:\n",
        "1. Divorced customers, with median of income 54959 USD\n",
        "2. Married customers, with median of income 52308 USD\n",
        "3. Single customers, with median of income 49128 USD"
      ]
    },
    {
      "cell_type": "markdown",
      "metadata": {
        "id": "HZBSInuWG-ga"
      },
      "source": [
        "### Number of Kids"
      ]
    },
    {
      "cell_type": "code",
      "execution_count": 46,
      "metadata": {
        "colab": {
          "base_uri": "https://localhost:8080/"
        },
        "id": "0yBV6wJIG-ga",
        "outputId": "aebf51c4-65cd-4734-fec7-83a0bdeedb18"
      },
      "outputs": [
        {
          "data": {
            "image/png": "[encoded data removed]",
            "text/plain": [
              "<Figure size 432x432 with 1 Axes>"
            ]
          },
          "metadata": {
            "needs_background": "light"
          },
          "output_type": "display_data"
        }
      ],
      "source": [
        "plt.figure(figsize=(6,6))\n",
        "ax = sns.barplot(data=df, x='Children',y='Income',ci=0,estimator=np.median,palette='BuPu')\n",
        "for bar in ax.patches:\n",
        "    ax.annotate(format(bar.get_height()),\n",
        "                (bar.get_x()+bar.get_width()/2,\n",
        "                bar.get_height()),\n",
        "                ha='center',\n",
        "                va='center',\n",
        "                size=10,\n",
        "                xytext=(0,8),\n",
        "                textcoords='offset points')\n",
        "plt.xlabel('Number of Kids',size=14)\n",
        "plt.ylabel('Median of Income (in USD)')\n",
        "plt.title(\"Customers' Income based on Number of Kids\")\n",
        "plt.show()"
      ]
    },
    {
      "cell_type": "markdown",
      "metadata": {
        "id": "xYPhlfMEG-ga"
      },
      "source": [
        "From the graphs above, we can see that the customers who have the highest income to the lowest income are:\n",
        "1. No kids customers, with median of income USD 72217\n",
        "2. customers with 1 kid/teen, with median of income USD 47916\n",
        "3. customers with 3 kids/teens, with median of income USD 46102\n",
        "4. Customer with 2 kids/teens, with median of income USD 44309 "
      ]
    },
    {
      "cell_type": "markdown",
      "metadata": {
        "id": "5apZmtyNG-ga"
      },
      "source": [
        "### Age Group"
      ]
    },
    {
      "cell_type": "code",
      "execution_count": 47,
      "metadata": {
        "colab": {
          "base_uri": "https://localhost:8080/"
        },
        "id": "UKGlA7OXG-ga",
        "outputId": "4cd285d8-3a1f-40b4-cfe1-64aea9c10492"
      },
      "outputs": [
        {
          "data": {
            "image/png": "[encoded data removed]",
            "text/plain": [
              "<Figure size 432x432 with 1 Axes>"
            ]
          },
          "metadata": {
            "needs_background": "light"
          },
          "output_type": "display_data"
        }
      ],
      "source": [
        "plt.figure(figsize=(6,6))\n",
        "ax = sns.barplot(data=df, x='Age_group',y='Income',ci=0,estimator=np.median,palette='BuPu')\n",
        "for bar in ax.patches:\n",
        "    ax.annotate(format(bar.get_height()),\n",
        "                (bar.get_x()+bar.get_width()/2,\n",
        "                bar.get_height()),\n",
        "                ha='center',\n",
        "                va='center',\n",
        "                size=10,\n",
        "                xytext=(0,8),\n",
        "                textcoords='offset points')\n",
        "plt.xlabel('Age Group',size=14)\n",
        "plt.ylabel('Median of Income (in USD)')\n",
        "plt.title(\"Customers' Income based on Age Group\")\n",
        "plt.show()"
      ]
    },
    {
      "cell_type": "markdown",
      "metadata": {
        "id": "lgdqj8_CG-ga"
      },
      "source": [
        "From the graphs above, we can see that the customers who have the highest income to the lowest income are:\n",
        "1. Boomers customers, with median of income USD 58966\n",
        "2. Gen X customers, with median of income USD 53843\n",
        "3. Gen Z customers, with median of income USD 50025.5\n",
        "4. Millenials customers, with median of income USD 43292.5"
      ]
    },
    {
      "cell_type": "markdown",
      "metadata": {
        "id": "hmSZuy9fG-gb"
      },
      "source": [
        "### Observation results\n",
        "Based on Income analysis, we can tell that Postgraduate, divorced customers, no kids customers, and Boomers customers could be the main target of our sales, since they have the highest income. However, we need to check more on their expenses."
      ]
    },
    {
      "cell_type": "markdown",
      "metadata": {
        "id": "NNRItAlxG-gb"
      },
      "source": [
        "## Observations of Customers' Expenses"
      ]
    },
    {
      "cell_type": "markdown",
      "metadata": {},
      "source": [
        "### Age Group"
      ]
    },
    {
      "cell_type": "code",
      "execution_count": 48,
      "metadata": {
        "colab": {
          "base_uri": "https://localhost:8080/",
          "height": 408
        },
        "id": "PWWkL1dGG-gb",
        "outputId": "77bef4da-28e1-4144-c861-cdbefeab4a2d"
      },
      "outputs": [
        {
          "data": {
            "image/png": "[encoded data removed]",
            "text/plain": [
              "<Figure size 432x432 with 1 Axes>"
            ]
          },
          "metadata": {
            "needs_background": "light"
          },
          "output_type": "display_data"
        }
      ],
      "source": [
        "plt.figure(figsize=(6,6))\n",
        "ax = sns.barplot(data=df, x='Education',y='Expenses',ci=0,estimator=np.median)\n",
        "for bar in ax.patches:\n",
        "    ax.annotate(format(bar.get_height()),\n",
        "                (bar.get_x()+bar.get_width()/2,\n",
        "                bar.get_height()),\n",
        "                ha='center',\n",
        "                va='center',\n",
        "                size=10,\n",
        "                xytext=(0,8),\n",
        "                textcoords='offset points')\n",
        "plt.xlabel('Age Group',size=14)\n",
        "plt.ylabel('Median (in USD)')\n",
        "plt.title(\"Customers' Expenses based on Education\")\n",
        "plt.show()"
      ]
    },
    {
      "cell_type": "markdown",
      "metadata": {},
      "source": [
        "From the graph above, we find out that Postgraduate spend more than undergraduate customers."
      ]
    },
    {
      "cell_type": "code",
      "execution_count": 49,
      "metadata": {
        "colab": {
          "base_uri": "https://localhost:8080/",
          "height": 408
        },
        "id": "McjZDyt-G-gb",
        "outputId": "5b55d49d-2ec1-4181-c894-2a04dfe7f794"
      },
      "outputs": [
        {
          "data": {
            "image/png": "[encoded data removed]",
            "text/plain": [
              "<Figure size 432x432 with 1 Axes>"
            ]
          },
          "metadata": {
            "needs_background": "light"
          },
          "output_type": "display_data"
        }
      ],
      "source": [
        "plt.figure(figsize=(6,6))\n",
        "ax = sns.barplot(data=df, x='Marital_Status',y='Expenses',ci=0,estimator=np.median)\n",
        "for bar in ax.patches:\n",
        "    ax.annotate(format(bar.get_height()),\n",
        "                (bar.get_x()+bar.get_width()/2,\n",
        "                bar.get_height()),\n",
        "                ha='center',\n",
        "                va='center',\n",
        "                size=10,\n",
        "                xytext=(0,8),\n",
        "                textcoords='offset points')\n",
        "plt.xlabel('Age Group',size=14)\n",
        "plt.ylabel('Median (in USD)')\n",
        "plt.title(\"Customers' Expenses based on Marital Status\")\n",
        "plt.show()"
      ]
    },
    {
      "cell_type": "markdown",
      "metadata": {},
      "source": [
        "From the graph above, we find out that Divorced customers spend the most and single customers spend the least."
      ]
    },
    {
      "cell_type": "code",
      "execution_count": 50,
      "metadata": {
        "colab": {
          "base_uri": "https://localhost:8080/",
          "height": 408
        },
        "id": "xPeS2F5kG-gb",
        "outputId": "5954e407-b4e4-4a6c-fe45-76d39b6f9506"
      },
      "outputs": [
        {
          "data": {
            "image/png": "[encoded data removed]",
            "text/plain": [
              "<Figure size 432x432 with 1 Axes>"
            ]
          },
          "metadata": {
            "needs_background": "light"
          },
          "output_type": "display_data"
        }
      ],
      "source": [
        "plt.figure(figsize=(6,6))\n",
        "ax = sns.barplot(data=df, x='Children',y='Expenses',ci=0,estimator=np.median,palette='BuPu')\n",
        "for bar in ax.patches:\n",
        "    ax.annotate(format(bar.get_height()),\n",
        "                (bar.get_x()+bar.get_width()/2,\n",
        "                bar.get_height()),\n",
        "                ha='center',\n",
        "                va='center',\n",
        "                size=10,\n",
        "                xytext=(0,8),\n",
        "                textcoords='offset points')\n",
        "plt.xlabel('Number of Kids',size=14)\n",
        "plt.ylabel('Median (in USD)')\n",
        "plt.title(\"Customers' Expenses based on Number of kids\")\n",
        "plt.show()"
      ]
    },
    {
      "cell_type": "markdown",
      "metadata": {},
      "source": [
        "From the graph above, we find out that customers with no kids spend the most than other categories."
      ]
    },
    {
      "cell_type": "markdown",
      "metadata": {},
      "source": []
    },
    {
      "cell_type": "code",
      "execution_count": 51,
      "metadata": {
        "colab": {
          "base_uri": "https://localhost:8080/",
          "height": 408
        },
        "id": "cdvK2-jsG-gb",
        "outputId": "f7203c27-8013-4a54-cbbe-72de97335c5e"
      },
      "outputs": [
        {
          "data": {
            "image/png": "[encoded data removed]",
            "text/plain": [
              "<Figure size 432x432 with 1 Axes>"
            ]
          },
          "metadata": {
            "needs_background": "light"
          },
          "output_type": "display_data"
        }
      ],
      "source": [
        "plt.figure(figsize=(6,6))\n",
        "ax = sns.barplot(data=df, x='Age_group',y='Expenses',ci=0,estimator=np.median,palette='BuPu')\n",
        "for bar in ax.patches:\n",
        "    ax.annotate(format(bar.get_height()),\n",
        "                (bar.get_x()+bar.get_width()/2,\n",
        "                bar.get_height()),\n",
        "                ha='center',\n",
        "                va='center',\n",
        "                size=10,\n",
        "                xytext=(0,8),\n",
        "                textcoords='offset points')\n",
        "plt.xlabel('Age Group',size=14)\n",
        "plt.ylabel('Median of Income (in USD)')\n",
        "plt.title(\"Customers' Expenses based on Age Group\")\n",
        "plt.show()"
      ]
    },
    {
      "cell_type": "markdown",
      "metadata": {
        "id": "q99m7IGCMVjn"
      },
      "source": [
        "From the plot above, Gen Z spend the most in our company, while Millenials spend the least."
      ]
    },
    {
      "cell_type": "markdown",
      "metadata": {},
      "source": [
        "### Observation results\n",
        "Based on Expenses analysis, we can tell that Postgraduate, divorced customers, no kids customers, and Gen Z customers also could be the main target of our sales, since they have the highest expenses. However, we need to check more on their expenses on each product so we can figure out in what product that we can target them to."
      ]
    },
    {
      "cell_type": "markdown",
      "metadata": {
        "id": "ViP3dM6qG-gb"
      },
      "source": [
        "## Observations of Customers' Product Purchase\n",
        "Before we observe more on customers' product purchase, we have to take a look on products purchases data distributions so we can decide if we can use mean or median on later analysis\n",
        "\n"
      ]
    },
    {
      "cell_type": "code",
      "execution_count": 52,
      "metadata": {
        "colab": {
          "base_uri": "https://localhost:8080/",
          "height": 694
        },
        "id": "VAmcUtZBG-gc",
        "outputId": "8d299ac5-71f5-48c5-c366-7ef9bbaeca31"
      },
      "outputs": [
        {
          "data": {
            "text/plain": [
              "Text(0.5, 1.0, 'Gold')"
            ]
          },
          "execution_count": 52,
          "metadata": {},
          "output_type": "execute_result"
        },
        {
          "data": {
            "image/png": "[encoded data removed]",
            "text/plain": [
              "<Figure size 720x720 with 6 Axes>"
            ]
          },
          "metadata": {
            "needs_background": "light"
          },
          "output_type": "display_data"
        }
      ],
      "source": [
        "fig, axes = plt.subplots(2,3, figsize=(10,10))\n",
        "\n",
        "fig.suptitle(\"Distributions of each product purchase\",fontsize=20)\n",
        "\n",
        "\n",
        "sns.boxplot(df['MntWines'],ax=axes[0,0])\n",
        "axes[0,0].set_title('Wine')\n",
        "\n",
        "sns.boxplot(df['MntFruits'],ax=axes[0,1])\n",
        "axes[0,1].set_title('Fruits')\n",
        "\n",
        "sns.boxplot(df['MntMeatProducts'],ax=axes[0,2])\n",
        "axes[0,2].set_title('Meats')\n",
        "\n",
        "sns.boxplot(df['MntFishProducts'],ax=axes[1,0])\n",
        "axes[1,0].set_title('Fish')\n",
        "\n",
        "sns.boxplot(df['MntSweetProducts'],ax=axes[1,1])\n",
        "axes[1,1].set_title('Sweets')\n",
        "\n",
        "sns.boxplot(df['MntGoldProds'],ax=axes[1,2])\n",
        "axes[1,2].set_title('Gold')"
      ]
    },
    {
      "cell_type": "markdown",
      "metadata": {
        "id": "EHI_JkhV3YZv"
      },
      "source": [
        "After looking at our each products data distributions, we decide to use median as our main representation of data becase all data are not normal distributed. Next, we will also look at total expenses of each product and their median to get more information about what product is most spend by our customers."
      ]
    },
    {
      "cell_type": "code",
      "execution_count": 53,
      "metadata": {
        "id": "qe_VKZRk3YZv"
      },
      "outputs": [],
      "source": [
        "df_all_prod=df[['MntWines','MntFruits','MntMeatProducts','MntFishProducts','MntSweetProducts','MntGoldProds']].sum().sort_values(ascending=False)"
      ]
    },
    {
      "cell_type": "code",
      "execution_count": 54,
      "metadata": {
        "id": "9sZzGcKH3YZv"
      },
      "outputs": [],
      "source": [
        "df_all_prod = pd.DataFrame(df_all_prod).reset_index()"
      ]
    },
    {
      "cell_type": "code",
      "execution_count": 55,
      "metadata": {
        "id": "3yICZbY33YZv"
      },
      "outputs": [],
      "source": [
        "df_all_prod.rename(columns={'index':'Products',0:'Total'},inplace=True)"
      ]
    },
    {
      "cell_type": "code",
      "execution_count": 56,
      "metadata": {
        "id": "J0ZTttDU3YZv"
      },
      "outputs": [],
      "source": [
        "df_all_prod['Products'].replace({'MntWines':'Wines',\n",
        "                                'MntFruits':'Fruits',\n",
        "                                'MntMeatProducts':'Meat',\n",
        "                                'MntFishProducts':'Fish',\n",
        "                                'MntSweetProducts':'Sweets',\n",
        "                                'MntGoldProds':'Gold'},inplace=True)"
      ]
    },
    {
      "cell_type": "code",
      "execution_count": 57,
      "metadata": {
        "id": "9IkaGLfU3YZv"
      },
      "outputs": [],
      "source": [
        "df_all_prod_med = df[['MntWines','MntFruits','MntMeatProducts','MntFishProducts','MntSweetProducts','MntGoldProds']].median().sort_values(ascending=False).reset_index()"
      ]
    },
    {
      "cell_type": "code",
      "execution_count": 58,
      "metadata": {
        "id": "orOq30Qd3YZv"
      },
      "outputs": [],
      "source": [
        "df_all_prod_med.rename(columns={'index':'Products',0:'Median'},inplace=True)\n",
        "df_all_prod_med['Products'].replace({'MntWines':'Wines',\n",
        "                                'MntFruits':'Fruits',\n",
        "                                'MntMeatProducts':'Meat',\n",
        "                                'MntFishProducts':'Fish',\n",
        "                                'MntSweetProducts':'Sweets',\n",
        "                                'MntGoldProds':'Gold'},inplace=True)"
      ]
    },
    {
      "cell_type": "code",
      "execution_count": 59,
      "metadata": {
        "id": "fL-RaeRA3YZv",
        "outputId": "c3247cdc-8800-407e-e1b9-52840f06d9c0"
      },
      "outputs": [
        {
          "data": {
            "text/html": [
              "<div>\n",
              "<style scoped>\n",
              "    .dataframe tbody tr th:only-of-type {\n",
              "        vertical-align: middle;\n",
              "    }\n",
              "\n",
              "    .dataframe tbody tr th {\n",
              "        vertical-align: top;\n",
              "    }\n",
              "\n",
              "    .dataframe thead th {\n",
              "        text-align: right;\n",
              "    }\n",
              "</style>\n",
              "<table border=\"1\" class=\"dataframe\">\n",
              "  <thead>\n",
              "    <tr style=\"text-align: right;\">\n",
              "      <th></th>\n",
              "      <th>Products</th>\n",
              "      <th>Median</th>\n",
              "    </tr>\n",
              "  </thead>\n",
              "  <tbody>\n",
              "    <tr>\n",
              "      <th>0</th>\n",
              "      <td>Wines</td>\n",
              "      <td>184.0</td>\n",
              "    </tr>\n",
              "    <tr>\n",
              "      <th>1</th>\n",
              "      <td>Meat</td>\n",
              "      <td>69.0</td>\n",
              "    </tr>\n",
              "    <tr>\n",
              "      <th>2</th>\n",
              "      <td>Gold</td>\n",
              "      <td>25.0</td>\n",
              "    </tr>\n",
              "    <tr>\n",
              "      <th>3</th>\n",
              "      <td>Fish</td>\n",
              "      <td>12.0</td>\n",
              "    </tr>\n",
              "    <tr>\n",
              "      <th>4</th>\n",
              "      <td>Sweets</td>\n",
              "      <td>9.0</td>\n",
              "    </tr>\n",
              "    <tr>\n",
              "      <th>5</th>\n",
              "      <td>Fruits</td>\n",
              "      <td>8.0</td>\n",
              "    </tr>\n",
              "  </tbody>\n",
              "</table>\n",
              "</div>"
            ],
            "text/plain": [
              "  Products  Median\n",
              "0    Wines   184.0\n",
              "1     Meat    69.0\n",
              "2     Gold    25.0\n",
              "3     Fish    12.0\n",
              "4   Sweets     9.0\n",
              "5   Fruits     8.0"
            ]
          },
          "execution_count": 59,
          "metadata": {},
          "output_type": "execute_result"
        }
      ],
      "source": [
        "df_all_prod_med"
      ]
    },
    {
      "cell_type": "code",
      "execution_count": 60,
      "metadata": {
        "id": "Ti6OATv73YZw",
        "outputId": "2b7e156a-4c83-49d8-cbb7-5fb19eddbbe1"
      },
      "outputs": [
        {
          "data": {
            "text/html": [
              "<div>\n",
              "<style scoped>\n",
              "    .dataframe tbody tr th:only-of-type {\n",
              "        vertical-align: middle;\n",
              "    }\n",
              "\n",
              "    .dataframe tbody tr th {\n",
              "        vertical-align: top;\n",
              "    }\n",
              "\n",
              "    .dataframe thead th {\n",
              "        text-align: right;\n",
              "    }\n",
              "</style>\n",
              "<table border=\"1\" class=\"dataframe\">\n",
              "  <thead>\n",
              "    <tr style=\"text-align: right;\">\n",
              "      <th></th>\n",
              "      <th>Products</th>\n",
              "      <th>Total</th>\n",
              "    </tr>\n",
              "  </thead>\n",
              "  <tbody>\n",
              "    <tr>\n",
              "      <th>0</th>\n",
              "      <td>Wines</td>\n",
              "      <td>679273.0</td>\n",
              "    </tr>\n",
              "    <tr>\n",
              "      <th>1</th>\n",
              "      <td>Meat</td>\n",
              "      <td>366240.0</td>\n",
              "    </tr>\n",
              "    <tr>\n",
              "      <th>2</th>\n",
              "      <td>Gold</td>\n",
              "      <td>96921.0</td>\n",
              "    </tr>\n",
              "    <tr>\n",
              "      <th>3</th>\n",
              "      <td>Fish</td>\n",
              "      <td>83684.0</td>\n",
              "    </tr>\n",
              "    <tr>\n",
              "      <th>4</th>\n",
              "      <td>Sweets</td>\n",
              "      <td>60340.0</td>\n",
              "    </tr>\n",
              "    <tr>\n",
              "      <th>5</th>\n",
              "      <td>Fruits</td>\n",
              "      <td>58483.0</td>\n",
              "    </tr>\n",
              "  </tbody>\n",
              "</table>\n",
              "</div>"
            ],
            "text/plain": [
              "  Products     Total\n",
              "0    Wines  679273.0\n",
              "1     Meat  366240.0\n",
              "2     Gold   96921.0\n",
              "3     Fish   83684.0\n",
              "4   Sweets   60340.0\n",
              "5   Fruits   58483.0"
            ]
          },
          "execution_count": 60,
          "metadata": {},
          "output_type": "execute_result"
        }
      ],
      "source": [
        "df_all_prod"
      ]
    },
    {
      "cell_type": "code",
      "execution_count": 61,
      "metadata": {
        "id": "XF4aN0Qh3YZw",
        "outputId": "ec28ed9b-9ac4-4fee-9ea4-f6e494daf40a"
      },
      "outputs": [
        {
          "data": {
            "image/png": "[encoded data removed]",
            "text/plain": [
              "<Figure size 800x400 with 2 Axes>"
            ]
          },
          "metadata": {
            "needs_background": "light"
          },
          "output_type": "display_data"
        }
      ],
      "source": [
        "ax1= sns.set_style(style=None, rc=None)\n",
        "\n",
        "fig,ax1= plt.subplots(figsize=(10,5),dpi=80)\n",
        "\n",
        "\n",
        "sns.lineplot(data=df_all_prod_med['Median'],marker='o',ax=ax1)\n",
        "ax2=ax1.twinx()\n",
        "sns.barplot(data=df_all_prod,x='Products',y='Total',alpha=0.5,ax=ax2)\n",
        "\n",
        "plt.title('Total and Median of each product')\n",
        "plt.show()"
      ]
    },
    {
      "cell_type": "markdown",
      "metadata": {
        "id": "Y5aPqsym3YZw"
      },
      "source": [
        "From the graph above, it is shown that Wines and Meat are the most bought by our customers and the least bought customer is Fruits. From the data, we can on Wine and Meat sales than other products. To get more insights about our products sales, we need analyze our customers product purchase based on Education, Marital Status, Number of Kids, and Age group."
      ]
    },
    {
      "cell_type": "markdown",
      "metadata": {
        "id": "ljktuk4fG-gc"
      },
      "source": [
        "### Education"
      ]
    },
    {
      "cell_type": "code",
      "execution_count": 62,
      "metadata": {
        "id": "3t5O0aRJ3YZw",
        "outputId": "598662e8-5613-45db-e70d-92eeb90dc432"
      },
      "outputs": [
        {
          "data": {
            "text/html": [
              "<div>\n",
              "<style scoped>\n",
              "    .dataframe tbody tr th:only-of-type {\n",
              "        vertical-align: middle;\n",
              "    }\n",
              "\n",
              "    .dataframe tbody tr th {\n",
              "        vertical-align: top;\n",
              "    }\n",
              "\n",
              "    .dataframe thead th {\n",
              "        text-align: right;\n",
              "    }\n",
              "</style>\n",
              "<table border=\"1\" class=\"dataframe\">\n",
              "  <thead>\n",
              "    <tr style=\"text-align: right;\">\n",
              "      <th></th>\n",
              "      <th>Education</th>\n",
              "      <th>MntWines</th>\n",
              "      <th>MntFruits</th>\n",
              "      <th>MntMeatProducts</th>\n",
              "      <th>MntFishProducts</th>\n",
              "      <th>MntSweetProducts</th>\n",
              "      <th>MntGoldProds</th>\n",
              "    </tr>\n",
              "  </thead>\n",
              "  <tbody>\n",
              "    <tr>\n",
              "      <th>0</th>\n",
              "      <td>Postgraduate</td>\n",
              "      <td>202.0</td>\n",
              "      <td>7.0</td>\n",
              "      <td>68.0</td>\n",
              "      <td>10.0</td>\n",
              "      <td>6.5</td>\n",
              "      <td>20.0</td>\n",
              "    </tr>\n",
              "    <tr>\n",
              "      <th>1</th>\n",
              "      <td>Undergraduate</td>\n",
              "      <td>173.0</td>\n",
              "      <td>10.0</td>\n",
              "      <td>71.0</td>\n",
              "      <td>15.0</td>\n",
              "      <td>12.0</td>\n",
              "      <td>29.0</td>\n",
              "    </tr>\n",
              "  </tbody>\n",
              "</table>\n",
              "</div>"
            ],
            "text/plain": [
              "       Education  MntWines  MntFruits  MntMeatProducts  MntFishProducts  \\\n",
              "0   Postgraduate     202.0        7.0             68.0             10.0   \n",
              "1  Undergraduate     173.0       10.0             71.0             15.0   \n",
              "\n",
              "   MntSweetProducts  MntGoldProds  \n",
              "0               6.5          20.0  \n",
              "1              12.0          29.0  "
            ]
          },
          "execution_count": 62,
          "metadata": {},
          "output_type": "execute_result"
        }
      ],
      "source": [
        "df_product_education = df.groupby('Education').median()[['MntWines','MntFruits','MntMeatProducts','MntFishProducts','MntSweetProducts','MntGoldProds']].reset_index()\n",
        "df_product_education"
      ]
    },
    {
      "cell_type": "code",
      "execution_count": 89,
      "metadata": {},
      "outputs": [],
      "source": [
        "df_product_education.rename(columns={'MntWines':'Wines','MntFruits':'Fruits','MntMeatProducts':'Meat','MntFishProducts':'Fish','MntSweetProducts':'Sweets','MntGoldProds':'Gold'},inplace=True)"
      ]
    },
    {
      "cell_type": "code",
      "execution_count": 100,
      "metadata": {},
      "outputs": [],
      "source": [
        "df_product_education[['Wines','Fruits','Meat','Fish','Sweets','Gold']]=df_product_education[['Wines','Fruits','Meat','Fish','Sweets','Gold']].astype('int')"
      ]
    },
    {
      "cell_type": "code",
      "execution_count": 102,
      "metadata": {},
      "outputs": [
        {
          "data": {
            "text/html": [
              "<style type=\"text/css\">\n",
              "#T_d28c1_row0_col1, #T_d28c1_row1_col2, #T_d28c1_row1_col3, #T_d28c1_row1_col4, #T_d28c1_row1_col5, #T_d28c1_row1_col6 {\n",
              "  background-color: #4d004b;\n",
              "  color: #f1f1f1;\n",
              "}\n",
              "#T_d28c1_row0_col2, #T_d28c1_row0_col3, #T_d28c1_row0_col4, #T_d28c1_row0_col5, #T_d28c1_row0_col6, #T_d28c1_row1_col1 {\n",
              "  background-color: #f7fcfd;\n",
              "  color: #000000;\n",
              "}\n",
              "</style>\n",
              "<table id=\"T_d28c1_\">\n",
              "  <thead>\n",
              "    <tr>\n",
              "      <th class=\"blank level0\" >&nbsp;</th>\n",
              "      <th class=\"col_heading level0 col0\" >Education</th>\n",
              "      <th class=\"col_heading level0 col1\" >Wines</th>\n",
              "      <th class=\"col_heading level0 col2\" >Fruits</th>\n",
              "      <th class=\"col_heading level0 col3\" >Meat</th>\n",
              "      <th class=\"col_heading level0 col4\" >Fish</th>\n",
              "      <th class=\"col_heading level0 col5\" >Sweets</th>\n",
              "      <th class=\"col_heading level0 col6\" >Gold</th>\n",
              "    </tr>\n",
              "  </thead>\n",
              "  <tbody>\n",
              "    <tr>\n",
              "      <th id=\"T_d28c1_level0_row0\" class=\"row_heading level0 row0\" >0</th>\n",
              "      <td id=\"T_d28c1_row0_col0\" class=\"data row0 col0\" >Postgraduate</td>\n",
              "      <td id=\"T_d28c1_row0_col1\" class=\"data row0 col1\" >202</td>\n",
              "      <td id=\"T_d28c1_row0_col2\" class=\"data row0 col2\" >7</td>\n",
              "      <td id=\"T_d28c1_row0_col3\" class=\"data row0 col3\" >68</td>\n",
              "      <td id=\"T_d28c1_row0_col4\" class=\"data row0 col4\" >10</td>\n",
              "      <td id=\"T_d28c1_row0_col5\" class=\"data row0 col5\" >6</td>\n",
              "      <td id=\"T_d28c1_row0_col6\" class=\"data row0 col6\" >20</td>\n",
              "    </tr>\n",
              "    <tr>\n",
              "      <th id=\"T_d28c1_level0_row1\" class=\"row_heading level0 row1\" >1</th>\n",
              "      <td id=\"T_d28c1_row1_col0\" class=\"data row1 col0\" >Undergraduate</td>\n",
              "      <td id=\"T_d28c1_row1_col1\" class=\"data row1 col1\" >173</td>\n",
              "      <td id=\"T_d28c1_row1_col2\" class=\"data row1 col2\" >10</td>\n",
              "      <td id=\"T_d28c1_row1_col3\" class=\"data row1 col3\" >71</td>\n",
              "      <td id=\"T_d28c1_row1_col4\" class=\"data row1 col4\" >15</td>\n",
              "      <td id=\"T_d28c1_row1_col5\" class=\"data row1 col5\" >12</td>\n",
              "      <td id=\"T_d28c1_row1_col6\" class=\"data row1 col6\" >29</td>\n",
              "    </tr>\n",
              "  </tbody>\n",
              "</table>\n"
            ],
            "text/plain": [
              "<pandas.io.formats.style.Styler at 0x25d47a29610>"
            ]
          },
          "execution_count": 102,
          "metadata": {},
          "output_type": "execute_result"
        }
      ],
      "source": [
        "df_product_education.style.background_gradient(cmap='BuPu')"
      ]
    },
    {
      "cell_type": "code",
      "execution_count": null,
      "metadata": {
        "colab": {
          "base_uri": "https://localhost:8080/",
          "height": 390
        },
        "id": "TIFGT3szG-gc",
        "outputId": "741534f2-aeef-4f51-a8ec-06a76dc3564a"
      },
      "outputs": [
        {
          "data": {
            "text/plain": [
              "<Figure size 1800x1080 with 0 Axes>"
            ]
          },
          "metadata": {},
          "output_type": "display_data"
        },
        {
          "data": {
            "image/png": "[encoded data removed]",
            "text/plain": [
              "<Figure size 432x288 with 1 Axes>"
            ]
          },
          "metadata": {
            "needs_background": "light"
          },
          "output_type": "display_data"
        }
      ],
      "source": [
        "plt.figure(figsize=(25,15))\n",
        "\n",
        "ax = df_product_education.plot(x='Education',y=['MntWines','MntFruits','MntMeatProducts','MntFishProducts','MntSweetProducts','MntGoldProds'],kind='bar')\n",
        "plt.ylabel('Median of Purchases (in USD)')\n",
        "plt.title(\"Customers' product purchase based on Education\",fontsize=15)\n",
        "plt.legend(['Wines','Fruits','Meat','Fish','Sweet','Gold'],bbox_to_anchor=(1.3, 1.15))\n",
        "\n",
        "plt.show()"
      ]
    },
    {
      "cell_type": "markdown",
      "metadata": {
        "id": "_Q19pudWiRw3"
      },
      "source": [
        "Based on the data, we know that wines is the most bought product by postgraduate and undergraduate customers. Undergraduate customers buy has the higher purchase of each product except Wine. We also notice that Fruits is the least bought by postgraduate and undergraduate customers.\n"
      ]
    },
    {
      "cell_type": "markdown",
      "metadata": {
        "id": "V5a80__3iOYI"
      },
      "source": [
        "### Marital Status"
      ]
    },
    {
      "cell_type": "code",
      "execution_count": 64,
      "metadata": {
        "colab": {
          "base_uri": "https://localhost:8080/",
          "height": 143
        },
        "id": "iHTd_powG-gd",
        "outputId": "44f22d2b-94cc-4b8c-a782-2d1ecd6c2b26"
      },
      "outputs": [
        {
          "data": {
            "text/html": [
              "<div>\n",
              "<style scoped>\n",
              "    .dataframe tbody tr th:only-of-type {\n",
              "        vertical-align: middle;\n",
              "    }\n",
              "\n",
              "    .dataframe tbody tr th {\n",
              "        vertical-align: top;\n",
              "    }\n",
              "\n",
              "    .dataframe thead th {\n",
              "        text-align: right;\n",
              "    }\n",
              "</style>\n",
              "<table border=\"1\" class=\"dataframe\">\n",
              "  <thead>\n",
              "    <tr style=\"text-align: right;\">\n",
              "      <th></th>\n",
              "      <th>Marital_Status</th>\n",
              "      <th>MntWines</th>\n",
              "      <th>MntFruits</th>\n",
              "      <th>MntMeatProducts</th>\n",
              "      <th>MntFishProducts</th>\n",
              "      <th>MntSweetProducts</th>\n",
              "      <th>MntGoldProds</th>\n",
              "    </tr>\n",
              "  </thead>\n",
              "  <tbody>\n",
              "    <tr>\n",
              "      <th>0</th>\n",
              "      <td>Divorced</td>\n",
              "      <td>229.0</td>\n",
              "      <td>10.0</td>\n",
              "      <td>81.0</td>\n",
              "      <td>13.0</td>\n",
              "      <td>9.0</td>\n",
              "      <td>29.0</td>\n",
              "    </tr>\n",
              "    <tr>\n",
              "      <th>1</th>\n",
              "      <td>Married</td>\n",
              "      <td>183.5</td>\n",
              "      <td>8.0</td>\n",
              "      <td>68.0</td>\n",
              "      <td>12.0</td>\n",
              "      <td>8.0</td>\n",
              "      <td>23.0</td>\n",
              "    </tr>\n",
              "    <tr>\n",
              "      <th>2</th>\n",
              "      <td>Single</td>\n",
              "      <td>161.0</td>\n",
              "      <td>9.0</td>\n",
              "      <td>68.0</td>\n",
              "      <td>13.0</td>\n",
              "      <td>9.0</td>\n",
              "      <td>27.0</td>\n",
              "    </tr>\n",
              "  </tbody>\n",
              "</table>\n",
              "</div>"
            ],
            "text/plain": [
              "  Marital_Status  MntWines  MntFruits  MntMeatProducts  MntFishProducts  \\\n",
              "0       Divorced     229.0       10.0             81.0             13.0   \n",
              "1        Married     183.5        8.0             68.0             12.0   \n",
              "2         Single     161.0        9.0             68.0             13.0   \n",
              "\n",
              "   MntSweetProducts  MntGoldProds  \n",
              "0               9.0          29.0  \n",
              "1               8.0          23.0  \n",
              "2               9.0          27.0  "
            ]
          },
          "execution_count": 64,
          "metadata": {},
          "output_type": "execute_result"
        }
      ],
      "source": [
        "df_product_status = df.groupby('Marital_Status').median()[['MntWines','MntFruits','MntMeatProducts','MntFishProducts','MntSweetProducts','MntGoldProds']].reset_index()\n",
        "df_product_status"
      ]
    },
    {
      "cell_type": "code",
      "execution_count": 91,
      "metadata": {},
      "outputs": [
        {
          "data": {
            "text/html": [
              "<style type=\"text/css\">\n",
              "#T_20314_row0_col1, #T_20314_row0_col2, #T_20314_row0_col3, #T_20314_row0_col4, #T_20314_row0_col5, #T_20314_row0_col6, #T_20314_row2_col4, #T_20314_row2_col5 {\n",
              "  background-color: #4d004b;\n",
              "  color: #f1f1f1;\n",
              "}\n",
              "#T_20314_row1_col1 {\n",
              "  background-color: #aac4de;\n",
              "  color: #000000;\n",
              "}\n",
              "#T_20314_row1_col2, #T_20314_row1_col3, #T_20314_row1_col4, #T_20314_row1_col5, #T_20314_row1_col6, #T_20314_row2_col1, #T_20314_row2_col3 {\n",
              "  background-color: #f7fcfd;\n",
              "  color: #000000;\n",
              "}\n",
              "#T_20314_row2_col2 {\n",
              "  background-color: #8c95c6;\n",
              "  color: #f1f1f1;\n",
              "}\n",
              "#T_20314_row2_col6 {\n",
              "  background-color: #8b5daa;\n",
              "  color: #f1f1f1;\n",
              "}\n",
              "</style>\n",
              "<table id=\"T_20314_\">\n",
              "  <thead>\n",
              "    <tr>\n",
              "      <th class=\"blank level0\" >&nbsp;</th>\n",
              "      <th class=\"col_heading level0 col0\" >Marital_Status</th>\n",
              "      <th class=\"col_heading level0 col1\" >Wines</th>\n",
              "      <th class=\"col_heading level0 col2\" >Fruits</th>\n",
              "      <th class=\"col_heading level0 col3\" >Meat</th>\n",
              "      <th class=\"col_heading level0 col4\" >Fish</th>\n",
              "      <th class=\"col_heading level0 col5\" >Sweets</th>\n",
              "      <th class=\"col_heading level0 col6\" >Gold</th>\n",
              "    </tr>\n",
              "  </thead>\n",
              "  <tbody>\n",
              "    <tr>\n",
              "      <th id=\"T_20314_level0_row0\" class=\"row_heading level0 row0\" >0</th>\n",
              "      <td id=\"T_20314_row0_col0\" class=\"data row0 col0\" >Divorced</td>\n",
              "      <td id=\"T_20314_row0_col1\" class=\"data row0 col1\" >229.000000</td>\n",
              "      <td id=\"T_20314_row0_col2\" class=\"data row0 col2\" >10.000000</td>\n",
              "      <td id=\"T_20314_row0_col3\" class=\"data row0 col3\" >81.000000</td>\n",
              "      <td id=\"T_20314_row0_col4\" class=\"data row0 col4\" >13.000000</td>\n",
              "      <td id=\"T_20314_row0_col5\" class=\"data row0 col5\" >9.000000</td>\n",
              "      <td id=\"T_20314_row0_col6\" class=\"data row0 col6\" >29.000000</td>\n",
              "    </tr>\n",
              "    <tr>\n",
              "      <th id=\"T_20314_level0_row1\" class=\"row_heading level0 row1\" >1</th>\n",
              "      <td id=\"T_20314_row1_col0\" class=\"data row1 col0\" >Married</td>\n",
              "      <td id=\"T_20314_row1_col1\" class=\"data row1 col1\" >183.500000</td>\n",
              "      <td id=\"T_20314_row1_col2\" class=\"data row1 col2\" >8.000000</td>\n",
              "      <td id=\"T_20314_row1_col3\" class=\"data row1 col3\" >68.000000</td>\n",
              "      <td id=\"T_20314_row1_col4\" class=\"data row1 col4\" >12.000000</td>\n",
              "      <td id=\"T_20314_row1_col5\" class=\"data row1 col5\" >8.000000</td>\n",
              "      <td id=\"T_20314_row1_col6\" class=\"data row1 col6\" >23.000000</td>\n",
              "    </tr>\n",
              "    <tr>\n",
              "      <th id=\"T_20314_level0_row2\" class=\"row_heading level0 row2\" >2</th>\n",
              "      <td id=\"T_20314_row2_col0\" class=\"data row2 col0\" >Single</td>\n",
              "      <td id=\"T_20314_row2_col1\" class=\"data row2 col1\" >161.000000</td>\n",
              "      <td id=\"T_20314_row2_col2\" class=\"data row2 col2\" >9.000000</td>\n",
              "      <td id=\"T_20314_row2_col3\" class=\"data row2 col3\" >68.000000</td>\n",
              "      <td id=\"T_20314_row2_col4\" class=\"data row2 col4\" >13.000000</td>\n",
              "      <td id=\"T_20314_row2_col5\" class=\"data row2 col5\" >9.000000</td>\n",
              "      <td id=\"T_20314_row2_col6\" class=\"data row2 col6\" >27.000000</td>\n",
              "    </tr>\n",
              "  </tbody>\n",
              "</table>\n"
            ],
            "text/plain": [
              "<pandas.io.formats.style.Styler at 0x25d4d9eca00>"
            ]
          },
          "execution_count": 91,
          "metadata": {},
          "output_type": "execute_result"
        }
      ],
      "source": [
        "df_product_status.rename(columns={'MntWines':'Wines','MntFruits':'Fruits','MntMeatProducts':'Meat','MntFishProducts':'Fish','MntSweetProducts':'Sweets','MntGoldProds':'Gold'},inplace=True)\n",
        "# df_product_status.style.background_gradient(cmap='BuPu')"
      ]
    },
    {
      "cell_type": "code",
      "execution_count": 105,
      "metadata": {},
      "outputs": [],
      "source": [
        "df_product_status[['Wines','Fruits','Meat','Fish','Sweets','Gold']]=df_product_status[['Wines','Fruits','Meat','Fish','Sweets','Gold']].astype('int')"
      ]
    },
    {
      "cell_type": "code",
      "execution_count": 106,
      "metadata": {},
      "outputs": [
        {
          "data": {
            "text/html": [
              "<style type=\"text/css\">\n",
              "#T_e6f1a_row0_col1, #T_e6f1a_row0_col2, #T_e6f1a_row0_col3, #T_e6f1a_row0_col4, #T_e6f1a_row0_col5, #T_e6f1a_row0_col6, #T_e6f1a_row2_col4, #T_e6f1a_row2_col5 {\n",
              "  background-color: #4d004b;\n",
              "  color: #f1f1f1;\n",
              "}\n",
              "#T_e6f1a_row1_col1 {\n",
              "  background-color: #acc6df;\n",
              "  color: #000000;\n",
              "}\n",
              "#T_e6f1a_row1_col2, #T_e6f1a_row1_col3, #T_e6f1a_row1_col4, #T_e6f1a_row1_col5, #T_e6f1a_row1_col6, #T_e6f1a_row2_col1, #T_e6f1a_row2_col3 {\n",
              "  background-color: #f7fcfd;\n",
              "  color: #000000;\n",
              "}\n",
              "#T_e6f1a_row2_col2 {\n",
              "  background-color: #8c95c6;\n",
              "  color: #f1f1f1;\n",
              "}\n",
              "#T_e6f1a_row2_col6 {\n",
              "  background-color: #8b5daa;\n",
              "  color: #f1f1f1;\n",
              "}\n",
              "</style>\n",
              "<table id=\"T_e6f1a_\">\n",
              "  <thead>\n",
              "    <tr>\n",
              "      <th class=\"blank level0\" >&nbsp;</th>\n",
              "      <th class=\"col_heading level0 col0\" >Marital_Status</th>\n",
              "      <th class=\"col_heading level0 col1\" >Wines</th>\n",
              "      <th class=\"col_heading level0 col2\" >Fruits</th>\n",
              "      <th class=\"col_heading level0 col3\" >Meat</th>\n",
              "      <th class=\"col_heading level0 col4\" >Fish</th>\n",
              "      <th class=\"col_heading level0 col5\" >Sweets</th>\n",
              "      <th class=\"col_heading level0 col6\" >Gold</th>\n",
              "    </tr>\n",
              "  </thead>\n",
              "  <tbody>\n",
              "    <tr>\n",
              "      <th id=\"T_e6f1a_level0_row0\" class=\"row_heading level0 row0\" >0</th>\n",
              "      <td id=\"T_e6f1a_row0_col0\" class=\"data row0 col0\" >Divorced</td>\n",
              "      <td id=\"T_e6f1a_row0_col1\" class=\"data row0 col1\" >229</td>\n",
              "      <td id=\"T_e6f1a_row0_col2\" class=\"data row0 col2\" >10</td>\n",
              "      <td id=\"T_e6f1a_row0_col3\" class=\"data row0 col3\" >81</td>\n",
              "      <td id=\"T_e6f1a_row0_col4\" class=\"data row0 col4\" >13</td>\n",
              "      <td id=\"T_e6f1a_row0_col5\" class=\"data row0 col5\" >9</td>\n",
              "      <td id=\"T_e6f1a_row0_col6\" class=\"data row0 col6\" >29</td>\n",
              "    </tr>\n",
              "    <tr>\n",
              "      <th id=\"T_e6f1a_level0_row1\" class=\"row_heading level0 row1\" >1</th>\n",
              "      <td id=\"T_e6f1a_row1_col0\" class=\"data row1 col0\" >Married</td>\n",
              "      <td id=\"T_e6f1a_row1_col1\" class=\"data row1 col1\" >183</td>\n",
              "      <td id=\"T_e6f1a_row1_col2\" class=\"data row1 col2\" >8</td>\n",
              "      <td id=\"T_e6f1a_row1_col3\" class=\"data row1 col3\" >68</td>\n",
              "      <td id=\"T_e6f1a_row1_col4\" class=\"data row1 col4\" >12</td>\n",
              "      <td id=\"T_e6f1a_row1_col5\" class=\"data row1 col5\" >8</td>\n",
              "      <td id=\"T_e6f1a_row1_col6\" class=\"data row1 col6\" >23</td>\n",
              "    </tr>\n",
              "    <tr>\n",
              "      <th id=\"T_e6f1a_level0_row2\" class=\"row_heading level0 row2\" >2</th>\n",
              "      <td id=\"T_e6f1a_row2_col0\" class=\"data row2 col0\" >Single</td>\n",
              "      <td id=\"T_e6f1a_row2_col1\" class=\"data row2 col1\" >161</td>\n",
              "      <td id=\"T_e6f1a_row2_col2\" class=\"data row2 col2\" >9</td>\n",
              "      <td id=\"T_e6f1a_row2_col3\" class=\"data row2 col3\" >68</td>\n",
              "      <td id=\"T_e6f1a_row2_col4\" class=\"data row2 col4\" >13</td>\n",
              "      <td id=\"T_e6f1a_row2_col5\" class=\"data row2 col5\" >9</td>\n",
              "      <td id=\"T_e6f1a_row2_col6\" class=\"data row2 col6\" >27</td>\n",
              "    </tr>\n",
              "  </tbody>\n",
              "</table>\n"
            ],
            "text/plain": [
              "<pandas.io.formats.style.Styler at 0x25d4d9ec5b0>"
            ]
          },
          "execution_count": 106,
          "metadata": {},
          "output_type": "execute_result"
        }
      ],
      "source": [
        "df_product_status.style.background_gradient(cmap='BuPu')"
      ]
    },
    {
      "cell_type": "code",
      "execution_count": 65,
      "metadata": {
        "colab": {
          "base_uri": "https://localhost:8080/",
          "height": 358
        },
        "id": "EV9o5tYuG-gd",
        "outputId": "7fb3dd41-ee8b-4424-c535-79dc2929e0b4"
      },
      "outputs": [
        {
          "data": {
            "text/plain": [
              "<Figure size 1800x1080 with 0 Axes>"
            ]
          },
          "metadata": {},
          "output_type": "display_data"
        },
        {
          "data": {
            "image/png": "[encoded data removed]",
            "text/plain": [
              "<Figure size 432x288 with 1 Axes>"
            ]
          },
          "metadata": {
            "needs_background": "light"
          },
          "output_type": "display_data"
        }
      ],
      "source": [
        "plt.figure(figsize=(25,15))\n",
        "\n",
        "df_product_status.plot(x='Marital_Status',y=['MntWines','MntFruits','MntMeatProducts','MntFishProducts','MntSweetProducts','MntGoldProds'],kind='bar')\n",
        "plt.xlabel('Marital Status')\n",
        "plt.ylabel('Median of Purchases (in USD)')\n",
        "plt.title(\"Customers' product purchase based on Marital Status\",fontsize=15)\n",
        "plt.legend(['Wines','Fruits','Meat','Fish','Sweet','Gold'],bbox_to_anchor=(1.35, 1.15))\n",
        "plt.show()"
      ]
    },
    {
      "cell_type": "markdown",
      "metadata": {
        "id": "aTfACnb-3YZw"
      },
      "source": [
        "Based on the data, we know that divorced customers spend the most in our store. It is also interesting that many single customers buy Gold Products than married customers. Still, fruits is the least bought in this category."
      ]
    },
    {
      "cell_type": "markdown",
      "metadata": {
        "id": "9M3OQ6PvG-gd"
      },
      "source": [
        "### Number of Children"
      ]
    },
    {
      "cell_type": "code",
      "execution_count": 66,
      "metadata": {
        "colab": {
          "base_uri": "https://localhost:8080/",
          "height": 175
        },
        "id": "mClJy42EG-gd",
        "outputId": "c645cad5-5a3e-4636-a204-2fad2cf7b576"
      },
      "outputs": [
        {
          "data": {
            "text/html": [
              "<div>\n",
              "<style scoped>\n",
              "    .dataframe tbody tr th:only-of-type {\n",
              "        vertical-align: middle;\n",
              "    }\n",
              "\n",
              "    .dataframe tbody tr th {\n",
              "        vertical-align: top;\n",
              "    }\n",
              "\n",
              "    .dataframe thead th {\n",
              "        text-align: right;\n",
              "    }\n",
              "</style>\n",
              "<table border=\"1\" class=\"dataframe\">\n",
              "  <thead>\n",
              "    <tr style=\"text-align: right;\">\n",
              "      <th></th>\n",
              "      <th>Children</th>\n",
              "      <th>MntWines</th>\n",
              "      <th>MntFruits</th>\n",
              "      <th>MntMeatProducts</th>\n",
              "      <th>MntFishProducts</th>\n",
              "      <th>MntSweetProducts</th>\n",
              "      <th>MntGoldProds</th>\n",
              "    </tr>\n",
              "  </thead>\n",
              "  <tbody>\n",
              "    <tr>\n",
              "      <th>0</th>\n",
              "      <td>0</td>\n",
              "      <td>464.0</td>\n",
              "      <td>34.0</td>\n",
              "      <td>374.0</td>\n",
              "      <td>60.0</td>\n",
              "      <td>37.0</td>\n",
              "      <td>43.0</td>\n",
              "    </tr>\n",
              "    <tr>\n",
              "      <th>1</th>\n",
              "      <td>1</td>\n",
              "      <td>157.0</td>\n",
              "      <td>6.0</td>\n",
              "      <td>53.0</td>\n",
              "      <td>10.0</td>\n",
              "      <td>7.0</td>\n",
              "      <td>22.0</td>\n",
              "    </tr>\n",
              "    <tr>\n",
              "      <th>2</th>\n",
              "      <td>2</td>\n",
              "      <td>51.0</td>\n",
              "      <td>2.0</td>\n",
              "      <td>21.0</td>\n",
              "      <td>3.0</td>\n",
              "      <td>2.0</td>\n",
              "      <td>13.0</td>\n",
              "    </tr>\n",
              "    <tr>\n",
              "      <th>3</th>\n",
              "      <td>3</td>\n",
              "      <td>33.0</td>\n",
              "      <td>1.0</td>\n",
              "      <td>22.0</td>\n",
              "      <td>3.0</td>\n",
              "      <td>1.0</td>\n",
              "      <td>9.0</td>\n",
              "    </tr>\n",
              "  </tbody>\n",
              "</table>\n",
              "</div>"
            ],
            "text/plain": [
              "   Children  MntWines  MntFruits  MntMeatProducts  MntFishProducts  \\\n",
              "0         0     464.0       34.0            374.0             60.0   \n",
              "1         1     157.0        6.0             53.0             10.0   \n",
              "2         2      51.0        2.0             21.0              3.0   \n",
              "3         3      33.0        1.0             22.0              3.0   \n",
              "\n",
              "   MntSweetProducts  MntGoldProds  \n",
              "0              37.0          43.0  \n",
              "1               7.0          22.0  \n",
              "2               2.0          13.0  \n",
              "3               1.0           9.0  "
            ]
          },
          "execution_count": 66,
          "metadata": {},
          "output_type": "execute_result"
        }
      ],
      "source": [
        "df_product_kids = df.groupby('Children').median()[['MntWines','MntFruits','MntMeatProducts','MntFishProducts','MntSweetProducts','MntGoldProds']].reset_index()\n",
        "df_product_kids"
      ]
    },
    {
      "cell_type": "code",
      "execution_count": 92,
      "metadata": {},
      "outputs": [
        {
          "data": {
            "text/html": [
              "<style type=\"text/css\">\n",
              "#T_388da_row0_col0, #T_388da_row2_col3, #T_388da_row2_col4, #T_388da_row3_col1, #T_388da_row3_col2, #T_388da_row3_col3, #T_388da_row3_col4, #T_388da_row3_col5, #T_388da_row3_col6 {\n",
              "  background-color: #f7fcfd;\n",
              "  color: #000000;\n",
              "}\n",
              "#T_388da_row0_col1, #T_388da_row0_col2, #T_388da_row0_col3, #T_388da_row0_col4, #T_388da_row0_col5, #T_388da_row0_col6, #T_388da_row3_col0 {\n",
              "  background-color: #4d004b;\n",
              "  color: #f1f1f1;\n",
              "}\n",
              "#T_388da_row1_col0 {\n",
              "  background-color: #a9c4de;\n",
              "  color: #000000;\n",
              "}\n",
              "#T_388da_row1_col1 {\n",
              "  background-color: #b5cce3;\n",
              "  color: #000000;\n",
              "}\n",
              "#T_388da_row1_col2 {\n",
              "  background-color: #dae7f1;\n",
              "  color: #000000;\n",
              "}\n",
              "#T_388da_row1_col3 {\n",
              "  background-color: #e6f0f7;\n",
              "  color: #000000;\n",
              "}\n",
              "#T_388da_row1_col4 {\n",
              "  background-color: #e1ecf4;\n",
              "  color: #000000;\n",
              "}\n",
              "#T_388da_row1_col5 {\n",
              "  background-color: #d6e4f0;\n",
              "  color: #000000;\n",
              "}\n",
              "#T_388da_row1_col6 {\n",
              "  background-color: #9dbad9;\n",
              "  color: #000000;\n",
              "}\n",
              "#T_388da_row2_col0 {\n",
              "  background-color: #8b5daa;\n",
              "  color: #f1f1f1;\n",
              "}\n",
              "#T_388da_row2_col1 {\n",
              "  background-color: #f0f7fa;\n",
              "  color: #000000;\n",
              "}\n",
              "#T_388da_row2_col2, #T_388da_row2_col5 {\n",
              "  background-color: #f2f8fb;\n",
              "  color: #000000;\n",
              "}\n",
              "#T_388da_row2_col6 {\n",
              "  background-color: #e1edf5;\n",
              "  color: #000000;\n",
              "}\n",
              "</style>\n",
              "<table id=\"T_388da_\">\n",
              "  <thead>\n",
              "    <tr>\n",
              "      <th class=\"blank level0\" >&nbsp;</th>\n",
              "      <th class=\"col_heading level0 col0\" >Children</th>\n",
              "      <th class=\"col_heading level0 col1\" >Wines</th>\n",
              "      <th class=\"col_heading level0 col2\" >Fruits</th>\n",
              "      <th class=\"col_heading level0 col3\" >Meat</th>\n",
              "      <th class=\"col_heading level0 col4\" >Fish</th>\n",
              "      <th class=\"col_heading level0 col5\" >Sweets</th>\n",
              "      <th class=\"col_heading level0 col6\" >Gold</th>\n",
              "    </tr>\n",
              "  </thead>\n",
              "  <tbody>\n",
              "    <tr>\n",
              "      <th id=\"T_388da_level0_row0\" class=\"row_heading level0 row0\" >0</th>\n",
              "      <td id=\"T_388da_row0_col0\" class=\"data row0 col0\" >0</td>\n",
              "      <td id=\"T_388da_row0_col1\" class=\"data row0 col1\" >464.000000</td>\n",
              "      <td id=\"T_388da_row0_col2\" class=\"data row0 col2\" >34.000000</td>\n",
              "      <td id=\"T_388da_row0_col3\" class=\"data row0 col3\" >374.000000</td>\n",
              "      <td id=\"T_388da_row0_col4\" class=\"data row0 col4\" >60.000000</td>\n",
              "      <td id=\"T_388da_row0_col5\" class=\"data row0 col5\" >37.000000</td>\n",
              "      <td id=\"T_388da_row0_col6\" class=\"data row0 col6\" >43.000000</td>\n",
              "    </tr>\n",
              "    <tr>\n",
              "      <th id=\"T_388da_level0_row1\" class=\"row_heading level0 row1\" >1</th>\n",
              "      <td id=\"T_388da_row1_col0\" class=\"data row1 col0\" >1</td>\n",
              "      <td id=\"T_388da_row1_col1\" class=\"data row1 col1\" >157.000000</td>\n",
              "      <td id=\"T_388da_row1_col2\" class=\"data row1 col2\" >6.000000</td>\n",
              "      <td id=\"T_388da_row1_col3\" class=\"data row1 col3\" >53.000000</td>\n",
              "      <td id=\"T_388da_row1_col4\" class=\"data row1 col4\" >10.000000</td>\n",
              "      <td id=\"T_388da_row1_col5\" class=\"data row1 col5\" >7.000000</td>\n",
              "      <td id=\"T_388da_row1_col6\" class=\"data row1 col6\" >22.000000</td>\n",
              "    </tr>\n",
              "    <tr>\n",
              "      <th id=\"T_388da_level0_row2\" class=\"row_heading level0 row2\" >2</th>\n",
              "      <td id=\"T_388da_row2_col0\" class=\"data row2 col0\" >2</td>\n",
              "      <td id=\"T_388da_row2_col1\" class=\"data row2 col1\" >51.000000</td>\n",
              "      <td id=\"T_388da_row2_col2\" class=\"data row2 col2\" >2.000000</td>\n",
              "      <td id=\"T_388da_row2_col3\" class=\"data row2 col3\" >21.000000</td>\n",
              "      <td id=\"T_388da_row2_col4\" class=\"data row2 col4\" >3.000000</td>\n",
              "      <td id=\"T_388da_row2_col5\" class=\"data row2 col5\" >2.000000</td>\n",
              "      <td id=\"T_388da_row2_col6\" class=\"data row2 col6\" >13.000000</td>\n",
              "    </tr>\n",
              "    <tr>\n",
              "      <th id=\"T_388da_level0_row3\" class=\"row_heading level0 row3\" >3</th>\n",
              "      <td id=\"T_388da_row3_col0\" class=\"data row3 col0\" >3</td>\n",
              "      <td id=\"T_388da_row3_col1\" class=\"data row3 col1\" >33.000000</td>\n",
              "      <td id=\"T_388da_row3_col2\" class=\"data row3 col2\" >1.000000</td>\n",
              "      <td id=\"T_388da_row3_col3\" class=\"data row3 col3\" >22.000000</td>\n",
              "      <td id=\"T_388da_row3_col4\" class=\"data row3 col4\" >3.000000</td>\n",
              "      <td id=\"T_388da_row3_col5\" class=\"data row3 col5\" >1.000000</td>\n",
              "      <td id=\"T_388da_row3_col6\" class=\"data row3 col6\" >9.000000</td>\n",
              "    </tr>\n",
              "  </tbody>\n",
              "</table>\n"
            ],
            "text/plain": [
              "<pandas.io.formats.style.Styler at 0x25d4daa5c10>"
            ]
          },
          "execution_count": 92,
          "metadata": {},
          "output_type": "execute_result"
        }
      ],
      "source": [
        "df_product_kids.rename(columns={'MntWines':'Wines','MntFruits':'Fruits','MntMeatProducts':'Meat','MntFishProducts':'Fish','MntSweetProducts':'Sweets','MntGoldProds':'Gold'},inplace=True)\n",
        "# df_product_kids.style.background_gradient(cmap='BuPu')"
      ]
    },
    {
      "cell_type": "code",
      "execution_count": 111,
      "metadata": {},
      "outputs": [],
      "source": [
        "df_product_kids['Children']=df_product_kids['Children'].astype('str')"
      ]
    },
    {
      "cell_type": "code",
      "execution_count": 112,
      "metadata": {},
      "outputs": [
        {
          "data": {
            "text/html": [
              "<style type=\"text/css\">\n",
              "#T_409ac_row0_col1, #T_409ac_row0_col2, #T_409ac_row0_col3, #T_409ac_row0_col4, #T_409ac_row0_col5, #T_409ac_row0_col6 {\n",
              "  background-color: #4d004b;\n",
              "  color: #f1f1f1;\n",
              "}\n",
              "#T_409ac_row1_col1 {\n",
              "  background-color: #b5cce3;\n",
              "  color: #000000;\n",
              "}\n",
              "#T_409ac_row1_col2 {\n",
              "  background-color: #dae7f1;\n",
              "  color: #000000;\n",
              "}\n",
              "#T_409ac_row1_col3 {\n",
              "  background-color: #e6f0f7;\n",
              "  color: #000000;\n",
              "}\n",
              "#T_409ac_row1_col4 {\n",
              "  background-color: #e1ecf4;\n",
              "  color: #000000;\n",
              "}\n",
              "#T_409ac_row1_col5 {\n",
              "  background-color: #d6e4f0;\n",
              "  color: #000000;\n",
              "}\n",
              "#T_409ac_row1_col6 {\n",
              "  background-color: #9dbad9;\n",
              "  color: #000000;\n",
              "}\n",
              "#T_409ac_row2_col1 {\n",
              "  background-color: #f0f7fa;\n",
              "  color: #000000;\n",
              "}\n",
              "#T_409ac_row2_col2, #T_409ac_row2_col5 {\n",
              "  background-color: #f2f8fb;\n",
              "  color: #000000;\n",
              "}\n",
              "#T_409ac_row2_col3, #T_409ac_row2_col4, #T_409ac_row3_col1, #T_409ac_row3_col2, #T_409ac_row3_col3, #T_409ac_row3_col4, #T_409ac_row3_col5, #T_409ac_row3_col6 {\n",
              "  background-color: #f7fcfd;\n",
              "  color: #000000;\n",
              "}\n",
              "#T_409ac_row2_col6 {\n",
              "  background-color: #e1edf5;\n",
              "  color: #000000;\n",
              "}\n",
              "</style>\n",
              "<table id=\"T_409ac_\">\n",
              "  <thead>\n",
              "    <tr>\n",
              "      <th class=\"blank level0\" >&nbsp;</th>\n",
              "      <th class=\"col_heading level0 col0\" >Children</th>\n",
              "      <th class=\"col_heading level0 col1\" >Wines</th>\n",
              "      <th class=\"col_heading level0 col2\" >Fruits</th>\n",
              "      <th class=\"col_heading level0 col3\" >Meat</th>\n",
              "      <th class=\"col_heading level0 col4\" >Fish</th>\n",
              "      <th class=\"col_heading level0 col5\" >Sweets</th>\n",
              "      <th class=\"col_heading level0 col6\" >Gold</th>\n",
              "    </tr>\n",
              "  </thead>\n",
              "  <tbody>\n",
              "    <tr>\n",
              "      <th id=\"T_409ac_level0_row0\" class=\"row_heading level0 row0\" >0</th>\n",
              "      <td id=\"T_409ac_row0_col0\" class=\"data row0 col0\" >0</td>\n",
              "      <td id=\"T_409ac_row0_col1\" class=\"data row0 col1\" >464</td>\n",
              "      <td id=\"T_409ac_row0_col2\" class=\"data row0 col2\" >34</td>\n",
              "      <td id=\"T_409ac_row0_col3\" class=\"data row0 col3\" >374</td>\n",
              "      <td id=\"T_409ac_row0_col4\" class=\"data row0 col4\" >60</td>\n",
              "      <td id=\"T_409ac_row0_col5\" class=\"data row0 col5\" >37</td>\n",
              "      <td id=\"T_409ac_row0_col6\" class=\"data row0 col6\" >43</td>\n",
              "    </tr>\n",
              "    <tr>\n",
              "      <th id=\"T_409ac_level0_row1\" class=\"row_heading level0 row1\" >1</th>\n",
              "      <td id=\"T_409ac_row1_col0\" class=\"data row1 col0\" >1</td>\n",
              "      <td id=\"T_409ac_row1_col1\" class=\"data row1 col1\" >157</td>\n",
              "      <td id=\"T_409ac_row1_col2\" class=\"data row1 col2\" >6</td>\n",
              "      <td id=\"T_409ac_row1_col3\" class=\"data row1 col3\" >53</td>\n",
              "      <td id=\"T_409ac_row1_col4\" class=\"data row1 col4\" >10</td>\n",
              "      <td id=\"T_409ac_row1_col5\" class=\"data row1 col5\" >7</td>\n",
              "      <td id=\"T_409ac_row1_col6\" class=\"data row1 col6\" >22</td>\n",
              "    </tr>\n",
              "    <tr>\n",
              "      <th id=\"T_409ac_level0_row2\" class=\"row_heading level0 row2\" >2</th>\n",
              "      <td id=\"T_409ac_row2_col0\" class=\"data row2 col0\" >2</td>\n",
              "      <td id=\"T_409ac_row2_col1\" class=\"data row2 col1\" >51</td>\n",
              "      <td id=\"T_409ac_row2_col2\" class=\"data row2 col2\" >2</td>\n",
              "      <td id=\"T_409ac_row2_col3\" class=\"data row2 col3\" >21</td>\n",
              "      <td id=\"T_409ac_row2_col4\" class=\"data row2 col4\" >3</td>\n",
              "      <td id=\"T_409ac_row2_col5\" class=\"data row2 col5\" >2</td>\n",
              "      <td id=\"T_409ac_row2_col6\" class=\"data row2 col6\" >13</td>\n",
              "    </tr>\n",
              "    <tr>\n",
              "      <th id=\"T_409ac_level0_row3\" class=\"row_heading level0 row3\" >3</th>\n",
              "      <td id=\"T_409ac_row3_col0\" class=\"data row3 col0\" >3</td>\n",
              "      <td id=\"T_409ac_row3_col1\" class=\"data row3 col1\" >33</td>\n",
              "      <td id=\"T_409ac_row3_col2\" class=\"data row3 col2\" >1</td>\n",
              "      <td id=\"T_409ac_row3_col3\" class=\"data row3 col3\" >22</td>\n",
              "      <td id=\"T_409ac_row3_col4\" class=\"data row3 col4\" >3</td>\n",
              "      <td id=\"T_409ac_row3_col5\" class=\"data row3 col5\" >1</td>\n",
              "      <td id=\"T_409ac_row3_col6\" class=\"data row3 col6\" >9</td>\n",
              "    </tr>\n",
              "  </tbody>\n",
              "</table>\n"
            ],
            "text/plain": [
              "<pandas.io.formats.style.Styler at 0x25d4daa5280>"
            ]
          },
          "execution_count": 112,
          "metadata": {},
          "output_type": "execute_result"
        }
      ],
      "source": [
        "df_product_kids.style.background_gradient(cmap='BuPu')"
      ]
    },
    {
      "cell_type": "code",
      "execution_count": 67,
      "metadata": {
        "colab": {
          "base_uri": "https://localhost:8080/",
          "height": 320
        },
        "id": "VsEaGrb2G-gd",
        "outputId": "1a5f9164-e9bd-4116-fa40-718698b10ab8"
      },
      "outputs": [
        {
          "data": {
            "text/plain": [
              "<Figure size 1800x1080 with 0 Axes>"
            ]
          },
          "metadata": {},
          "output_type": "display_data"
        },
        {
          "data": {
            "image/png": "[encoded data removed]",
            "text/plain": [
              "<Figure size 432x288 with 1 Axes>"
            ]
          },
          "metadata": {
            "needs_background": "light"
          },
          "output_type": "display_data"
        }
      ],
      "source": [
        "plt.figure(figsize=(25,15))\n",
        "\n",
        "df_product_kids.plot(x='Children',y=['MntWines','MntFruits','MntMeatProducts','MntFishProducts','MntSweetProducts','MntGoldProds'],kind='bar')\n",
        "plt.xlabel('Number of kids')\n",
        "plt.ylabel('Median of Purchases (in USD)')\n",
        "plt.title(\"Customers' product purchase based on Number of Kids\",fontsize=15)\n",
        "plt.legend(['Wines','Fruits','Meat','Fish','Sweet','Gold'],bbox_to_anchor=(1.35, 1.15))\n",
        "plt.show()"
      ]
    },
    {
      "cell_type": "markdown",
      "metadata": {
        "id": "MEOz8bzE3YZx"
      },
      "source": [
        "Based on the data, we know that most of no kids customers spend the most in every product. We also notice that customers with 2 or 3 kids don't spend a lot of money on sweet products."
      ]
    },
    {
      "cell_type": "markdown",
      "metadata": {
        "id": "_Oo2heetG-gd"
      },
      "source": [
        "### Age Group"
      ]
    },
    {
      "cell_type": "code",
      "execution_count": 68,
      "metadata": {
        "colab": {
          "base_uri": "https://localhost:8080/",
          "height": 175
        },
        "id": "sL0GQeQHG-ge",
        "outputId": "e0789ca3-50ae-414d-e188-9d5ed2aa6cc1"
      },
      "outputs": [
        {
          "data": {
            "text/html": [
              "<div>\n",
              "<style scoped>\n",
              "    .dataframe tbody tr th:only-of-type {\n",
              "        vertical-align: middle;\n",
              "    }\n",
              "\n",
              "    .dataframe tbody tr th {\n",
              "        vertical-align: top;\n",
              "    }\n",
              "\n",
              "    .dataframe thead th {\n",
              "        text-align: right;\n",
              "    }\n",
              "</style>\n",
              "<table border=\"1\" class=\"dataframe\">\n",
              "  <thead>\n",
              "    <tr style=\"text-align: right;\">\n",
              "      <th></th>\n",
              "      <th>Age_group</th>\n",
              "      <th>MntWines</th>\n",
              "      <th>MntFruits</th>\n",
              "      <th>MntMeatProducts</th>\n",
              "      <th>MntFishProducts</th>\n",
              "      <th>MntSweetProducts</th>\n",
              "      <th>MntGoldProds</th>\n",
              "    </tr>\n",
              "  </thead>\n",
              "  <tbody>\n",
              "    <tr>\n",
              "      <th>0</th>\n",
              "      <td>Boomers</td>\n",
              "      <td>320.0</td>\n",
              "      <td>13.0</td>\n",
              "      <td>111.0</td>\n",
              "      <td>19.0</td>\n",
              "      <td>11.0</td>\n",
              "      <td>33.0</td>\n",
              "    </tr>\n",
              "    <tr>\n",
              "      <th>1</th>\n",
              "      <td>Gen X</td>\n",
              "      <td>219.0</td>\n",
              "      <td>9.0</td>\n",
              "      <td>69.0</td>\n",
              "      <td>12.0</td>\n",
              "      <td>8.0</td>\n",
              "      <td>26.0</td>\n",
              "    </tr>\n",
              "    <tr>\n",
              "      <th>2</th>\n",
              "      <td>Gen Z</td>\n",
              "      <td>187.5</td>\n",
              "      <td>12.0</td>\n",
              "      <td>125.0</td>\n",
              "      <td>23.0</td>\n",
              "      <td>20.5</td>\n",
              "      <td>33.0</td>\n",
              "    </tr>\n",
              "    <tr>\n",
              "      <th>3</th>\n",
              "      <td>Millenials</td>\n",
              "      <td>79.5</td>\n",
              "      <td>7.0</td>\n",
              "      <td>49.0</td>\n",
              "      <td>11.0</td>\n",
              "      <td>8.0</td>\n",
              "      <td>20.0</td>\n",
              "    </tr>\n",
              "  </tbody>\n",
              "</table>\n",
              "</div>"
            ],
            "text/plain": [
              "    Age_group  MntWines  MntFruits  MntMeatProducts  MntFishProducts  \\\n",
              "0     Boomers     320.0       13.0            111.0             19.0   \n",
              "1       Gen X     219.0        9.0             69.0             12.0   \n",
              "2       Gen Z     187.5       12.0            125.0             23.0   \n",
              "3  Millenials      79.5        7.0             49.0             11.0   \n",
              "\n",
              "   MntSweetProducts  MntGoldProds  \n",
              "0              11.0          33.0  \n",
              "1               8.0          26.0  \n",
              "2              20.5          33.0  \n",
              "3               8.0          20.0  "
            ]
          },
          "execution_count": 68,
          "metadata": {},
          "output_type": "execute_result"
        }
      ],
      "source": [
        "df_product_age = df.groupby('Age_group').median()[['MntWines','MntFruits','MntMeatProducts','MntFishProducts','MntSweetProducts','MntGoldProds']].reset_index()\n",
        "df_product_age"
      ]
    },
    {
      "cell_type": "code",
      "execution_count": 93,
      "metadata": {},
      "outputs": [
        {
          "data": {
            "text/html": [
              "<style type=\"text/css\">\n",
              "#T_cea5c_row0_col1, #T_cea5c_row0_col2, #T_cea5c_row0_col6, #T_cea5c_row2_col3, #T_cea5c_row2_col4, #T_cea5c_row2_col5, #T_cea5c_row2_col6 {\n",
              "  background-color: #4d004b;\n",
              "  color: #f1f1f1;\n",
              "}\n",
              "#T_cea5c_row0_col3 {\n",
              "  background-color: #84278c;\n",
              "  color: #f1f1f1;\n",
              "}\n",
              "#T_cea5c_row0_col4 {\n",
              "  background-color: #8b5daa;\n",
              "  color: #f1f1f1;\n",
              "}\n",
              "#T_cea5c_row0_col5 {\n",
              "  background-color: #c2d5e7;\n",
              "  color: #000000;\n",
              "}\n",
              "#T_cea5c_row1_col1 {\n",
              "  background-color: #8c7ab8;\n",
              "  color: #f1f1f1;\n",
              "}\n",
              "#T_cea5c_row1_col2 {\n",
              "  background-color: #a9c4de;\n",
              "  color: #000000;\n",
              "}\n",
              "#T_cea5c_row1_col3 {\n",
              "  background-color: #bcd1e5;\n",
              "  color: #000000;\n",
              "}\n",
              "#T_cea5c_row1_col4 {\n",
              "  background-color: #e8f1f7;\n",
              "  color: #000000;\n",
              "}\n",
              "#T_cea5c_row1_col5, #T_cea5c_row3_col1, #T_cea5c_row3_col2, #T_cea5c_row3_col3, #T_cea5c_row3_col4, #T_cea5c_row3_col5, #T_cea5c_row3_col6 {\n",
              "  background-color: #f7fcfd;\n",
              "  color: #000000;\n",
              "}\n",
              "#T_cea5c_row1_col6 {\n",
              "  background-color: #91a1cc;\n",
              "  color: #f1f1f1;\n",
              "}\n",
              "#T_cea5c_row2_col1 {\n",
              "  background-color: #94a6ce;\n",
              "  color: #f1f1f1;\n",
              "}\n",
              "#T_cea5c_row2_col2 {\n",
              "  background-color: #831f86;\n",
              "  color: #f1f1f1;\n",
              "}\n",
              "</style>\n",
              "<table id=\"T_cea5c_\">\n",
              "  <thead>\n",
              "    <tr>\n",
              "      <th class=\"blank level0\" >&nbsp;</th>\n",
              "      <th class=\"col_heading level0 col0\" >Age_group</th>\n",
              "      <th class=\"col_heading level0 col1\" >Wines</th>\n",
              "      <th class=\"col_heading level0 col2\" >Fruits</th>\n",
              "      <th class=\"col_heading level0 col3\" >Meat</th>\n",
              "      <th class=\"col_heading level0 col4\" >Fish</th>\n",
              "      <th class=\"col_heading level0 col5\" >Sweets</th>\n",
              "      <th class=\"col_heading level0 col6\" >Gold</th>\n",
              "    </tr>\n",
              "  </thead>\n",
              "  <tbody>\n",
              "    <tr>\n",
              "      <th id=\"T_cea5c_level0_row0\" class=\"row_heading level0 row0\" >0</th>\n",
              "      <td id=\"T_cea5c_row0_col0\" class=\"data row0 col0\" >Boomers</td>\n",
              "      <td id=\"T_cea5c_row0_col1\" class=\"data row0 col1\" >320.000000</td>\n",
              "      <td id=\"T_cea5c_row0_col2\" class=\"data row0 col2\" >13.000000</td>\n",
              "      <td id=\"T_cea5c_row0_col3\" class=\"data row0 col3\" >111.000000</td>\n",
              "      <td id=\"T_cea5c_row0_col4\" class=\"data row0 col4\" >19.000000</td>\n",
              "      <td id=\"T_cea5c_row0_col5\" class=\"data row0 col5\" >11.000000</td>\n",
              "      <td id=\"T_cea5c_row0_col6\" class=\"data row0 col6\" >33.000000</td>\n",
              "    </tr>\n",
              "    <tr>\n",
              "      <th id=\"T_cea5c_level0_row1\" class=\"row_heading level0 row1\" >1</th>\n",
              "      <td id=\"T_cea5c_row1_col0\" class=\"data row1 col0\" >Gen X</td>\n",
              "      <td id=\"T_cea5c_row1_col1\" class=\"data row1 col1\" >219.000000</td>\n",
              "      <td id=\"T_cea5c_row1_col2\" class=\"data row1 col2\" >9.000000</td>\n",
              "      <td id=\"T_cea5c_row1_col3\" class=\"data row1 col3\" >69.000000</td>\n",
              "      <td id=\"T_cea5c_row1_col4\" class=\"data row1 col4\" >12.000000</td>\n",
              "      <td id=\"T_cea5c_row1_col5\" class=\"data row1 col5\" >8.000000</td>\n",
              "      <td id=\"T_cea5c_row1_col6\" class=\"data row1 col6\" >26.000000</td>\n",
              "    </tr>\n",
              "    <tr>\n",
              "      <th id=\"T_cea5c_level0_row2\" class=\"row_heading level0 row2\" >2</th>\n",
              "      <td id=\"T_cea5c_row2_col0\" class=\"data row2 col0\" >Gen Z</td>\n",
              "      <td id=\"T_cea5c_row2_col1\" class=\"data row2 col1\" >187.500000</td>\n",
              "      <td id=\"T_cea5c_row2_col2\" class=\"data row2 col2\" >12.000000</td>\n",
              "      <td id=\"T_cea5c_row2_col3\" class=\"data row2 col3\" >125.000000</td>\n",
              "      <td id=\"T_cea5c_row2_col4\" class=\"data row2 col4\" >23.000000</td>\n",
              "      <td id=\"T_cea5c_row2_col5\" class=\"data row2 col5\" >20.500000</td>\n",
              "      <td id=\"T_cea5c_row2_col6\" class=\"data row2 col6\" >33.000000</td>\n",
              "    </tr>\n",
              "    <tr>\n",
              "      <th id=\"T_cea5c_level0_row3\" class=\"row_heading level0 row3\" >3</th>\n",
              "      <td id=\"T_cea5c_row3_col0\" class=\"data row3 col0\" >Millenials</td>\n",
              "      <td id=\"T_cea5c_row3_col1\" class=\"data row3 col1\" >79.500000</td>\n",
              "      <td id=\"T_cea5c_row3_col2\" class=\"data row3 col2\" >7.000000</td>\n",
              "      <td id=\"T_cea5c_row3_col3\" class=\"data row3 col3\" >49.000000</td>\n",
              "      <td id=\"T_cea5c_row3_col4\" class=\"data row3 col4\" >11.000000</td>\n",
              "      <td id=\"T_cea5c_row3_col5\" class=\"data row3 col5\" >8.000000</td>\n",
              "      <td id=\"T_cea5c_row3_col6\" class=\"data row3 col6\" >20.000000</td>\n",
              "    </tr>\n",
              "  </tbody>\n",
              "</table>\n"
            ],
            "text/plain": [
              "<pandas.io.formats.style.Styler at 0x25d4796da30>"
            ]
          },
          "execution_count": 93,
          "metadata": {},
          "output_type": "execute_result"
        }
      ],
      "source": [
        "df_product_age.rename(columns={'MntWines':'Wines','MntFruits':'Fruits','MntMeatProducts':'Meat','MntFishProducts':'Fish','MntSweetProducts':'Sweets','MntGoldProds':'Gold'},inplace=True)\n",
        "df_product_age.style.background_gradient(cmap='BuPu')"
      ]
    },
    {
      "cell_type": "code",
      "execution_count": 113,
      "metadata": {},
      "outputs": [],
      "source": [
        "df_product_age[['Wines','Fruits','Meat','Fish','Sweets','Gold']]=df_product_age[['Wines','Fruits','Meat','Fish','Sweets','Gold']].astype('int')"
      ]
    },
    {
      "cell_type": "code",
      "execution_count": 114,
      "metadata": {},
      "outputs": [
        {
          "data": {
            "text/html": [
              "<style type=\"text/css\">\n",
              "#T_22217_row0_col1, #T_22217_row0_col2, #T_22217_row0_col6, #T_22217_row2_col3, #T_22217_row2_col4, #T_22217_row2_col5, #T_22217_row2_col6 {\n",
              "  background-color: #4d004b;\n",
              "  color: #f1f1f1;\n",
              "}\n",
              "#T_22217_row0_col3 {\n",
              "  background-color: #84278c;\n",
              "  color: #f1f1f1;\n",
              "}\n",
              "#T_22217_row0_col4 {\n",
              "  background-color: #8b5daa;\n",
              "  color: #f1f1f1;\n",
              "}\n",
              "#T_22217_row0_col5 {\n",
              "  background-color: #bfd3e6;\n",
              "  color: #000000;\n",
              "}\n",
              "#T_22217_row1_col1 {\n",
              "  background-color: #8c7ab8;\n",
              "  color: #f1f1f1;\n",
              "}\n",
              "#T_22217_row1_col2 {\n",
              "  background-color: #a9c4de;\n",
              "  color: #000000;\n",
              "}\n",
              "#T_22217_row1_col3 {\n",
              "  background-color: #bcd1e5;\n",
              "  color: #000000;\n",
              "}\n",
              "#T_22217_row1_col4 {\n",
              "  background-color: #e8f1f7;\n",
              "  color: #000000;\n",
              "}\n",
              "#T_22217_row1_col5, #T_22217_row3_col1, #T_22217_row3_col2, #T_22217_row3_col3, #T_22217_row3_col4, #T_22217_row3_col5, #T_22217_row3_col6 {\n",
              "  background-color: #f7fcfd;\n",
              "  color: #000000;\n",
              "}\n",
              "#T_22217_row1_col6 {\n",
              "  background-color: #91a1cc;\n",
              "  color: #f1f1f1;\n",
              "}\n",
              "#T_22217_row2_col1 {\n",
              "  background-color: #94a6ce;\n",
              "  color: #f1f1f1;\n",
              "}\n",
              "#T_22217_row2_col2 {\n",
              "  background-color: #831f86;\n",
              "  color: #f1f1f1;\n",
              "}\n",
              "</style>\n",
              "<table id=\"T_22217_\">\n",
              "  <thead>\n",
              "    <tr>\n",
              "      <th class=\"blank level0\" >&nbsp;</th>\n",
              "      <th class=\"col_heading level0 col0\" >Age_group</th>\n",
              "      <th class=\"col_heading level0 col1\" >Wines</th>\n",
              "      <th class=\"col_heading level0 col2\" >Fruits</th>\n",
              "      <th class=\"col_heading level0 col3\" >Meat</th>\n",
              "      <th class=\"col_heading level0 col4\" >Fish</th>\n",
              "      <th class=\"col_heading level0 col5\" >Sweets</th>\n",
              "      <th class=\"col_heading level0 col6\" >Gold</th>\n",
              "    </tr>\n",
              "  </thead>\n",
              "  <tbody>\n",
              "    <tr>\n",
              "      <th id=\"T_22217_level0_row0\" class=\"row_heading level0 row0\" >0</th>\n",
              "      <td id=\"T_22217_row0_col0\" class=\"data row0 col0\" >Boomers</td>\n",
              "      <td id=\"T_22217_row0_col1\" class=\"data row0 col1\" >320</td>\n",
              "      <td id=\"T_22217_row0_col2\" class=\"data row0 col2\" >13</td>\n",
              "      <td id=\"T_22217_row0_col3\" class=\"data row0 col3\" >111</td>\n",
              "      <td id=\"T_22217_row0_col4\" class=\"data row0 col4\" >19</td>\n",
              "      <td id=\"T_22217_row0_col5\" class=\"data row0 col5\" >11</td>\n",
              "      <td id=\"T_22217_row0_col6\" class=\"data row0 col6\" >33</td>\n",
              "    </tr>\n",
              "    <tr>\n",
              "      <th id=\"T_22217_level0_row1\" class=\"row_heading level0 row1\" >1</th>\n",
              "      <td id=\"T_22217_row1_col0\" class=\"data row1 col0\" >Gen X</td>\n",
              "      <td id=\"T_22217_row1_col1\" class=\"data row1 col1\" >219</td>\n",
              "      <td id=\"T_22217_row1_col2\" class=\"data row1 col2\" >9</td>\n",
              "      <td id=\"T_22217_row1_col3\" class=\"data row1 col3\" >69</td>\n",
              "      <td id=\"T_22217_row1_col4\" class=\"data row1 col4\" >12</td>\n",
              "      <td id=\"T_22217_row1_col5\" class=\"data row1 col5\" >8</td>\n",
              "      <td id=\"T_22217_row1_col6\" class=\"data row1 col6\" >26</td>\n",
              "    </tr>\n",
              "    <tr>\n",
              "      <th id=\"T_22217_level0_row2\" class=\"row_heading level0 row2\" >2</th>\n",
              "      <td id=\"T_22217_row2_col0\" class=\"data row2 col0\" >Gen Z</td>\n",
              "      <td id=\"T_22217_row2_col1\" class=\"data row2 col1\" >187</td>\n",
              "      <td id=\"T_22217_row2_col2\" class=\"data row2 col2\" >12</td>\n",
              "      <td id=\"T_22217_row2_col3\" class=\"data row2 col3\" >125</td>\n",
              "      <td id=\"T_22217_row2_col4\" class=\"data row2 col4\" >23</td>\n",
              "      <td id=\"T_22217_row2_col5\" class=\"data row2 col5\" >20</td>\n",
              "      <td id=\"T_22217_row2_col6\" class=\"data row2 col6\" >33</td>\n",
              "    </tr>\n",
              "    <tr>\n",
              "      <th id=\"T_22217_level0_row3\" class=\"row_heading level0 row3\" >3</th>\n",
              "      <td id=\"T_22217_row3_col0\" class=\"data row3 col0\" >Millenials</td>\n",
              "      <td id=\"T_22217_row3_col1\" class=\"data row3 col1\" >79</td>\n",
              "      <td id=\"T_22217_row3_col2\" class=\"data row3 col2\" >7</td>\n",
              "      <td id=\"T_22217_row3_col3\" class=\"data row3 col3\" >49</td>\n",
              "      <td id=\"T_22217_row3_col4\" class=\"data row3 col4\" >11</td>\n",
              "      <td id=\"T_22217_row3_col5\" class=\"data row3 col5\" >8</td>\n",
              "      <td id=\"T_22217_row3_col6\" class=\"data row3 col6\" >20</td>\n",
              "    </tr>\n",
              "  </tbody>\n",
              "</table>\n"
            ],
            "text/plain": [
              "<pandas.io.formats.style.Styler at 0x25d4d9ecd00>"
            ]
          },
          "execution_count": 114,
          "metadata": {},
          "output_type": "execute_result"
        }
      ],
      "source": [
        "df_product_age.style.background_gradient(cmap='BuPu')"
      ]
    },
    {
      "cell_type": "code",
      "execution_count": 69,
      "metadata": {
        "colab": {
          "base_uri": "https://localhost:8080/",
          "height": 361
        },
        "id": "Q_mw4rYvG-ge",
        "outputId": "4bba46f0-c0c1-4b4c-a15a-2e66a688e482"
      },
      "outputs": [
        {
          "data": {
            "text/plain": [
              "<Figure size 1800x1080 with 0 Axes>"
            ]
          },
          "metadata": {},
          "output_type": "display_data"
        },
        {
          "data": {
            "image/png": "[encoded data removed]",
            "text/plain": [
              "<Figure size 432x288 with 1 Axes>"
            ]
          },
          "metadata": {
            "needs_background": "light"
          },
          "output_type": "display_data"
        }
      ],
      "source": [
        "plt.figure(figsize=(25,15))\n",
        "\n",
        "df_product_age.plot(x='Age_group',y=['MntWines','MntFruits','MntMeatProducts','MntFishProducts','MntSweetProducts','MntGoldProds'],kind='bar')\n",
        "plt.xlabel('Age Group')\n",
        "plt.ylabel('Median of Purchases (in USD)')\n",
        "plt.title(\"Customers' product purchase based on Age Group\",fontsize=15)\n",
        "plt.legend(['Wines','Fruits','Meat','Fish','Sweet','Gold'],bbox_to_anchor=(1.35, 1.15))\n",
        "plt.show()"
      ]
    },
    {
      "cell_type": "markdown",
      "metadata": {
        "id": "SCBrlP1X3YZx"
      },
      "source": [
        "Based on the data, Boomers ( 57 years old above ) customers spend the most on Wine products, while Gen Z customers spend the most on fish, meat and sweet products. Gold is also many bought by Gen Z and boomers customers.\n",
        "The millenials customers spend the least in every products."
      ]
    },
    {
      "cell_type": "markdown",
      "metadata": {
        "id": "F0MrF7chG-ge"
      },
      "source": [
        "### Observation results:\n",
        "1. The customers who buy wines most are postgraduate, boomers, no kids, and divorced customers.\n",
        "3. Sweets products are still dominatedly purchase by customers who are Gen Z customers.\n",
        "4. Gold product is most bought by divorced customers, undergraduate customers, boomers, and Gen Z customers\n",
        "5. Millenials has the lowest expenses of every products, eventough they are the second highest amount of our customers\n",
        "6. Meat product is most bought by no kids and Gen Z customers.\n",
        "7. Fruits is the least bought by all customers\n",
        "\n",
        "\n",
        "### Recommendations:\n",
        "1. We can target wine to our postgraduate, boomers customer, no kids, and divorced customers \n",
        "2. We also can target all products except wine to our undergraduate and single customers.\n",
        "3. We can increase gold sales on customers with kids, divorced customers, Gen Z, and boomers customers.\n",
        "4. We can target Gen Z customers by selling more meat and sweets.\n",
        "5. If we want to increase fruit sales, we need to do some quality check to see if we have provided the best fruit quality or not\n",
        "6. We need to survey our Millenials customers why their income and expenses is lower than other generations, so we can take an approach to them since they are the second largest majority of our customers"
      ]
    },
    {
      "cell_type": "markdown",
      "metadata": {
        "id": "eiZL5gQLG-ge"
      },
      "source": [
        "## Observations of customers' Transaction Channels"
      ]
    },
    {
      "cell_type": "code",
      "execution_count": 70,
      "metadata": {
        "colab": {
          "base_uri": "https://localhost:8080/"
        },
        "id": "ZU9pc5sKG-ge",
        "outputId": "0f4af09f-73b7-4d77-86d6-e9268a196d97"
      },
      "outputs": [
        {
          "data": {
            "image/png": "[encoded data removed]",
            "text/plain": [
              "<Figure size 720x360 with 3 Axes>"
            ]
          },
          "metadata": {
            "needs_background": "light"
          },
          "output_type": "display_data"
        }
      ],
      "source": [
        "fig, axes = plt.subplots(1,3, figsize=(10,5))\n",
        "\n",
        "fig.suptitle(\"Distributions of each transaction channels\",fontsize=15)\n",
        "\n",
        "\n",
        "sns.histplot(df['NumWebPurchases'],ax=axes[0],bins=30)\n",
        "axes[0].set_title('Web')\n",
        "\n",
        "sns.histplot(df['NumCatalogPurchases'],ax=axes[1],bins=30)\n",
        "axes[1].set_title('Catalog')\n",
        "\n",
        "sns.histplot(df['NumStorePurchases'],ax=axes[2],bins=30)\n",
        "axes[2].set_title('Store')\n",
        "\n",
        "plt.show()"
      ]
    },
    {
      "cell_type": "markdown",
      "metadata": {
        "id": "aPBnUCIOG-ge"
      },
      "source": [
        "From the histograms plot above, we can imply that all the transactions channels data are not normal distributions. So, we will use median as our estimator and analyze every customers catagory"
      ]
    },
    {
      "cell_type": "markdown",
      "metadata": {
        "id": "REGQsIi-3YZy"
      },
      "source": [
        "### Education"
      ]
    },
    {
      "cell_type": "code",
      "execution_count": 71,
      "metadata": {
        "colab": {
          "base_uri": "https://localhost:8080/"
        },
        "id": "6JBdkuQNG-ge",
        "outputId": "771d560f-6e35-4124-8dbb-4eae6b14cf28"
      },
      "outputs": [
        {
          "data": {
            "text/html": [
              "<div>\n",
              "<style scoped>\n",
              "    .dataframe tbody tr th:only-of-type {\n",
              "        vertical-align: middle;\n",
              "    }\n",
              "\n",
              "    .dataframe tbody tr th {\n",
              "        vertical-align: top;\n",
              "    }\n",
              "\n",
              "    .dataframe thead th {\n",
              "        text-align: right;\n",
              "    }\n",
              "</style>\n",
              "<table border=\"1\" class=\"dataframe\">\n",
              "  <thead>\n",
              "    <tr style=\"text-align: right;\">\n",
              "      <th></th>\n",
              "      <th>Education</th>\n",
              "      <th>NumWebPurchases</th>\n",
              "      <th>NumCatalogPurchases</th>\n",
              "      <th>NumStorePurchases</th>\n",
              "    </tr>\n",
              "  </thead>\n",
              "  <tbody>\n",
              "    <tr>\n",
              "      <th>0</th>\n",
              "      <td>Postgraduate</td>\n",
              "      <td>4.0</td>\n",
              "      <td>2.0</td>\n",
              "      <td>5.0</td>\n",
              "    </tr>\n",
              "    <tr>\n",
              "      <th>1</th>\n",
              "      <td>Undergraduate</td>\n",
              "      <td>4.0</td>\n",
              "      <td>2.0</td>\n",
              "      <td>5.0</td>\n",
              "    </tr>\n",
              "  </tbody>\n",
              "</table>\n",
              "</div>"
            ],
            "text/plain": [
              "       Education  NumWebPurchases  NumCatalogPurchases  NumStorePurchases\n",
              "0   Postgraduate              4.0                  2.0                5.0\n",
              "1  Undergraduate              4.0                  2.0                5.0"
            ]
          },
          "execution_count": 71,
          "metadata": {},
          "output_type": "execute_result"
        }
      ],
      "source": [
        "df_purchase_education = df.groupby('Education').median()[['NumWebPurchases','NumCatalogPurchases','NumStorePurchases']].reset_index()\n",
        "df_purchase_education"
      ]
    },
    {
      "cell_type": "code",
      "execution_count": 72,
      "metadata": {
        "colab": {
          "base_uri": "https://localhost:8080/"
        },
        "id": "qo7JTjcXG-gf",
        "outputId": "10a955f5-3dfa-4417-dea4-55d712196a9b"
      },
      "outputs": [
        {
          "data": {
            "text/plain": [
              "<Figure size 1800x720 with 0 Axes>"
            ]
          },
          "metadata": {},
          "output_type": "display_data"
        },
        {
          "data": {
            "image/png": "[encoded data removed]",
            "text/plain": [
              "<Figure size 432x288 with 1 Axes>"
            ]
          },
          "metadata": {
            "needs_background": "light"
          },
          "output_type": "display_data"
        }
      ],
      "source": [
        "plt.figure(figsize=(25,10))\n",
        "\n",
        "df_purchase_education.plot(x='Education',y=['NumWebPurchases','NumStorePurchases','NumCatalogPurchases'],kind='bar')\n",
        "plt.title(\"Customers' product purchase channel based on Education\",fontsize=15)\n",
        "plt.ylabel('Median of purchases numbers')\n",
        "plt.legend(['Web','Store','Catalog'],bbox_to_anchor =(1.5, 1.15))\n",
        "\n",
        "plt.show()"
      ]
    },
    {
      "cell_type": "markdown",
      "metadata": {
        "id": "Sk8yyfMZ3YZy"
      },
      "source": [
        "### Marital Status"
      ]
    },
    {
      "cell_type": "code",
      "execution_count": 73,
      "metadata": {
        "colab": {
          "base_uri": "https://localhost:8080/"
        },
        "id": "QbMGb1w4G-gf",
        "outputId": "cca5b14a-1c10-45ec-a66d-32cba85278a3"
      },
      "outputs": [
        {
          "data": {
            "text/html": [
              "<div>\n",
              "<style scoped>\n",
              "    .dataframe tbody tr th:only-of-type {\n",
              "        vertical-align: middle;\n",
              "    }\n",
              "\n",
              "    .dataframe tbody tr th {\n",
              "        vertical-align: top;\n",
              "    }\n",
              "\n",
              "    .dataframe thead th {\n",
              "        text-align: right;\n",
              "    }\n",
              "</style>\n",
              "<table border=\"1\" class=\"dataframe\">\n",
              "  <thead>\n",
              "    <tr style=\"text-align: right;\">\n",
              "      <th></th>\n",
              "      <th>Marital_Status</th>\n",
              "      <th>NumWebPurchases</th>\n",
              "      <th>NumCatalogPurchases</th>\n",
              "      <th>NumStorePurchases</th>\n",
              "    </tr>\n",
              "  </thead>\n",
              "  <tbody>\n",
              "    <tr>\n",
              "      <th>0</th>\n",
              "      <td>Divorced</td>\n",
              "      <td>4.0</td>\n",
              "      <td>2.0</td>\n",
              "      <td>5.0</td>\n",
              "    </tr>\n",
              "    <tr>\n",
              "      <th>1</th>\n",
              "      <td>Married</td>\n",
              "      <td>4.0</td>\n",
              "      <td>2.0</td>\n",
              "      <td>5.0</td>\n",
              "    </tr>\n",
              "    <tr>\n",
              "      <th>2</th>\n",
              "      <td>Single</td>\n",
              "      <td>3.0</td>\n",
              "      <td>2.0</td>\n",
              "      <td>5.0</td>\n",
              "    </tr>\n",
              "  </tbody>\n",
              "</table>\n",
              "</div>"
            ],
            "text/plain": [
              "  Marital_Status  NumWebPurchases  NumCatalogPurchases  NumStorePurchases\n",
              "0       Divorced              4.0                  2.0                5.0\n",
              "1        Married              4.0                  2.0                5.0\n",
              "2         Single              3.0                  2.0                5.0"
            ]
          },
          "execution_count": 73,
          "metadata": {},
          "output_type": "execute_result"
        }
      ],
      "source": [
        "df_purchase_marital = df.groupby('Marital_Status').median()[['NumWebPurchases','NumCatalogPurchases','NumStorePurchases']].reset_index()\n",
        "df_purchase_marital"
      ]
    },
    {
      "cell_type": "code",
      "execution_count": 74,
      "metadata": {
        "colab": {
          "base_uri": "https://localhost:8080/"
        },
        "id": "e34uQyGtG-gf",
        "outputId": "57f53120-8eb5-4f04-9e9d-3bca3291db1e"
      },
      "outputs": [
        {
          "data": {
            "text/plain": [
              "<Figure size 1800x720 with 0 Axes>"
            ]
          },
          "metadata": {},
          "output_type": "display_data"
        },
        {
          "data": {
            "image/png": "[encoded data removed]",
            "text/plain": [
              "<Figure size 432x288 with 1 Axes>"
            ]
          },
          "metadata": {
            "needs_background": "light"
          },
          "output_type": "display_data"
        }
      ],
      "source": [
        "plt.figure(figsize=(25,10))\n",
        "\n",
        "df_purchase_marital.plot(x='Marital_Status',y=['NumWebPurchases','NumStorePurchases','NumCatalogPurchases'],kind='bar')\n",
        "plt.title(\"Customers' product purchase channel based on Marital Status\",fontsize=15)\n",
        "plt.ylabel('Median of purchases numbers')\n",
        "plt.legend(bbox_to_anchor =(1.75, 1.15))\n",
        "\n",
        "plt.show()"
      ]
    },
    {
      "cell_type": "markdown",
      "metadata": {
        "id": "g9xjz1563YZy"
      },
      "source": [
        "### Number of Children"
      ]
    },
    {
      "cell_type": "code",
      "execution_count": 75,
      "metadata": {
        "id": "zgEnXQpdG-gf"
      },
      "outputs": [],
      "source": [
        "df_purchase_children = df.groupby('Children').median()[['NumWebPurchases','NumCatalogPurchases','NumStorePurchases']].reset_index()"
      ]
    },
    {
      "cell_type": "code",
      "execution_count": 76,
      "metadata": {
        "colab": {
          "base_uri": "https://localhost:8080/"
        },
        "id": "fhs2MI0xG-gf",
        "outputId": "bcae3ba7-6193-4cc8-c637-c072fd1329f0"
      },
      "outputs": [
        {
          "data": {
            "text/plain": [
              "<Figure size 1800x720 with 0 Axes>"
            ]
          },
          "metadata": {},
          "output_type": "display_data"
        },
        {
          "data": {
            "image/png": "[encoded data removed]",
            "text/plain": [
              "<Figure size 432x288 with 1 Axes>"
            ]
          },
          "metadata": {
            "needs_background": "light"
          },
          "output_type": "display_data"
        }
      ],
      "source": [
        "plt.figure(figsize=(25,10))\n",
        "\n",
        "df_purchase_children.plot(x='Children',y=['NumWebPurchases','NumStorePurchases','NumCatalogPurchases'],kind='bar')\n",
        "plt.title(\"Customers' product purchase channel based on Children\",fontsize=15)\n",
        "plt.ylabel('Median of purchases numbers')\n",
        "plt.legend(['Web','Store','Catalog'],bbox_to_anchor =(1.5, 1.15))\n",
        "\n",
        "plt.show()"
      ]
    },
    {
      "cell_type": "markdown",
      "metadata": {
        "id": "q142z2Bf3YZz"
      },
      "source": [
        "### Age Group"
      ]
    },
    {
      "cell_type": "code",
      "execution_count": 77,
      "metadata": {
        "colab": {
          "base_uri": "https://localhost:8080/"
        },
        "id": "hp0fGLnYG-gf",
        "outputId": "017f6b73-1612-4c82-baed-0fd2a2efdfe9"
      },
      "outputs": [
        {
          "data": {
            "text/html": [
              "<div>\n",
              "<style scoped>\n",
              "    .dataframe tbody tr th:only-of-type {\n",
              "        vertical-align: middle;\n",
              "    }\n",
              "\n",
              "    .dataframe tbody tr th {\n",
              "        vertical-align: top;\n",
              "    }\n",
              "\n",
              "    .dataframe thead th {\n",
              "        text-align: right;\n",
              "    }\n",
              "</style>\n",
              "<table border=\"1\" class=\"dataframe\">\n",
              "  <thead>\n",
              "    <tr style=\"text-align: right;\">\n",
              "      <th></th>\n",
              "      <th>Age_group</th>\n",
              "      <th>NumWebPurchases</th>\n",
              "      <th>NumCatalogPurchases</th>\n",
              "      <th>NumStorePurchases</th>\n",
              "    </tr>\n",
              "  </thead>\n",
              "  <tbody>\n",
              "    <tr>\n",
              "      <th>0</th>\n",
              "      <td>Boomers</td>\n",
              "      <td>4.0</td>\n",
              "      <td>3.0</td>\n",
              "      <td>6.0</td>\n",
              "    </tr>\n",
              "    <tr>\n",
              "      <th>1</th>\n",
              "      <td>Gen X</td>\n",
              "      <td>4.0</td>\n",
              "      <td>2.0</td>\n",
              "      <td>5.0</td>\n",
              "    </tr>\n",
              "    <tr>\n",
              "      <th>2</th>\n",
              "      <td>Gen Z</td>\n",
              "      <td>3.0</td>\n",
              "      <td>2.5</td>\n",
              "      <td>5.0</td>\n",
              "    </tr>\n",
              "    <tr>\n",
              "      <th>3</th>\n",
              "      <td>Millenials</td>\n",
              "      <td>3.0</td>\n",
              "      <td>1.0</td>\n",
              "      <td>4.0</td>\n",
              "    </tr>\n",
              "  </tbody>\n",
              "</table>\n",
              "</div>"
            ],
            "text/plain": [
              "    Age_group  NumWebPurchases  NumCatalogPurchases  NumStorePurchases\n",
              "0     Boomers              4.0                  3.0                6.0\n",
              "1       Gen X              4.0                  2.0                5.0\n",
              "2       Gen Z              3.0                  2.5                5.0\n",
              "3  Millenials              3.0                  1.0                4.0"
            ]
          },
          "execution_count": 77,
          "metadata": {},
          "output_type": "execute_result"
        }
      ],
      "source": [
        "df_purchase_age = df.groupby('Age_group').median()[['NumWebPurchases','NumCatalogPurchases','NumStorePurchases']].reset_index()\n",
        "\n",
        "df_purchase_age"
      ]
    },
    {
      "cell_type": "code",
      "execution_count": 78,
      "metadata": {
        "id": "iqBp8kaC3YZz",
        "outputId": "420be939-d7f2-40b2-f57b-547bf1e73e53"
      },
      "outputs": [
        {
          "data": {
            "text/plain": [
              "<Figure size 1800x720 with 0 Axes>"
            ]
          },
          "metadata": {},
          "output_type": "display_data"
        },
        {
          "data": {
            "image/png": "[encoded data removed]",
            "text/plain": [
              "<Figure size 432x288 with 1 Axes>"
            ]
          },
          "metadata": {
            "needs_background": "light"
          },
          "output_type": "display_data"
        }
      ],
      "source": [
        "plt.figure(figsize=(25,10))\n",
        "\n",
        "df_purchase_age.plot(x='Age_group',y=['NumWebPurchases','NumStorePurchases','NumCatalogPurchases'],kind='bar')\n",
        "plt.title(\"Customers' product purchase channel based on Age_group\",fontsize=15)\n",
        "plt.ylabel('Median of purchases numbers')\n",
        "plt.legend(['Web','Store','Catalog'],bbox_to_anchor =(1.5, 1.15))\n",
        "\n",
        "plt.show()"
      ]
    },
    {
      "cell_type": "markdown",
      "metadata": {
        "id": "gjHSdSmGG-gg"
      },
      "source": [
        "`Observation results:\n",
        "1. Most customers like to go shopping in Store\n",
        "2. Catalog channel is least favorite for customers based on every category.\n",
        "3. Besides store channel, web channel is also second favorite channel for every category of customers\n",
        "\n",
        "Recommendations:\n",
        "1. We can improve sales on store channel, because our customers tend to purchase products from here\n",
        "2. It is needed more observations why catalog channel is the least favorite channel (e.g doing some survey to customers)\n",
        "3. Web channel could be the next most favorite channel in the future, so we can also develop our website channel as well."
      ]
    },
    {
      "cell_type": "markdown",
      "metadata": {
        "id": "gudrmKhaG-gg"
      },
      "source": [
        "## Correlation between total product sales and transactions channel\n",
        "\n",
        "to check if total product sales/customers' expenses and transactions channel are correlated, we must perform the correlation test. Here, we use **spearman correlation test** because we have noticed that the distribution of the transcations channel ('NumWebPurchases', 'NumCatalogPurchases','NumStorePurchases') are not normal. "
      ]
    },
    {
      "cell_type": "code",
      "execution_count": 79,
      "metadata": {
        "id": "msnoYSMZG-gg"
      },
      "outputs": [],
      "source": [
        "df_corr_purchase = df[['Expenses','NumWebPurchases', 'NumCatalogPurchases','NumStorePurchases']]"
      ]
    },
    {
      "cell_type": "code",
      "execution_count": 80,
      "metadata": {
        "colab": {
          "base_uri": "https://localhost:8080/"
        },
        "id": "KPCeGV7FG-gg",
        "outputId": "4067daf7-8226-433f-b2a5-c0a4a9b12581"
      },
      "outputs": [
        {
          "data": {
            "text/html": [
              "<div>\n",
              "<style scoped>\n",
              "    .dataframe tbody tr th:only-of-type {\n",
              "        vertical-align: middle;\n",
              "    }\n",
              "\n",
              "    .dataframe tbody tr th {\n",
              "        vertical-align: top;\n",
              "    }\n",
              "\n",
              "    .dataframe thead th {\n",
              "        text-align: right;\n",
              "    }\n",
              "</style>\n",
              "<table border=\"1\" class=\"dataframe\">\n",
              "  <thead>\n",
              "    <tr style=\"text-align: right;\">\n",
              "      <th></th>\n",
              "      <th>Expenses</th>\n",
              "    </tr>\n",
              "  </thead>\n",
              "  <tbody>\n",
              "    <tr>\n",
              "      <th>Expenses</th>\n",
              "      <td>1.000000</td>\n",
              "    </tr>\n",
              "    <tr>\n",
              "      <th>NumWebPurchases</th>\n",
              "      <td>0.728618</td>\n",
              "    </tr>\n",
              "    <tr>\n",
              "      <th>NumCatalogPurchases</th>\n",
              "      <td>0.891455</td>\n",
              "    </tr>\n",
              "    <tr>\n",
              "      <th>NumStorePurchases</th>\n",
              "      <td>0.810606</td>\n",
              "    </tr>\n",
              "  </tbody>\n",
              "</table>\n",
              "</div>"
            ],
            "text/plain": [
              "                     Expenses\n",
              "Expenses             1.000000\n",
              "NumWebPurchases      0.728618\n",
              "NumCatalogPurchases  0.891455\n",
              "NumStorePurchases    0.810606"
            ]
          },
          "execution_count": 80,
          "metadata": {},
          "output_type": "execute_result"
        }
      ],
      "source": [
        "df_corr_purchase.corr(method='spearman')[['Expenses']]"
      ]
    },
    {
      "cell_type": "code",
      "execution_count": 81,
      "metadata": {
        "colab": {
          "base_uri": "https://localhost:8080/"
        },
        "id": "jymW8RyUG-gg",
        "outputId": "8c2ddac3-ffdd-4d90-a13e-b014d048a424"
      },
      "outputs": [
        {
          "data": {
            "image/png": "[encoded data removed]",
            "text/plain": [
              "<Figure size 432x288 with 2 Axes>"
            ]
          },
          "metadata": {
            "needs_background": "light"
          },
          "output_type": "display_data"
        }
      ],
      "source": [
        "sns.heatmap(df_corr_purchase.corr(method='spearman')[['Expenses']],annot=True)\n",
        "plt.title('Correlation between Expenses and all Transaction Channels')\n",
        "plt.show()"
      ]
    },
    {
      "cell_type": "markdown",
      "metadata": {
        "id": "2qSJTNX_3YZz"
      },
      "source": [
        "From the plot above, it is shown that expenses and transaction channels have strong relationships, especially NumCatalogPurchases and Expenses. So, if we want our customers to shop more with us, we better improve our all transaction channels to get better sales number in every product by giving discount and better facilitation to satisfy our customers."
      ]
    },
    {
      "cell_type": "markdown",
      "metadata": {
        "id": "0mtp0IrSG-gh"
      },
      "source": [
        "## Conclusion\n",
        "\n",
        "To summarize our analysis, here are the things that we should notice :\n",
        "\n",
        "**Characteristics of customers who purchase products**\n",
        "\n",
        "1. Postgraduate customers has the highest income, however, they spend money most on Wine. So, we can target them to sell more various of Wine than other products. We can also target the divorced customers to buy Wine. \n",
        "2. Undergraduate customers has the highest expenses on every product except Wine. So, we can target them to sell our product except Wine.\n",
        "3. There is a chance Gold can help to increase sales since its purchasing is dominated by divorced customers.\n",
        "4. We can also target the Boomers customers to shop with us more since their expenses is the highest among all the age groups.\n",
        "5. We can target meat and sweets to our Gen Z customers\n",
        "6. We want to target our millenials, we have to some survey why their income and expenses are the lowest.\n",
        "7. If we want to increase fruit sales, we need to do some quality check on fruits to see if we have provided the best fruit quality or not\n",
        "\n",
        "**Characteristics of customers who do transaction through channels**\n",
        "\n",
        "1. Most of customers purchase products in store. So, we can improve our stores to increase the sales.\n",
        "2. Web channel is in the second favorite for customers to shop. If we can improve the web channel too, it might boost the sales.\n",
        "3. Catalog is the least favorite for customers to shop. \n",
        "\n",
        "**Relationship between Expenses and total sales amount/customers' expenses**\n",
        "\n",
        "After performing spearman correlation test on Expenses and transaction channels, it is shown that they are strong corelated. So, we have to improve our transaction channels to get better sales number in every product.\n",
        "\n",
        "## Future Analysis\n",
        "\n",
        "1. We can do clustering based on customers' income and expenses, so we can have more understanding about our customers.\n",
        "2. We can also analyse on customers' engaged days and its relationship with their number of purchases from each channel.\n"
      ]
    },
    {
      "cell_type": "code",
      "execution_count": null,
      "metadata": {
        "id": "WLG1Z0chG-gi"
      },
      "outputs": [],
      "source": []
    }
  ],
  "metadata": {
    "colab": {
      "collapsed_sections": [
        "VoNOGXSoG-gT",
        "Y9yXEncJG-gT",
        "eWz--xw8G-gV",
        "vHX5ymkGG-gV",
        "ats0HCdAG-gW",
        "0SOmF4arG-gW",
        "dum3cgEvG-gW",
        "1GS8hA1lG-gX",
        "ZMhjVz6QG-gX",
        "6H1q1zNgG-gY",
        "m2R4fSukG-gY",
        "QKlZuxAQG-gY",
        "3LqXd8tqG-gY",
        "7oITfFzUG-gZ",
        "SIGw07XGG-gZ",
        "HZBSInuWG-ga",
        "5apZmtyNG-ga",
        "eiZL5gQLG-ge",
        "gudrmKhaG-gg"
      ],
      "name": "customer_personal_analysis_final (1).ipynb",
      "provenance": []
    },
    "kernelspec": {
      "display_name": "Python 3.9.7 ('base')",
      "language": "python",
      "name": "python3"
    },
    "language_info": {
      "codemirror_mode": {
        "name": "ipython",
        "version": 3
      },
      "file_extension": ".py",
      "mimetype": "text/x-python",
      "name": "python",
      "nbconvert_exporter": "python",
      "pygments_lexer": "ipython3",
      "version": "3.9.7"
    },
    "orig_nbformat": 4,
    "vscode": {
      "interpreter": {
        "hash": "ea183bb76f01b1c0f19d4faefaf72022d209702e86a95c61a348be375d9bcd4f"
      }
    }
  },
  "nbformat": 4,
  "nbformat_minor": 0
}
